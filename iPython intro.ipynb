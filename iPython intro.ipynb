{
 "cells": [
  {
   "cell_type": "markdown",
   "metadata": {},
   "source": [
    "# IPython\n",
    "## History\n",
    "\n",
    "- was started in 2001\n",
    "- probably one of the greatest projects in the Python ecosystem.\n",
    "\n",
    "- It's widely used by the PyData community for big data analytics\n",
    "\n",
    "- Recently changed name to Jupyter\n",
    "\n"
   ]
  },
  {
   "cell_type": "markdown",
   "metadata": {},
   "source": [
    "\n",
    "## Features\n",
    "\n",
    "- inline support for markdown\n",
    "- fullly powered Python repl, auto completion, inline documentation etc\n",
    "- inline graphs\n",
    "- export to many different formats\n",
    "- ability to share notebooks on the network\n"
   ]
  },
  {
   "cell_type": "markdown",
   "metadata": {},
   "source": [
    "## Python crash course"
   ]
  },
  {
   "cell_type": "code",
   "execution_count": null,
   "metadata": {
    "collapsed": false
   },
   "outputs": [],
   "source": [
    "# this is intepreted as code\n",
    "1 + 4"
   ]
  },
  {
   "cell_type": "markdown",
   "metadata": {},
   "source": [
    "### For loop"
   ]
  },
  {
   "cell_type": "code",
   "execution_count": null,
   "metadata": {
    "collapsed": false
   },
   "outputs": [],
   "source": [
    "for i in range(10):\n",
    "    print(i * 2)"
   ]
  },
  {
   "cell_type": "markdown",
   "metadata": {},
   "source": [
    "### Defining a function\n",
    "\n",
    "The factorial for a natural number *n* is defined as:\n",
    "\n",
    "$$ factorial(0) = 1 $$\n",
    "$$ factorial(n) = n * factorial(n - 1) $$"
   ]
  },
  {
   "cell_type": "code",
   "execution_count": null,
   "metadata": {
    "collapsed": false
   },
   "outputs": [],
   "source": [
    "def factorial(n):\n",
    "    if n <= 1:\n",
    "        return 1\n",
    "    else:\n",
    "        return n * (factorial (n - 1))\n",
    "    \n",
    "print(factorial(10))"
   ]
  },
  {
   "cell_type": "markdown",
   "metadata": {},
   "source": [
    "### Creating a class "
   ]
  },
  {
   "cell_type": "code",
   "execution_count": null,
   "metadata": {
    "collapsed": false
   },
   "outputs": [],
   "source": [
    "class Duck(object):\n",
    "    def __init__(self, name):\n",
    "        self.name = name\n",
    "        \n",
    "    def walk(self):\n",
    "        print(\"%s is walking\" % self.name)\n",
    "        \n",
    "    def quack(self):\n",
    "        print(\"%s says quack quack\" % self.name)\n",
    "        \n",
    "tom_the_duck = Duck(\"Tom\")\n",
    "tom_the_duck.walk()\n",
    "tom_the_duck.quack()"
   ]
  },
  {
   "cell_type": "code",
   "execution_count": null,
   "metadata": {
    "collapsed": false
   },
   "outputs": [],
   "source": [
    "class RubberDuck(Duck):\n",
    "    def walk(self):\n",
    "        print(\"I can't walk I'm made of rubber!\")\n",
    "        \n",
    "rubber_duck = RubberDuck(\"Yellow\")\n",
    "rubber_duck.walk()\n",
    "rubber_duck.quack()"
   ]
  },
  {
   "cell_type": "markdown",
   "metadata": {},
   "source": [
    "### Using external libraries"
   ]
  },
  {
   "cell_type": "code",
   "execution_count": null,
   "metadata": {
    "collapsed": false
   },
   "outputs": [],
   "source": [
    "import requests\n",
    "website = requests.get(\"http://google.co.uk/\")"
   ]
  },
  {
   "cell_type": "code",
   "execution_count": null,
   "metadata": {
    "collapsed": true
   },
   "outputs": [],
   "source": []
  }
 ],
 "metadata": {
  "kernelspec": {
   "display_name": "Python 3",
   "language": "python",
   "name": "python3"
  },
  "language_info": {
   "codemirror_mode": {
    "name": "ipython",
    "version": 3
   },
   "file_extension": ".py",
   "mimetype": "text/x-python",
   "name": "python",
   "nbconvert_exporter": "python",
   "pygments_lexer": "ipython3",
   "version": "3.5.2"
  }
 },
 "nbformat": 4,
 "nbformat_minor": 0
}
