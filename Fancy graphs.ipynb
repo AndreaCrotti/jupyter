{
 "cells": [
  {
   "cell_type": "markdown",
   "metadata": {},
   "source": [
    "## Three dimensions!"
   ]
  },
  {
   "cell_type": "code",
   "execution_count": null,
   "metadata": {
    "collapsed": false
   },
   "outputs": [],
   "source": [
    "%matplotlib inline\n",
    "from mpl_toolkits.mplot3d.axes3d import Axes3D\n",
    "import matplotlib.pyplot as plt\n",
    "\n",
    "\n",
    "# imports specific to the plots in this example\n",
    "import numpy as np\n",
    "from matplotlib import cm\n",
    "from mpl_toolkits.mplot3d.axes3d import get_test_data\n",
    "\n",
    "def three_dimensions():\n",
    "    # Twice as wide as it is tall.\n",
    "    fig = plt.figure(figsize=plt.figaspect(0.5))\n",
    "\n",
    "    #---- First subplot\n",
    "    ax = fig.add_subplot(1, 2, 1, projection='3d')\n",
    "    X = np.arange(-5, 5, 0.25)\n",
    "    Y = np.arange(-5, 5, 0.25)\n",
    "    X, Y = np.meshgrid(X, Y)\n",
    "    R = np.sqrt(X**2 + Y**2)\n",
    "    Z = np.sin(R)\n",
    "    surf = ax.plot_surface(X, Y, Z, rstride=1, cstride=1, cmap=cm.coolwarm,\n",
    "            linewidth=0, antialiased=False)\n",
    "\n",
    "    ax.set_zlim3d(-1.01, 1.01)\n",
    "\n",
    "    fig.colorbar(surf, shrink=0.5, aspect=10)\n",
    "\n",
    "    #---- Second subplot\n",
    "    ax = fig.add_subplot(1, 2, 2, projection='3d')\n",
    "    X, Y, Z = get_test_data(0.05)\n",
    "    ax.plot_wireframe(X, Y, Z, rstride=10, cstride=10)\n",
    "\n",
    "    plt.show()\n",
    "\n",
    "three_dimensions()"
   ]
  },
  {
   "cell_type": "markdown",
   "metadata": {},
   "source": [
    "## And now using Plot.ly for interactive graphs"
   ]
  },
  {
   "cell_type": "code",
   "execution_count": null,
   "metadata": {
    "collapsed": false
   },
   "outputs": [],
   "source": [
    "import plotly.plotly as py\n",
    "import os\n",
    "\n",
    "py.sign_in(os.environ['PLOTLY_API_USERNAME'], \n",
    "           os.environ['PLOTLY_API_KEY'])"
   ]
  },
  {
   "cell_type": "code",
   "execution_count": null,
   "metadata": {
    "collapsed": false,
    "scrolled": false
   },
   "outputs": [],
   "source": [
    "from plotly.graph_objs import *\n",
    "\n",
    "trace0 = Scatter(\n",
    "    x=[1, 2, 3, 4],\n",
    "    y=[10, 15, 13, 17]\n",
    ")\n",
    "trace1 = Scatter(\n",
    "    x=[1, 2, 3, 4],\n",
    "    y=[16, 5, 11, 9]\n",
    ")\n",
    "data = Data([trace0, trace1])\n",
    "\n",
    "py.iplot(data, filename = 'basic-line')"
   ]
  },
  {
   "cell_type": "code",
   "execution_count": null,
   "metadata": {
    "collapsed": false
   },
   "outputs": [],
   "source": [
    "import matplotlib.pyplot as plt\n",
    "import numpy as np\n",
    "import plotly.plotly as py\n",
    "\n",
    "n = 50\n",
    "x, y, z, s, ew = np.random.rand(5, n)\n",
    "c, ec = np.random.rand(2, n, 4)\n",
    "area_scale, width_scale = 500, 5\n",
    "\n",
    "fig, ax = plt.subplots()\n",
    "sc = ax.scatter(x, y, c=c,\n",
    "                s=np.square(s)*area_scale,\n",
    "                edgecolor=ec,\n",
    "                linewidth=ew*width_scale)\n",
    "ax.grid()\n",
    "\n",
    "py.iplot_mpl(fig)"
   ]
  },
  {
   "cell_type": "markdown",
   "metadata": {
    "collapsed": true
   },
   "source": [
    "### Some fancy networks"
   ]
  },
  {
   "cell_type": "code",
   "execution_count": null,
   "metadata": {
    "collapsed": false
   },
   "outputs": [],
   "source": [
    "import networkx as nx\n",
    "\n",
    "def custom_edge_colors():\n",
    "    #create an empty graph\n",
    "    G = nx.Graph()\n",
    "    \n",
    "    #add three edges\n",
    "    G.add_edge('A','B');\n",
    "    G.add_edge('B','C');\n",
    "    G.add_edge('C','A');\n",
    "\n",
    "    #draw the graph\n",
    "    nx.draw(G)\n",
    "\n",
    "    #show the created graphs\n",
    "    plt.show()\n",
    "\n",
    "    custom_edge_color={}\n",
    "    custom_edge_color['A','B'] = 'c'\n",
    "    custom_edge_color['B','C'] = 'm'\n",
    "    custom_edge_color['C','A'] = 'y'\n",
    "\n",
    "    #draw the graph\n",
    "    nx.draw(G,edge_list = custom_edge_color.keys(), edge_color=custom_edge_color.values())\n",
    "\n",
    "    #show with custom node colors\n",
    "    plt.show()\n",
    "\n",
    "custom_edge_colors()"
   ]
  },
  {
   "cell_type": "code",
   "execution_count": null,
   "metadata": {
    "collapsed": true
   },
   "outputs": [],
   "source": []
  }
 ],
 "metadata": {
  "kernelspec": {
   "display_name": "Python 3",
   "language": "python",
   "name": "python3"
  },
  "language_info": {
   "codemirror_mode": {
    "name": "ipython",
    "version": 3
   },
   "file_extension": ".py",
   "mimetype": "text/x-python",
   "name": "python",
   "nbconvert_exporter": "python",
   "pygments_lexer": "ipython3",
   "version": "3.5.2"
  }
 },
 "nbformat": 4,
 "nbformat_minor": 0
}
