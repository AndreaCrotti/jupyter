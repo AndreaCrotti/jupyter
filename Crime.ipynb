{
 "cells": [
  {
   "cell_type": "code",
   "execution_count": null,
   "metadata": {
    "collapsed": true,
    "slideshow": {
     "slide_type": "slide"
    }
   },
   "outputs": [],
   "source": [
    "%matplotlib inline\n",
    "import matplotlib.pyplot as plt\n",
    "import requests\n",
    "import numpy as np\n",
    "import pandas as pd"
   ]
  },
  {
   "cell_type": "code",
   "execution_count": null,
   "metadata": {
    "collapsed": false,
    "slideshow": {
     "slide_type": "slide"
    }
   },
   "outputs": [],
   "source": [
    "MOORGATE = (51.518547, -0.088350)\n",
    "DATE = \"2014-12\"\n",
    "\n",
    "URL = \"http://data.police.uk/api/crimes-street/all-crime?lat={}&lng={}&date={}\".format(\n",
    "    MOORGATE[0], MOORGATE[1], DATE\n",
    ")"
   ]
  },
  {
   "cell_type": "code",
   "execution_count": null,
   "metadata": {
    "collapsed": false,
    "slideshow": {
     "slide_type": "slide"
    }
   },
   "outputs": [],
   "source": [
    "response = requests.get(URL)\n",
    "df = pd.read_json(response.content)\n",
    "df.head()"
   ]
  },
  {
   "cell_type": "code",
   "execution_count": null,
   "metadata": {
    "collapsed": false,
    "slideshow": {
     "slide_type": "slide"
    }
   },
   "outputs": [],
   "source": [
    "df.groupby('category')['context'].count().plot(kind='pie')"
   ]
  },
  {
   "cell_type": "code",
   "execution_count": null,
   "metadata": {
    "collapsed": false,
    "slideshow": {
     "slide_type": "slide"
    }
   },
   "outputs": [],
   "source": [
    "# add an extra column!\n",
    "extract_category = lambda x: x if x is None else x['category']\n",
    "df['outcome_simplified'] = df['outcome_status'].apply(extract_category)\n",
    "\n",
    "counter = df.groupby('outcome_simplified')['outcome_simplified'].count()\n",
    "to_remove = counter[counter <= 10]\n",
    "cleaned = counter.replace(to_remove, np.nan)\n",
    "\n",
    "cleaned.plot(kind='pie')"
   ]
  },
  {
   "cell_type": "code",
   "execution_count": null,
   "metadata": {
    "collapsed": false,
    "slideshow": {
     "slide_type": "slide"
    }
   },
   "outputs": [],
   "source": [
    "# extract the actual locations\n",
    "df['location'][:4]\n",
    "locations = [(float(l['latitude']), float(l['longitude'])) for l in df['location']]"
   ]
  },
  {
   "cell_type": "code",
   "execution_count": null,
   "metadata": {
    "collapsed": false,
    "slideshow": {
     "slide_type": "slide"
    }
   },
   "outputs": [],
   "source": [
    "# visualize all the crimes on a map\n",
    "from ipyleaflet import Map, Circle\n",
    "\n",
    "def fill_map(limit=10):\n",
    "    MOORGATE = (51.518547, -0.088350)\n",
    "    m  = Map(center=MOORGATE, zoom=15)\n",
    "    circles = [Circle(location=pos, radius=25) for pos in locations[:limit]]\n",
    "    for c in circles:\n",
    "        m.add_layer(c)\n",
    "    \n",
    "    return m\n",
    "\n",
    "m = fill_map()\n",
    "m"
   ]
  },
  {
   "cell_type": "markdown",
   "metadata": {
    "slideshow": {
     "slide_type": "slide"
    }
   },
   "source": [
    "### Let's combine:\n",
    "- __maps__ \n",
    "- and _interactive widgets_"
   ]
  },
  {
   "cell_type": "code",
   "execution_count": null,
   "metadata": {
    "collapsed": true,
    "slideshow": {
     "slide_type": "subslide"
    }
   },
   "outputs": [],
   "source": [
    "from ipywidgets import widgets, interact, FloatSlider, SelectMultiple, Dropdown, IntSlider"
   ]
  },
  {
   "cell_type": "code",
   "execution_count": null,
   "metadata": {
    "collapsed": false,
    "slideshow": {
     "slide_type": "subslide"
    }
   },
   "outputs": [],
   "source": [
    "@interact(x=FloatSlider(min=1e5, max=1e7, step=1e5))\n",
    "def fun(x):\n",
    "    print(x)"
   ]
  },
  {
   "cell_type": "code",
   "execution_count": null,
   "metadata": {
    "collapsed": false,
    "scrolled": true,
    "slideshow": {
     "slide_type": "slide"
    }
   },
   "outputs": [],
   "source": [
    "@interact(category=Dropdown(options=list(df.category.unique()),\n",
    "                            value=df.category.unique()[0],\n",
    "                            description='Category:'),\n",
    "         limit=IntSlider(10, min=1, max=100))\n",
    "def draw_by_category(category='', limit=50):\n",
    "    locations = [(float(l['latitude']), float(l['longitude'])) for l in df[df.category==category].location]\n",
    "    circles = [Circle(location=pos, radius=30) for pos in locations[:limit]]\n",
    "    \n",
    "    for c in circles:\n",
    "        m.add_layer(c)\n",
    "    return m\n",
    "\n",
    "draw_by_category()"
   ]
  }
 ],
 "metadata": {
  "anaconda-cloud": {},
  "celltoolbar": "Slideshow",
  "kernelspec": {
   "display_name": "Python 3",
   "language": "python",
   "name": "python3"
  },
  "language_info": {
   "codemirror_mode": {
    "name": "ipython",
    "version": 3
   },
   "file_extension": ".py",
   "mimetype": "text/x-python",
   "name": "python",
   "nbconvert_exporter": "python",
   "pygments_lexer": "ipython3",
   "version": "3.5.2"
  },
  "widgets": {
   "state": {
    "17e77ed32f8e42a1bd23aa13b0f4260e": {
     "views": [
      {
       "cell_index": 6
      },
      {
       "cell_index": 10
      },
      {
       "cell_index": 10
      },
      {
       "cell_index": 10
      },
      {
       "cell_index": 10
      },
      {
       "cell_index": 10
      },
      {
       "cell_index": 10
      }
     ]
    },
    "38e983887cae43a58f7d17c9323b38b7": {
     "views": [
      {
       "cell_index": 9
      }
     ]
    },
    "6b3547b3c02e4d2aa8369fac6f4e35ad": {
     "views": [
      {
       "cell_index": 10
      }
     ]
    }
   },
   "version": "1.2.0"
  }
 },
 "nbformat": 4,
 "nbformat_minor": 2
}
