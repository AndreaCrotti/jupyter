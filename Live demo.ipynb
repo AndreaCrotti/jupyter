{
 "cells": [
  {
   "cell_type": "markdown",
   "metadata": {
    "slideshow": {
     "slide_type": "slide"
    }
   },
   "source": [
    "# Project Jupyter\n",
    "\n",
    "Spinned off in 2014 from the IPython notebook\n",
    "\n",
    "## Features\n",
    "\n",
    "- interactive shells\n",
    "- notebook with support for code, text, mathematical expressions, inline plots and more\n",
    "- interactive data visualization and use of GUI toolkits\n",
    "- tools for parallel computing (using ZMQ as transport)\n",
    "- support for lots of different languages"
   ]
  },
  {
   "cell_type": "code",
   "execution_count": 56,
   "metadata": {
    "collapsed": false,
    "slideshow": {
     "slide_type": "slide"
    }
   },
   "outputs": [
    {
     "name": "stdout",
     "output_type": "stream",
     "text": [
      "Hello Jupyter\n"
     ]
    }
   ],
   "source": [
    "# Playing around with Python\n",
    "def function():\n",
    "    print(\"Hello Jupyter\")\n",
    "\n",
    "function()"
   ]
  },
  {
   "cell_type": "code",
   "execution_count": 61,
   "metadata": {
    "collapsed": false,
    "slideshow": {
     "slide_type": "slide"
    }
   },
   "outputs": [
    {
     "data": {
      "text/plain": [
       "['Crime.ipynb',\n",
       " 'Database access.ipynb',\n",
       " 'expenses.ipynb',\n",
       " 'Fancy graphs.ipynb',\n",
       " 'Giphy.ipynb',\n",
       " 'Introduction to Pandas.ipynb',\n",
       " 'iPython intro.ipynb',\n",
       " 'Live demo.ipynb',\n",
       " 'Untitled.ipynb']"
      ]
     },
     "execution_count": 61,
     "metadata": {},
     "output_type": "execute_result"
    }
   ],
   "source": [
    "# shelling out\n",
    "\n",
    "!ls"
   ]
  },
  {
   "cell_type": "code",
   "execution_count": 68,
   "metadata": {
    "collapsed": false,
    "slideshow": {
     "slide_type": "slide"
    }
   },
   "outputs": [
    {
     "name": "stdout",
     "output_type": "stream",
     "text": [
      " "
     ]
    },
    {
     "name": "stderr",
     "output_type": "stream",
     "text": [
      "UsageError: option -h not recognized ( allowed: \"d:\" )\n"
     ]
    }
   ],
   "source": [
    "# Magic commands\n",
    "def heavy_func():\n",
    "    for x in range(1000):\n",
    "        for y in range(1000):\n",
    "            x * y\n",
    "    \n",
    "%prun heavy_func()\n",
    "#%timeit heavy_func()"
   ]
  },
  {
   "cell_type": "code",
   "execution_count": 72,
   "metadata": {
    "collapsed": false,
    "slideshow": {
     "slide_type": "slide"
    }
   },
   "outputs": [
    {
     "data": {
      "text/plain": [
       "100"
      ]
     },
     "metadata": {},
     "output_type": "display_data"
    },
    {
     "data": {
      "text/plain": [
       "<function __main__.square>"
      ]
     },
     "execution_count": 72,
     "metadata": {},
     "output_type": "execute_result"
    }
   ],
   "source": [
    "# interaction\n",
    " \n",
    "from ipywidgets import interact, interactive, fixed\n",
    "import ipywidgets as widgets\n",
    "\n",
    "def square(x):\n",
    "    return x * x\n",
    "\n",
    "interact(square, x=10)\n",
    "\n"
   ]
  },
  {
   "cell_type": "code",
   "execution_count": null,
   "metadata": {
    "collapsed": false,
    "slideshow": {
     "slide_type": "notes"
    }
   },
   "outputs": [],
   "source": [
    "def summer(a, b):\n",
    "    return a + b\n",
    "\n",
    "interact(summer, a=10, b=10)"
   ]
  },
  {
   "cell_type": "code",
   "execution_count": 75,
   "metadata": {
    "collapsed": false,
    "slideshow": {
     "slide_type": "slide"
    }
   },
   "outputs": [
    {
     "data": {
      "image/png": "[encoded data removed]",
      "text/plain": [
       "<matplotlib.figure.Figure at 0x7f64bd17d588>"
      ]
     },
     "metadata": {},
     "output_type": "display_data"
    }
   ],
   "source": [
    "# Simple plots\n",
    "\n",
    "%matplotlib inline\n",
    "import numpy as np\n",
    "import matplotlib.pyplot as plt\n",
    "\n",
    "x = np.linspace(0, 2 * 3.14)\n",
    "sin_plot = plt.plot(x, np.sin(x), '.')"
   ]
  },
  {
   "cell_type": "code",
   "execution_count": 76,
   "metadata": {
    "collapsed": false,
    "slideshow": {
     "slide_type": "slide"
    }
   },
   "outputs": [
    {
     "data": {
      "image/png": "[encoded data removed]",
      "text/plain": [
       "<matplotlib.figure.Figure at 0x7f64beb2c240>"
      ]
     },
     "metadata": {},
     "output_type": "display_data"
    }
   ],
   "source": [
    "# interactive plots\n",
    "def plot_stuff(x):\n",
    "    x = np.linspace(0, x * 3.14)\n",
    "    plt.plot(x, np.sin(x))\n",
    "\n",
    "graph_func = interact(plot_stuff, x=1)"
   ]
  },
  {
   "cell_type": "markdown",
   "metadata": {
    "slideshow": {
     "slide_type": "slide"
    }
   },
   "source": [
    "# Pandas\n",
    "\n",
    "*library providing high-performance, easy-to-use data structures and data analysis tools*\n",
    "\n",
    "## Pandas dataframe\n",
    "\n",
    "*Two-dimensional size-mutable, potentially heterogeneous tabular data structure with labeled axes*"
   ]
  },
  {
   "cell_type": "code",
   "execution_count": 77,
   "metadata": {
    "collapsed": false,
    "slideshow": {
     "slide_type": "slide"
    }
   },
   "outputs": [],
   "source": [
    "import pandas as pd\n",
    "import numpy as np\n",
    "\n",
    "products = pd.DataFrame(\n",
    "    data=[\n",
    "        ['car', 20000, 1, 'transport'],\n",
    "        ['bike', 300, 3, 'transport'],\n",
    "        ['pen', 1, 20, 'tool']],\n",
    "    columns=['product', 'price', 'quantity', 'category'])\n"
   ]
  },
  {
   "cell_type": "markdown",
   "metadata": {
    "slideshow": {
     "slide_type": "subslide"
    }
   },
   "source": [
    "![spreadsheet](spreadsheet.png)"
   ]
  },
  {
   "cell_type": "code",
   "execution_count": null,
   "metadata": {
    "collapsed": false,
    "slideshow": {
     "slide_type": "notes"
    }
   },
   "outputs": [],
   "source": []
  },
  {
   "cell_type": "code",
   "execution_count": null,
   "metadata": {
    "collapsed": false,
    "slideshow": {
     "slide_type": "slide"
    }
   },
   "outputs": [],
   "source": [
    "# select * from products\n",
    "products\n",
    "\n",
    "# select product from products\n",
    "# products['product']\n",
    "\n",
    "# same as\n",
    "# products.product\n",
    "\n",
    "# select * from products where quantity > 1\n",
    "# products[products.quantity > 1]\n",
    "\n",
    "# select avg(products.price) from products group by category\n",
    "# products.groupby(products.category).price.mean()"
   ]
  },
  {
   "cell_type": "code",
   "execution_count": 79,
   "metadata": {
    "collapsed": false,
    "slideshow": {
     "slide_type": "slide"
    }
   },
   "outputs": [
    {
     "data": {
      "text/html": [
       "<div>\n",
       "<table border=\"1\" class=\"dataframe\">\n",
       "  <thead>\n",
       "    <tr style=\"text-align: right;\">\n",
       "      <th></th>\n",
       "      <th>product</th>\n",
       "      <th>price</th>\n",
       "      <th>quantity</th>\n",
       "      <th>category</th>\n",
       "      <th>summed</th>\n",
       "    </tr>\n",
       "  </thead>\n",
       "  <tbody>\n",
       "    <tr>\n",
       "      <th>0</th>\n",
       "      <td>car</td>\n",
       "      <td>20000</td>\n",
       "      <td>1</td>\n",
       "      <td>transport</td>\n",
       "      <td>20000</td>\n",
       "    </tr>\n",
       "    <tr>\n",
       "      <th>1</th>\n",
       "      <td>bike</td>\n",
       "      <td>300</td>\n",
       "      <td>3</td>\n",
       "      <td>transport</td>\n",
       "      <td>900</td>\n",
       "    </tr>\n",
       "    <tr>\n",
       "      <th>2</th>\n",
       "      <td>pen</td>\n",
       "      <td>1</td>\n",
       "      <td>20</td>\n",
       "      <td>tool</td>\n",
       "      <td>20</td>\n",
       "    </tr>\n",
       "  </tbody>\n",
       "</table>\n",
       "</div>"
      ],
      "text/plain": [
       "  product  price  quantity   category  summed\n",
       "0     car  20000         1  transport   20000\n",
       "1    bike    300         3  transport     900\n",
       "2     pen      1        20       tool      20"
      ]
     },
     "execution_count": 79,
     "metadata": {},
     "output_type": "execute_result"
    }
   ],
   "source": [
    "# adding another column\n",
    "products['summed'] = products['price'] * products['quantity']\n",
    "# products['summed'].sum()"
   ]
  }
 ],
 "metadata": {
  "celltoolbar": "Slideshow",
  "kernelspec": {
   "display_name": "Python 3",
   "language": "python",
   "name": "python3"
  },
  "language_info": {
   "codemirror_mode": {
    "name": "ipython",
    "version": 3
   },
   "file_extension": ".py",
   "mimetype": "text/x-python",
   "name": "python",
   "nbconvert_exporter": "python",
   "pygments_lexer": "ipython3",
   "version": "3.5.2"
  },
  "widgets": {
   "state": {
    "3da18e79c0414092b6be472cd9129d4f": {
     "views": [
      {
       "cell_index": 6
      }
     ]
    },
    "93a243ac26f84de5837b77d06a813e4a": {
     "views": [
      {
       "cell_index": 4
      }
     ]
    },
    "ce211d4c283e431980d1be6538471db1": {
     "views": [
      {
       "cell_index": 5
      }
     ]
    },
    "da7fccb4c3b744aa924bb2a1ff9f58ce": {
     "views": [
      {
       "cell_index": 5
      }
     ]
    },
    "ddbfad3d621740f8b5c31f11fda44eed": {
     "views": [
      {
       "cell_index": 7
      }
     ]
    }
   },
   "version": "1.2.0"
  }
 },
 "nbformat": 4,
 "nbformat_minor": 2
}
