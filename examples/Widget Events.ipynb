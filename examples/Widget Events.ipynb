{
 "cells": [
  {
   "cell_type": "markdown",
   "metadata": {
    "nbsphinx": "hidden"
   },
   "source": [
    "[Index](Index.ipynb) - [Back](Widget List.ipynb) - [Next](Widget Styling.ipynb)"
   ]
  },
  {
   "cell_type": "markdown",
   "metadata": {
    "slideshow": {
     "slide_type": "slide"
    }
   },
   "source": [
    "# Widget Events"
   ]
  },
  {
   "cell_type": "markdown",
   "metadata": {},
   "source": [
    "## Special events"
   ]
  },
  {
   "cell_type": "code",
   "execution_count": 1,
   "metadata": {
    "collapsed": true
   },
   "outputs": [],
   "source": [
    "from __future__ import print_function"
   ]
  },
  {
   "cell_type": "markdown",
   "metadata": {},
   "source": [
    "The `Button` is not used to represent a data type.  Instead the button widget is used to handle mouse clicks.  The `on_click` method of the `Button` can be used to register function to be called when the button is clicked.  The doc string of the `on_click` can be seen below."
   ]
  },
  {
   "cell_type": "code",
   "execution_count": 2,
   "metadata": {},
   "outputs": [
    {
     "name": "stdout",
     "output_type": "stream",
     "text": [
      "Register a callback to execute when the button is clicked.\n",
      "\n",
      "        The callback will be called with one argument, the clicked button\n",
      "        widget instance.\n",
      "\n",
      "        Parameters\n",
      "        ----------\n",
      "        remove: bool (optional)\n",
      "            Set to true to remove the callback from the list of callbacks.\n",
      "        \n"
     ]
    }
   ],
   "source": [
    "import ipywidgets as widgets\n",
    "print(widgets.Button.on_click.__doc__)"
   ]
  },
  {
   "cell_type": "markdown",
   "metadata": {
    "slideshow": {
     "slide_type": "slide"
    }
   },
   "source": [
    "### Example"
   ]
  },
  {
   "cell_type": "markdown",
   "metadata": {},
   "source": [
    "Since button clicks are stateless, they are transmitted from the front-end to the back-end using custom messages.  By using the `on_click` method, a button that prints a message when it has been clicked is shown below."
   ]
  },
  {
   "cell_type": "code",
   "execution_count": 3,
   "metadata": {},
   "outputs": [
    {
     "data": {
      "application/vnd.jupyter.widget-view+json": {
       "model_id": "620f3c6aa5554b0ea063f44e668b042b"
      }
     },
     "metadata": {},
     "output_type": "display_data"
    }
   ],
   "source": [
    "from IPython.display import display\n",
    "button = widgets.Button(description=\"Click Me!\")\n",
    "display(button)\n",
    "\n",
    "def on_button_clicked(b):\n",
    "    print(\"Button clicked.\")\n",
    "\n",
    "button.on_click(on_button_clicked)"
   ]
  },
  {
   "cell_type": "markdown",
   "metadata": {
    "slideshow": {
     "slide_type": "slide"
    }
   },
   "source": [
    "### on_submit"
   ]
  },
  {
   "cell_type": "markdown",
   "metadata": {},
   "source": [
    "The `Text` widget also has a special `on_submit` event.  The `on_submit` event fires when the user hits return."
   ]
  },
  {
   "cell_type": "code",
   "execution_count": 4,
   "metadata": {},
   "outputs": [
    {
     "data": {
      "application/vnd.jupyter.widget-view+json": {
       "model_id": "35dc7132831e43c9bd43548c3549c07e"
      }
     },
     "metadata": {},
     "output_type": "display_data"
    }
   ],
   "source": [
    "text = widgets.Text()\n",
    "display(text)\n",
    "\n",
    "def handle_submit(sender):\n",
    "    print(text.value)\n",
    "\n",
    "text.on_submit(handle_submit)"
   ]
  },
  {
   "cell_type": "markdown",
   "metadata": {
    "slideshow": {
     "slide_type": "slide"
    }
   },
   "source": [
    "## Traitlet events"
   ]
  },
  {
   "cell_type": "markdown",
   "metadata": {},
   "source": [
    "Widget properties are IPython traitlets and traitlets are eventful.  To handle  changes, the `observe` method of the widget can be used to register a callback.  The doc string for `observe` can be seen below."
   ]
  },
  {
   "cell_type": "code",
   "execution_count": 5,
   "metadata": {},
   "outputs": [
    {
     "name": "stdout",
     "output_type": "stream",
     "text": [
      "Setup a handler to be called when a trait changes.\n",
      "\n",
      "        This is used to setup dynamic notifications of trait changes.\n",
      "\n",
      "        Parameters\n",
      "        ----------\n",
      "        handler : callable\n",
      "            A callable that is called when a trait changes. Its\n",
      "            signature should be ``handler(change)``, where ``change`` is a\n",
      "            dictionary. The change dictionary at least holds a 'type' key.\n",
      "            * ``type``: the type of notification.\n",
      "            Other keys may be passed depending on the value of 'type'. In the\n",
      "            case where type is 'change', we also have the following keys:\n",
      "            * ``owner`` : the HasTraits instance\n",
      "            * ``old`` : the old value of the modified trait attribute\n",
      "            * ``new`` : the new value of the modified trait attribute\n",
      "            * ``name`` : the name of the modified trait attribute.\n",
      "        names : list, str, All\n",
      "            If names is All, the handler will apply to all traits.  If a list\n",
      "            of str, handler will apply to all names in the list.  If a\n",
      "            str, the handler will apply just to that name.\n",
      "        type : str, All (default: 'change')\n",
      "            The type of notification to filter by. If equal to All, then all\n",
      "            notifications are passed to the observe handler.\n",
      "        \n"
     ]
    }
   ],
   "source": [
    "print(widgets.Widget.observe.__doc__)"
   ]
  },
  {
   "cell_type": "markdown",
   "metadata": {
    "slideshow": {
     "slide_type": "slide"
    }
   },
   "source": [
    "### Signatures"
   ]
  },
  {
   "cell_type": "markdown",
   "metadata": {},
   "source": [
    "Mentioned in the doc string, the callback registered must have the signature `handler(change)` where `change` is a dictionary holding the information about the change. \n",
    "\n",
    "Using this method, an example of how to output an `IntSlider`'s value as it is changed can be seen below."
   ]
  },
  {
   "cell_type": "code",
   "execution_count": 6,
   "metadata": {},
   "outputs": [
    {
     "data": {
      "application/vnd.jupyter.widget-view+json": {
       "model_id": "be95a285fc36401281eea3d8af628627"
      }
     },
     "metadata": {},
     "output_type": "display_data"
    }
   ],
   "source": [
    "int_range = widgets.IntSlider()\n",
    "display(int_range)\n",
    "\n",
    "def on_value_change(change):\n",
    "    print(change['new'])\n",
    "\n",
    "int_range.observe(on_value_change, names='value')"
   ]
  },
  {
   "cell_type": "markdown",
   "metadata": {},
   "source": [
    "## Linking Widgets"
   ]
  },
  {
   "cell_type": "markdown",
   "metadata": {},
   "source": [
    "Often, you may want to simply link widget attributes together. Synchronization of attributes can be done in a simpler way than by using bare traitlets events. "
   ]
  },
  {
   "cell_type": "markdown",
   "metadata": {},
   "source": [
    "### Linking traitlets attributes in the kernel\n",
    "\n",
    "The first method is to use the `link` and `dlink` functions from the `traitlets` module. This only works if we are interacting with a live kernel."
   ]
  },
  {
   "cell_type": "code",
   "execution_count": 7,
   "metadata": {
    "collapsed": true
   },
   "outputs": [],
   "source": [
    "import traitlets"
   ]
  },
  {
   "cell_type": "code",
   "execution_count": 8,
   "metadata": {},
   "outputs": [
    {
     "data": {
      "application/vnd.jupyter.widget-view+json": {
       "model_id": "efdf9ead0ff24439a2a0a1593cd0c0c5"
      }
     },
     "metadata": {},
     "output_type": "display_data"
    },
    {
     "data": {
      "application/vnd.jupyter.widget-view+json": {
       "model_id": "441cf47570ae4b349cd6b7ead01ac985"
      }
     },
     "metadata": {},
     "output_type": "display_data"
    },
    {
     "data": {
      "application/vnd.jupyter.widget-view+json": {
       "model_id": "ebd8d0f227444e38ab8cba01831ad224"
      }
     },
     "metadata": {},
     "output_type": "display_data"
    }
   ],
   "source": [
    "caption = widgets.Label(value = 'The values of slider1 and slider2 are synchronized')\n",
    "sliders1, slider2 = widgets.IntSlider(description='Slider 1'),\\\n",
    "                             widgets.IntSlider(description='Slider 2')\n",
    "l = traitlets.link((sliders1, 'value'), (slider2, 'value'))\n",
    "display(caption, sliders1, slider2)"
   ]
  },
  {
   "cell_type": "code",
   "execution_count": 9,
   "metadata": {},
   "outputs": [
    {
     "data": {
      "application/vnd.jupyter.widget-view+json": {
       "model_id": "16299f5a592943a19568b6968dfccd33"
      }
     },
     "metadata": {},
     "output_type": "display_data"
    },
    {
     "data": {
      "application/vnd.jupyter.widget-view+json": {
       "model_id": "eee8d8ee185241cfacbf3a84235b7653"
      }
     },
     "metadata": {},
     "output_type": "display_data"
    },
    {
     "data": {
      "application/vnd.jupyter.widget-view+json": {
       "model_id": "cd7e4c4b17f0476cb36ef4f7376ba301"
      }
     },
     "metadata": {},
     "output_type": "display_data"
    }
   ],
   "source": [
    "caption = widgets.Label(value = 'Changes in source values are reflected in target1')\n",
    "source, target1 = widgets.IntSlider(description='Source'),\\\n",
    "                           widgets.IntSlider(description='Target 1')\n",
    "dl = traitlets.dlink((source, 'value'), (target1, 'value'))\n",
    "display(caption, source, target1)"
   ]
  },
  {
   "cell_type": "markdown",
   "metadata": {},
   "source": [
    "Function `traitlets.link` and `traitlets.dlink` return a `Link` or `DLink` object. The link can be broken by calling the `unlink` method."
   ]
  },
  {
   "cell_type": "code",
   "execution_count": 10,
   "metadata": {
    "collapsed": true
   },
   "outputs": [],
   "source": [
    "l.unlink()\n",
    "dl.unlink()"
   ]
  },
  {
   "cell_type": "markdown",
   "metadata": {},
   "source": [
    "### Linking widgets attributes from the client side"
   ]
  },
  {
   "cell_type": "markdown",
   "metadata": {},
   "source": [
    "When synchronizing traitlets attributes, you may experience a lag because of the latency due to the roundtrip to the server side. You can also directly link widget attributes in the browser using the link widgets, in either a unidirectional or a bidirectional fashion.\n",
    "\n",
    "Javascript links persist when embedding widgets in html web pages without a kernel."
   ]
  },
  {
   "cell_type": "code",
   "execution_count": 11,
   "metadata": {},
   "outputs": [
    {
     "data": {
      "application/vnd.jupyter.widget-view+json": {
       "model_id": "b4b2c6ec89594bf990f02c60a2b325dc"
      }
     },
     "metadata": {},
     "output_type": "display_data"
    },
    {
     "data": {
      "application/vnd.jupyter.widget-view+json": {
       "model_id": "60ca7bbd65174c079181a67fbed1af95"
      }
     },
     "metadata": {},
     "output_type": "display_data"
    },
    {
     "data": {
      "application/vnd.jupyter.widget-view+json": {
       "model_id": "f69b841c14134ea3b8cc3570004e2158"
      }
     },
     "metadata": {},
     "output_type": "display_data"
    }
   ],
   "source": [
    "caption = widgets.Label(value = 'The values of range1 and range2 are synchronized')\n",
    "range1, range2 = widgets.IntSlider(description='Range 1'),\\\n",
    "                         widgets.IntSlider(description='Range 2')\n",
    "l = widgets.jslink((range1, 'value'), (range2, 'value'))\n",
    "display(caption, range1, range2)"
   ]
  },
  {
   "cell_type": "code",
   "execution_count": 12,
   "metadata": {},
   "outputs": [
    {
     "data": {
      "application/vnd.jupyter.widget-view+json": {
       "model_id": "f77d924f20f2432aa1f3f3faa92a6f4f"
      }
     },
     "metadata": {},
     "output_type": "display_data"
    },
    {
     "data": {
      "application/vnd.jupyter.widget-view+json": {
       "model_id": "7da58296e676472493038f32ba724dee"
      }
     },
     "metadata": {},
     "output_type": "display_data"
    },
    {
     "data": {
      "application/vnd.jupyter.widget-view+json": {
       "model_id": "d5f352a084754e5b89a25dfeecf81890"
      }
     },
     "metadata": {},
     "output_type": "display_data"
    }
   ],
   "source": [
    "caption = widgets.Label(value = 'Changes in source_range values are reflected in target_range1')\n",
    "source_range, target_range1 = widgets.IntSlider(description='Source range'),\\\n",
    "                                             widgets.IntSlider(description='Target range 1')\n",
    "dl = widgets.jsdlink((source_range, 'value'), (target_range1, 'value'))\n",
    "display(caption, source_range, target_range1)"
   ]
  },
  {
   "cell_type": "markdown",
   "metadata": {},
   "source": [
    "Function `widgets.jslink` returns a `Link` widget. The link can be broken by calling the `unlink` method."
   ]
  },
  {
   "cell_type": "code",
   "execution_count": 13,
   "metadata": {
    "collapsed": true
   },
   "outputs": [],
   "source": [
    "# l.unlink()\n",
    "# dl.unlink()"
   ]
  },
  {
   "cell_type": "markdown",
   "metadata": {
    "nbsphinx": "hidden"
   },
   "source": [
    "[Index](Index.ipynb) - [Back](Widget List.ipynb) - [Next](Widget Styling.ipynb)"
   ]
  }
 ],
 "metadata": {
  "cell_tags": [
   [
    "<None>",
    null
   ]
  ],
  "kernelspec": {
   "display_name": "Python 3",
   "language": "python",
   "name": "python3"
  },
  "language_info": {
   "codemirror_mode": {
    "name": "ipython",
    "version": 3
   },
   "file_extension": ".py",
   "mimetype": "text/x-python",
   "name": "python",
   "nbconvert_exporter": "python",
   "pygments_lexer": "ipython3",
   "version": "3.5.2"
  },
  "widgets": {
   "application/vnd.jupyter.widget-state+json": {
    "state": {
     "0583c5c2b63d4c81a586444fad0adddb": {
      "model_module": "jupyter-js-widgets",
      "model_module_version": "*",
      "model_name": "LabelModel",
      "state": {
       "layout": "IPY_MODEL_343a00871dde45c092c362e8cf1ef1d6",
       "value": "Changes in source_range values are reflected in target_range1"
      }
     },
     "08e51f0573a945a9ac24dd6270dd1acd": {
      "model_module": "jupyter-js-widgets",
      "model_module_version": "*",
      "model_name": "LayoutModel",
      "state": {}
     },
     "0f8802d1998b4bb4ab1d48793c89cf8c": {
      "model_module": "jupyter-js-widgets",
      "model_module_version": "*",
      "model_name": "IntSliderModel",
      "state": {
       "description": "Source",
       "layout": "IPY_MODEL_4cdd40c1123f4c09ad33f3c721e1c44c"
      }
     },
     "14a9311f542740049fd8602ad72e8e44": {
      "model_module": "jupyter-js-widgets",
      "model_module_version": "*",
      "model_name": "IntSliderModel",
      "state": {
       "description": "Slider 1",
       "layout": "IPY_MODEL_c52acb525a22474c820c5e97b83ad3bf"
      }
     },
     "16299f5a592943a19568b6968dfccd33": {
      "model_module": "jupyter-js-widgets",
      "model_module_version": "*",
      "model_name": "LabelModel",
      "state": {
       "layout": "IPY_MODEL_a0d1d7d2514742b390e14960d6a1cc7c",
       "value": "Changes in source values are reflected in target1"
      }
     },
     "1657eaadf5e2462fa3b62e1772ec843e": {
      "model_module": "jupyter-js-widgets",
      "model_module_version": "*",
      "model_name": "IntSliderModel",
      "state": {
       "description": "Target 1",
       "layout": "IPY_MODEL_3a3c8f024de141ffa0fa8faf4f266e44"
      }
     },
     "33ba0f9ea252490e9d40fe0df57b591c": {
      "model_module": "jupyter-js-widgets",
      "model_module_version": "*",
      "model_name": "LayoutModel",
      "state": {}
     },
     "343a00871dde45c092c362e8cf1ef1d6": {
      "model_module": "jupyter-js-widgets",
      "model_module_version": "*",
      "model_name": "LayoutModel",
      "state": {}
     },
     "343f2583bb4b4a50a94869108581b4bd": {
      "model_module": "jupyter-js-widgets",
      "model_module_version": "*",
      "model_name": "LayoutModel",
      "state": {}
     },
     "35dc7132831e43c9bd43548c3549c07e": {
      "model_module": "jupyter-js-widgets",
      "model_module_version": "*",
      "model_name": "TextModel",
      "state": {
       "layout": "IPY_MODEL_a829822311104052b104224107f04264"
      }
     },
     "3a3c8f024de141ffa0fa8faf4f266e44": {
      "model_module": "jupyter-js-widgets",
      "model_module_version": "*",
      "model_name": "LayoutModel",
      "state": {}
     },
     "3bc2e1ca5f8340bfa2b517cdc6739c24": {
      "model_module": "jupyter-js-widgets",
      "model_module_version": "*",
      "model_name": "LayoutModel",
      "state": {}
     },
     "3c1c6e8b67d44855aca4769671f6873c": {
      "model_module": "jupyter-js-widgets",
      "model_module_version": "*",
      "model_name": "DirectionalLinkModel",
      "state": {
       "source": [
        "IPY_MODEL_7da58296e676472493038f32ba724dee",
        "value"
       ],
       "target": [
        "IPY_MODEL_d5f352a084754e5b89a25dfeecf81890",
        "value"
       ]
      }
     },
     "441cf47570ae4b349cd6b7ead01ac985": {
      "model_module": "jupyter-js-widgets",
      "model_module_version": "*",
      "model_name": "IntSliderModel",
      "state": {
       "description": "Slider 1",
       "layout": "IPY_MODEL_bc63040dbb3c47afb369fcfe5870e563"
      }
     },
     "49140cd01a864c5ea34f43bb1ca6195a": {
      "model_module": "jupyter-js-widgets",
      "model_module_version": "*",
      "model_name": "LayoutModel",
      "state": {}
     },
     "492d1d539227441f9e5e88438ba04dbd": {
      "model_module": "jupyter-js-widgets",
      "model_module_version": "*",
      "model_name": "LayoutModel",
      "state": {}
     },
     "4c3133a4fe5c413294811b762d45b123": {
      "model_module": "jupyter-js-widgets",
      "model_module_version": "*",
      "model_name": "LayoutModel",
      "state": {}
     },
     "4cdd40c1123f4c09ad33f3c721e1c44c": {
      "model_module": "jupyter-js-widgets",
      "model_module_version": "*",
      "model_name": "LayoutModel",
      "state": {}
     },
     "5073b43fed834f4cbcd9486240ce924a": {
      "model_module": "jupyter-js-widgets",
      "model_module_version": "*",
      "model_name": "LayoutModel",
      "state": {}
     },
     "609ffd3ea0144e40a28c080b8525825a": {
      "model_module": "jupyter-js-widgets",
      "model_module_version": "*",
      "model_name": "LayoutModel",
      "state": {}
     },
     "60ca7bbd65174c079181a67fbed1af95": {
      "model_module": "jupyter-js-widgets",
      "model_module_version": "*",
      "model_name": "IntSliderModel",
      "state": {
       "description": "Range 1",
       "layout": "IPY_MODEL_343f2583bb4b4a50a94869108581b4bd"
      }
     },
     "61a9f120024549bc80c50a012ba885f8": {
      "model_module": "jupyter-js-widgets",
      "model_module_version": "*",
      "model_name": "LayoutModel",
      "state": {}
     },
     "620f3c6aa5554b0ea063f44e668b042b": {
      "model_module": "jupyter-js-widgets",
      "model_module_version": "*",
      "model_name": "ButtonModel",
      "state": {
       "description": "Click Me!",
       "layout": "IPY_MODEL_f1deb7c675d04a698ac185368ceb0c2a"
      }
     },
     "687e7183bb9a4331aebe19866e4f0a9c": {
      "model_module": "jupyter-js-widgets",
      "model_module_version": "*",
      "model_name": "IntSliderModel",
      "state": {
       "description": "Range 2",
       "layout": "IPY_MODEL_3bc2e1ca5f8340bfa2b517cdc6739c24"
      }
     },
     "6f089552ddce4fd8813cfb0d7231f119": {
      "model_module": "jupyter-js-widgets",
      "model_module_version": "*",
      "model_name": "LayoutModel",
      "state": {}
     },
     "6f4568400e4e41a4b9c95fc830959e13": {
      "model_module": "jupyter-js-widgets",
      "model_module_version": "*",
      "model_name": "LayoutModel",
      "state": {}
     },
     "7145ca46bba149f0b7f9941724d8a4ff": {
      "model_module": "jupyter-js-widgets",
      "model_module_version": "*",
      "model_name": "LayoutModel",
      "state": {}
     },
     "72905dd432ae459d8c5dcd27d4930d6e": {
      "model_module": "jupyter-js-widgets",
      "model_module_version": "*",
      "model_name": "LayoutModel",
      "state": {}
     },
     "7b98a8b75f3f49ba92b8d31573ede043": {
      "model_module": "jupyter-js-widgets",
      "model_module_version": "*",
      "model_name": "LayoutModel",
      "state": {}
     },
     "7da58296e676472493038f32ba724dee": {
      "model_module": "jupyter-js-widgets",
      "model_module_version": "*",
      "model_name": "IntSliderModel",
      "state": {
       "description": "Source range",
       "layout": "IPY_MODEL_4c3133a4fe5c413294811b762d45b123"
      }
     },
     "86a200d98b2945a5a3d923b8e76a9b84": {
      "model_module": "jupyter-js-widgets",
      "model_module_version": "*",
      "model_name": "LabelModel",
      "state": {
       "layout": "IPY_MODEL_c8cd6cd4982d420aa7702aaf3467e28c",
       "value": "Changes in source values are reflected in target1"
      }
     },
     "8a1d1d90a2544309ade3278e912e639b": {
      "model_module": "jupyter-js-widgets",
      "model_module_version": "*",
      "model_name": "LayoutModel",
      "state": {}
     },
     "93aabb4aec0543ada7a4f593438323cf": {
      "model_module": "jupyter-js-widgets",
      "model_module_version": "*",
      "model_name": "LayoutModel",
      "state": {}
     },
     "945fc0ed5eed4134b6ec28a50adc9499": {
      "model_module": "jupyter-js-widgets",
      "model_module_version": "*",
      "model_name": "LinkModel",
      "state": {
       "source": [
        "IPY_MODEL_60ca7bbd65174c079181a67fbed1af95",
        "value"
       ],
       "target": [
        "IPY_MODEL_f69b841c14134ea3b8cc3570004e2158",
        "value"
       ]
      }
     },
     "a0d1d7d2514742b390e14960d6a1cc7c": {
      "model_module": "jupyter-js-widgets",
      "model_module_version": "*",
      "model_name": "LayoutModel",
      "state": {}
     },
     "a49b5844ac8440ed9cc78ce84117776e": {
      "model_module": "jupyter-js-widgets",
      "model_module_version": "*",
      "model_name": "IntSliderModel",
      "state": {
       "description": "Target range 1",
       "layout": "IPY_MODEL_609ffd3ea0144e40a28c080b8525825a"
      }
     },
     "a7f6fee860d24384ac27cb4a69a632b0": {
      "model_module": "jupyter-js-widgets",
      "model_module_version": "*",
      "model_name": "DirectionalLinkModel",
      "state": {
       "source": [
        "IPY_MODEL_dd03c30ef9b4474da3e44c58c4d91164",
        "value"
       ],
       "target": [
        "IPY_MODEL_a49b5844ac8440ed9cc78ce84117776e",
        "value"
       ]
      }
     },
     "a829822311104052b104224107f04264": {
      "model_module": "jupyter-js-widgets",
      "model_module_version": "*",
      "model_name": "LayoutModel",
      "state": {}
     },
     "afe822da6fb14e8cb68f8cf8455b6be5": {
      "model_module": "jupyter-js-widgets",
      "model_module_version": "*",
      "model_name": "ButtonModel",
      "state": {
       "description": "Click Me!",
       "layout": "IPY_MODEL_61a9f120024549bc80c50a012ba885f8"
      }
     },
     "b4b2c6ec89594bf990f02c60a2b325dc": {
      "model_module": "jupyter-js-widgets",
      "model_module_version": "*",
      "model_name": "LabelModel",
      "state": {
       "layout": "IPY_MODEL_72905dd432ae459d8c5dcd27d4930d6e",
       "value": "The values of range1 and range2 are synchronized"
      }
     },
     "b6e17465dcdc47d6935b94e6029751dc": {
      "model_module": "jupyter-js-widgets",
      "model_module_version": "*",
      "model_name": "LinkModel",
      "state": {
       "source": [
        "IPY_MODEL_d2d733efeeaa47d1b4e8f76554239a05",
        "value"
       ],
       "target": [
        "IPY_MODEL_687e7183bb9a4331aebe19866e4f0a9c",
        "value"
       ]
      }
     },
     "b84c88b8e21445d283514385f9fa3c3d": {
      "model_module": "jupyter-js-widgets",
      "model_module_version": "*",
      "model_name": "LayoutModel",
      "state": {}
     },
     "bc63040dbb3c47afb369fcfe5870e563": {
      "model_module": "jupyter-js-widgets",
      "model_module_version": "*",
      "model_name": "LayoutModel",
      "state": {}
     },
     "bd09faaaf7db4f26ab4f6c3f5e97be43": {
      "model_module": "jupyter-js-widgets",
      "model_module_version": "*",
      "model_name": "TextModel",
      "state": {
       "layout": "IPY_MODEL_7b98a8b75f3f49ba92b8d31573ede043"
      }
     },
     "be95a285fc36401281eea3d8af628627": {
      "model_module": "jupyter-js-widgets",
      "model_module_version": "*",
      "model_name": "IntSliderModel",
      "state": {
       "layout": "IPY_MODEL_8a1d1d90a2544309ade3278e912e639b"
      }
     },
     "c52acb525a22474c820c5e97b83ad3bf": {
      "model_module": "jupyter-js-widgets",
      "model_module_version": "*",
      "model_name": "LayoutModel",
      "state": {}
     },
     "c6cbe847fa774cd393cd44ccfc45b085": {
      "model_module": "jupyter-js-widgets",
      "model_module_version": "*",
      "model_name": "IntSliderModel",
      "state": {
       "description": "Slider 2",
       "layout": "IPY_MODEL_5073b43fed834f4cbcd9486240ce924a"
      }
     },
     "c8cd6cd4982d420aa7702aaf3467e28c": {
      "model_module": "jupyter-js-widgets",
      "model_module_version": "*",
      "model_name": "LayoutModel",
      "state": {}
     },
     "cb7d4dc0cfac4b03a406c93eca1f731f": {
      "model_module": "jupyter-js-widgets",
      "model_module_version": "*",
      "model_name": "IntSliderModel",
      "state": {
       "layout": "IPY_MODEL_49140cd01a864c5ea34f43bb1ca6195a"
      }
     },
     "cd7e4c4b17f0476cb36ef4f7376ba301": {
      "model_module": "jupyter-js-widgets",
      "model_module_version": "*",
      "model_name": "IntSliderModel",
      "state": {
       "description": "Target 1",
       "layout": "IPY_MODEL_492d1d539227441f9e5e88438ba04dbd"
      }
     },
     "d2d733efeeaa47d1b4e8f76554239a05": {
      "model_module": "jupyter-js-widgets",
      "model_module_version": "*",
      "model_name": "IntSliderModel",
      "state": {
       "description": "Range 1",
       "layout": "IPY_MODEL_ea9b2ec334ca4e14bc672ead64e1c8f3"
      }
     },
     "d5f352a084754e5b89a25dfeecf81890": {
      "model_module": "jupyter-js-widgets",
      "model_module_version": "*",
      "model_name": "IntSliderModel",
      "state": {
       "description": "Target range 1",
       "layout": "IPY_MODEL_b84c88b8e21445d283514385f9fa3c3d"
      }
     },
     "d65ceda64c3948bc8807f5e450af0c77": {
      "model_module": "jupyter-js-widgets",
      "model_module_version": "*",
      "model_name": "LayoutModel",
      "state": {}
     },
     "d6dc7a4c4e7b4975be7ff06f18a48676": {
      "model_module": "jupyter-js-widgets",
      "model_module_version": "*",
      "model_name": "LabelModel",
      "state": {
       "layout": "IPY_MODEL_d65ceda64c3948bc8807f5e450af0c77",
       "value": "The values of slider1 and slider2 are synchronized"
      }
     },
     "dd03c30ef9b4474da3e44c58c4d91164": {
      "model_module": "jupyter-js-widgets",
      "model_module_version": "*",
      "model_name": "IntSliderModel",
      "state": {
       "description": "Source range",
       "layout": "IPY_MODEL_08e51f0573a945a9ac24dd6270dd1acd"
      }
     },
     "ea9b2ec334ca4e14bc672ead64e1c8f3": {
      "model_module": "jupyter-js-widgets",
      "model_module_version": "*",
      "model_name": "LayoutModel",
      "state": {}
     },
     "eb920c88ea534c96907345834652dbd7": {
      "model_module": "jupyter-js-widgets",
      "model_module_version": "*",
      "model_name": "LayoutModel",
      "state": {}
     },
     "ebd8d0f227444e38ab8cba01831ad224": {
      "model_module": "jupyter-js-widgets",
      "model_module_version": "*",
      "model_name": "IntSliderModel",
      "state": {
       "description": "Slider 2",
       "layout": "IPY_MODEL_7145ca46bba149f0b7f9941724d8a4ff"
      }
     },
     "eee8d8ee185241cfacbf3a84235b7653": {
      "model_module": "jupyter-js-widgets",
      "model_module_version": "*",
      "model_name": "IntSliderModel",
      "state": {
       "description": "Source",
       "layout": "IPY_MODEL_6f4568400e4e41a4b9c95fc830959e13"
      }
     },
     "efbf5fd616464fb9b504870becc6b170": {
      "model_module": "jupyter-js-widgets",
      "model_module_version": "*",
      "model_name": "LabelModel",
      "state": {
       "layout": "IPY_MODEL_33ba0f9ea252490e9d40fe0df57b591c",
       "value": "The values of range1 and range2 are synchronized"
      }
     },
     "efdf9ead0ff24439a2a0a1593cd0c0c5": {
      "model_module": "jupyter-js-widgets",
      "model_module_version": "*",
      "model_name": "LabelModel",
      "state": {
       "layout": "IPY_MODEL_eb920c88ea534c96907345834652dbd7",
       "value": "The values of slider1 and slider2 are synchronized"
      }
     },
     "f1deb7c675d04a698ac185368ceb0c2a": {
      "model_module": "jupyter-js-widgets",
      "model_module_version": "*",
      "model_name": "LayoutModel",
      "state": {}
     },
     "f69b841c14134ea3b8cc3570004e2158": {
      "model_module": "jupyter-js-widgets",
      "model_module_version": "*",
      "model_name": "IntSliderModel",
      "state": {
       "description": "Range 2",
       "layout": "IPY_MODEL_93aabb4aec0543ada7a4f593438323cf"
      }
     },
     "f77d924f20f2432aa1f3f3faa92a6f4f": {
      "model_module": "jupyter-js-widgets",
      "model_module_version": "*",
      "model_name": "LabelModel",
      "state": {
       "layout": "IPY_MODEL_6f089552ddce4fd8813cfb0d7231f119",
       "value": "Changes in source_range values are reflected in target_range1"
      }
     }
    },
    "version_major": 1,
    "version_minor": 0
   }
  }
 },
 "nbformat": 4,
 "nbformat_minor": 1
}
