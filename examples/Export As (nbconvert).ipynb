{
 "cells": [
  {
   "cell_type": "code",
   "execution_count": 1,
   "metadata": {
    "collapsed": true
   },
   "outputs": [],
   "source": [
    "# Widget related imports\n",
    "import ipywidgets as widgets\n",
    "from IPython.display import display, clear_output, Javascript\n",
    "from traitlets import Unicode\n",
    "\n",
    "# nbconvert related imports\n",
    "from nbconvert import get_export_names, export_by_name\n",
    "from nbconvert.writers import FilesWriter\n",
    "from nbformat import read, NO_CONVERT\n",
    "from nbconvert.utils.exceptions import ConversionException"
   ]
  },
  {
   "cell_type": "markdown",
   "metadata": {},
   "source": [
    "This notebook shows a really roundabout way to get the name of the notebook file using widgets.  The true purpose of this demo is to demonstrate how Javascript and Python widget models are related by `id`."
   ]
  },
  {
   "cell_type": "markdown",
   "metadata": {},
   "source": [
    "Create a text Widget without displaying it.  The widget will be used to store the notebook's name which is otherwise only available in the front-end."
   ]
  },
  {
   "cell_type": "code",
   "execution_count": 2,
   "metadata": {
    "collapsed": true
   },
   "outputs": [],
   "source": [
    "notebook_name = widgets.Text()"
   ]
  },
  {
   "cell_type": "markdown",
   "metadata": {},
   "source": [
    "Get the current notebook's name by pushing JavaScript to the browser that sets the notebook name in a string widget."
   ]
  },
  {
   "cell_type": "code",
   "execution_count": 3,
   "metadata": {},
   "outputs": [
    {
     "data": {
      "application/javascript": [
       "IPython.notebook.kernel.widget_manager.get_model('a7009bba64404e0cb66037ee847913b2').then(function(model) {\n",
       "    model.set('value', IPython.notebook.notebook_name);\n",
       "    model.save();\n",
       "});\n"
      ],
      "text/plain": [
       "<IPython.core.display.Javascript object>"
      ]
     },
     "metadata": {},
     "output_type": "display_data"
    }
   ],
   "source": [
    "js = \"\"\"IPython.notebook.kernel.widget_manager.get_model('%s').then(function(model) {\n",
    "    model.set('value', IPython.notebook.notebook_name);\n",
    "    model.save();\n",
    "});\n",
    "\"\"\" % notebook_name.model_id\n",
    "display(Javascript(data=js))"
   ]
  },
  {
   "cell_type": "code",
   "execution_count": 4,
   "metadata": {},
   "outputs": [
    {
     "data": {
      "text/plain": [
       "'Export As (nbconvert).ipynb'"
      ]
     },
     "execution_count": 4,
     "metadata": {},
     "output_type": "execute_result"
    }
   ],
   "source": [
    "filename = notebook_name.value\n",
    "filename"
   ]
  },
  {
   "cell_type": "markdown",
   "metadata": {},
   "source": [
    "Create the widget that will allow the user to Export the current notebook."
   ]
  },
  {
   "cell_type": "code",
   "execution_count": 5,
   "metadata": {
    "collapsed": true
   },
   "outputs": [],
   "source": [
    "exporter_names = widgets.Dropdown(options=get_export_names(), value='html')\n",
    "export_button = widgets.Button(description=\"Export\")\n",
    "download_link = widgets.HTML(visible=False)"
   ]
  },
  {
   "cell_type": "markdown",
   "metadata": {},
   "source": [
    "Export the notebook when the export button is clicked."
   ]
  },
  {
   "cell_type": "code",
   "execution_count": 6,
   "metadata": {
    "collapsed": true
   },
   "outputs": [],
   "source": [
    "file_writer = FilesWriter()\n",
    "\n",
    "def export(name, nb):\n",
    "    \n",
    "    # Get a unique key for the notebook and set it in the resources object.\n",
    "    notebook_name = name[:name.rfind('.')]\n",
    "    resources = {}\n",
    "    resources['unique_key'] = notebook_name\n",
    "    resources['output_files_dir'] = '%s_files' % notebook_name\n",
    "\n",
    "    # Try to export\n",
    "    try:\n",
    "        output, resources = export_by_name(exporter_names.value, nb)\n",
    "    except ConversionException as e:\n",
    "        download_link.value = \"<br>Could not export notebook!\"\n",
    "    else:\n",
    "        write_results = file_writer.write(output, resources, notebook_name=notebook_name)\n",
    "    \n",
    "        download_link.value = \"<br>Results: <a href='files/{filename}'><i>\\\"{filename}\\\"</i></a>\".format(filename=write_results)\n",
    "        download_link.visible = True\n",
    "        \n",
    "def handle_export(widget):\n",
    "    with open(filename, 'r') as f:\n",
    "        export(filename, read(f, NO_CONVERT))\n",
    "        \n",
    "export_button.on_click(handle_export)"
   ]
  },
  {
   "cell_type": "markdown",
   "metadata": {},
   "source": [
    "Display the controls."
   ]
  },
  {
   "cell_type": "code",
   "execution_count": 7,
   "metadata": {},
   "outputs": [
    {
     "data": {
      "application/vnd.jupyter.widget-view+json": {
       "model_id": "a4dc495852814d78bd9a31324b961ddf"
      }
     },
     "metadata": {},
     "output_type": "display_data"
    },
    {
     "data": {
      "application/vnd.jupyter.widget-view+json": {
       "model_id": "a8174186b0524154b238b1870ca2ef85"
      }
     },
     "metadata": {},
     "output_type": "display_data"
    },
    {
     "data": {
      "application/vnd.jupyter.widget-view+json": {
       "model_id": "08b5eafb18db4b05bf29703e65b03ab2"
      }
     },
     "metadata": {},
     "output_type": "display_data"
    }
   ],
   "source": [
    "display(exporter_names, export_button, download_link)"
   ]
  }
 ],
 "metadata": {
  "kernelspec": {
   "display_name": "Python 3",
   "language": "python",
   "name": "python3"
  },
  "language_info": {
   "codemirror_mode": {
    "name": "ipython",
    "version": 3
   },
   "file_extension": ".py",
   "mimetype": "text/x-python",
   "name": "python",
   "nbconvert_exporter": "python",
   "pygments_lexer": "ipython3",
   "version": "3.5.2"
  },
  "widgets": {
   "application/vnd.jupyter.widget-state+json": {
    "state": {
     "08b5eafb18db4b05bf29703e65b03ab2": {
      "model_module": "jupyter-js-widgets",
      "model_module_version": "*",
      "model_name": "HTMLModel",
      "state": {
       "layout": "IPY_MODEL_b13209e9f69b4f31b266e4bd45a3b2fa"
      }
     },
     "a4dc495852814d78bd9a31324b961ddf": {
      "model_module": "jupyter-js-widgets",
      "model_module_version": "*",
      "model_name": "DropdownModel",
      "state": {
       "_options_labels": [
        "custom",
        "html",
        "latex",
        "markdown",
        "notebook",
        "pdf",
        "python",
        "rst",
        "script",
        "slides",
        "asciidoc",
        "custom",
        "html",
        "latex",
        "markdown",
        "notebook",
        "pdf",
        "python",
        "rst",
        "script",
        "slides"
       ],
       "layout": "IPY_MODEL_ca6438fe432f4ea2ae17c8fe79d29a52",
       "value": "html"
      }
     },
     "a7009bba64404e0cb66037ee847913b2": {
      "model_module": "jupyter-js-widgets",
      "model_module_version": "*",
      "model_name": "TextModel",
      "state": {
       "layout": "IPY_MODEL_b773ff9f9e5e416e9242f5b3e6708843",
       "value": "Export As (nbconvert).ipynb"
      }
     },
     "a8174186b0524154b238b1870ca2ef85": {
      "model_module": "jupyter-js-widgets",
      "model_module_version": "*",
      "model_name": "ButtonModel",
      "state": {
       "description": "Export",
       "layout": "IPY_MODEL_b66db163e14c446688520c1f72ce7731"
      }
     },
     "b13209e9f69b4f31b266e4bd45a3b2fa": {
      "model_module": "jupyter-js-widgets",
      "model_module_version": "*",
      "model_name": "LayoutModel",
      "state": {}
     },
     "b66db163e14c446688520c1f72ce7731": {
      "model_module": "jupyter-js-widgets",
      "model_module_version": "*",
      "model_name": "LayoutModel",
      "state": {}
     },
     "b773ff9f9e5e416e9242f5b3e6708843": {
      "model_module": "jupyter-js-widgets",
      "model_module_version": "*",
      "model_name": "LayoutModel",
      "state": {}
     },
     "ca6438fe432f4ea2ae17c8fe79d29a52": {
      "model_module": "jupyter-js-widgets",
      "model_module_version": "*",
      "model_name": "LayoutModel",
      "state": {}
     }
    },
    "version_major": 1,
    "version_minor": 0
   }
  }
 },
 "nbformat": 4,
 "nbformat_minor": 1
}
