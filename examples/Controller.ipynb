{
 "cells": [
  {
   "cell_type": "markdown",
   "metadata": {},
   "source": [
    "# Using Game Controllers in the Jupyter Notebook"
   ]
  },
  {
   "cell_type": "markdown",
   "metadata": {},
   "source": [
    "The controller widget automatically detects connected gamepad and joysticks"
   ]
  },
  {
   "cell_type": "code",
   "execution_count": 1,
   "metadata": {
    "collapsed": true
   },
   "outputs": [],
   "source": [
    "from ipywidgets import Controller"
   ]
  },
  {
   "cell_type": "code",
   "execution_count": 2,
   "metadata": {},
   "outputs": [
    {
     "data": {
      "application/vnd.jupyter.widget-view+json": {
       "model_id": "40b0990dafcd4cb8b7c00c8041222034"
      }
     },
     "metadata": {},
     "output_type": "display_data"
    }
   ],
   "source": [
    "Controller()"
   ]
  },
  {
   "cell_type": "markdown",
   "metadata": {},
   "source": [
    "In the case where multiple controllers are connected, you may address the controllers by index"
   ]
  },
  {
   "cell_type": "code",
   "execution_count": 3,
   "metadata": {},
   "outputs": [
    {
     "data": {
      "application/vnd.jupyter.widget-view+json": {
       "model_id": "c3f75774dc664e928350681a9ce6380a"
      }
     },
     "metadata": {},
     "output_type": "display_data"
    }
   ],
   "source": [
    "Controller(index=1)"
   ]
  }
 ],
 "metadata": {
  "kernelspec": {
   "display_name": "Python 3",
   "language": "python",
   "name": "python3"
  },
  "language_info": {
   "codemirror_mode": {
    "name": "ipython",
    "version": 3
   },
   "file_extension": ".py",
   "mimetype": "text/x-python",
   "name": "python",
   "nbconvert_exporter": "python",
   "pygments_lexer": "ipython3",
   "version": "3.5.2"
  },
  "widgets": {
   "application/vnd.jupyter.widget-state+json": {
    "state": {
     "16973e7c66dd4cdfbcb19ee7c5acb731": {
      "model_module": "jupyter-js-widgets",
      "model_module_version": "*",
      "model_name": "LayoutModel",
      "state": {}
     },
     "3423e3a9c8ca4fae82b1e3d716ef5c54": {
      "model_module": "jupyter-js-widgets",
      "model_module_version": "*",
      "model_name": "ControllerModel",
      "state": {
       "layout": "IPY_MODEL_16973e7c66dd4cdfbcb19ee7c5acb731"
      }
     },
     "3889372bc0194aa3834bd934fd926af3": {
      "model_module": "jupyter-js-widgets",
      "model_module_version": "*",
      "model_name": "LayoutModel",
      "state": {}
     },
     "40b0990dafcd4cb8b7c00c8041222034": {
      "model_module": "jupyter-js-widgets",
      "model_module_version": "*",
      "model_name": "ControllerModel",
      "state": {
       "layout": "IPY_MODEL_3889372bc0194aa3834bd934fd926af3"
      }
     },
     "5a67efb69eb74a5ca41d1cd9968e92ca": {
      "model_module": "jupyter-js-widgets",
      "model_module_version": "*",
      "model_name": "LayoutModel",
      "state": {}
     },
     "68484499f0504418853575be5115d6f8": {
      "model_module": "jupyter-js-widgets",
      "model_module_version": "*",
      "model_name": "ControllerModel",
      "state": {
       "layout": "IPY_MODEL_9cf7cee45aa44bedac5e63eff8384497"
      }
     },
     "9cf7cee45aa44bedac5e63eff8384497": {
      "model_module": "jupyter-js-widgets",
      "model_module_version": "*",
      "model_name": "LayoutModel",
      "state": {}
     },
     "a1fc17d741cb4bbd9a7383eda6ee9472": {
      "model_module": "jupyter-js-widgets",
      "model_module_version": "*",
      "model_name": "LayoutModel",
      "state": {}
     },
     "c3f75774dc664e928350681a9ce6380a": {
      "model_module": "jupyter-js-widgets",
      "model_module_version": "*",
      "model_name": "ControllerModel",
      "state": {
       "index": 1,
       "layout": "IPY_MODEL_a1fc17d741cb4bbd9a7383eda6ee9472"
      }
     },
     "d20f5d023ee04e4abcd07b55c8b01d1d": {
      "model_module": "jupyter-js-widgets",
      "model_module_version": "*",
      "model_name": "ControllerModel",
      "state": {
       "index": 1,
       "layout": "IPY_MODEL_5a67efb69eb74a5ca41d1cd9968e92ca"
      }
     }
    },
    "version_major": 1,
    "version_minor": 0
   }
  }
 },
 "nbformat": 4,
 "nbformat_minor": 1
}
