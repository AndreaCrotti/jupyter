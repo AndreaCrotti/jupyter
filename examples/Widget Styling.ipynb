{
 "cells": [
  {
   "cell_type": "markdown",
   "metadata": {},
   "source": [
    "# Layout and Styling of Jupyter widgets\n",
    "\n",
    "This notebook presents how to layout and style Jupyter interactive widgets to build rich and *reactive* widget-based applications."
   ]
  },
  {
   "cell_type": "markdown",
   "metadata": {},
   "source": [
    "## The `layout` attribute.\n",
    "\n",
    "Every Jupyter interactive widget has a `layout` attribute exposing a number of CSS properties that impact how widgets are laid out.\n",
    "\n",
    "### Exposed CSS properties\n",
    "\n",
    "<div class=\"alert alert-info\" style=\"margin: 20px\">\n",
    "The following properties map to the values of the CSS properties of the same name (underscores being replaced with dashes), applied to the top DOM elements of the corresponding widget.\n",
    "</div>\n",
    "\n",
    "\n",
    "** Sizes **\n",
    "- `height`\n",
    "- `width`\n",
    "- `max_height`\n",
    "- `max_width`\n",
    "- `min_height`\n",
    "- `min_width`\n",
    "\n",
    "** Display **\n",
    "\n",
    "- `visibility`\n",
    "- `display`\n",
    "- `overflow`\n",
    "- `overflow_x`\n",
    "- `overflow_y`\n",
    "\n",
    "** Box model **\n",
    "- `border` \n",
    "- `margin`\n",
    "- `padding`\n",
    "\n",
    "** Positioning **\n",
    "- `top`\n",
    "- `left`\n",
    "- `bottom`\n",
    "- `right`\n",
    "\n",
    "** Flexbox **\n",
    "- `order`\n",
    "- `flex_flow`\n",
    "- `align_items`\n",
    "- `flex`\n",
    "- `align_self`\n",
    "- `align_content`\n",
    "- `justify_content`\n",
    "\n",
    "\n",
    "### Shorthand CSS properties\n",
    "\n",
    "You may have noticed that certain CSS properties such as `margin-[top/right/bottom/left]` seem to be missing. The same holds for `padding-[top/right/bottom/left]` etc.\n",
    "\n",
    "In fact, you can atomically specify `[top/right/bottom/left]` margins via the `margin` attribute alone by passing the string\n",
    "\n",
    "```\n",
    "margin: 100px 150px 100px 80px;\n",
    "```\n",
    "\n",
    "for a respectively `top`, `right`, `bottom` and `left` margins of  `100`, `150`, `100` and `80` pixels.\n",
    "\n",
    "Similarly, the `flex` attribute can hold values for `flex-grow`, `flex-shrink` and `flex-basis`. The `border` attribute is a shorthand property for `border-width`, `border-style (required)`, and `border-color`."
   ]
  },
  {
   "cell_type": "markdown",
   "metadata": {},
   "source": [
    "### Simple examples"
   ]
  },
  {
   "cell_type": "markdown",
   "metadata": {},
   "source": [
    "The following example shows how to resize a `Button` so that its views have a height of `80px` and a width of `50%` of the available space:"
   ]
  },
  {
   "cell_type": "code",
   "execution_count": 1,
   "metadata": {},
   "outputs": [
    {
     "data": {
      "application/vnd.jupyter.widget-view+json": {
       "model_id": "0c3e9af92468492791c4d3838ed37edd"
      }
     },
     "metadata": {},
     "output_type": "display_data"
    }
   ],
   "source": [
    "from ipywidgets import Button, Layout\n",
    "\n",
    "b = Button(description='(50% width, 80px height) button',\n",
    "           layout=Layout(width='50%', height='80px'))\n",
    "b"
   ]
  },
  {
   "cell_type": "markdown",
   "metadata": {},
   "source": [
    "The `layout` property can be shared between multiple widgets and assigned directly."
   ]
  },
  {
   "cell_type": "code",
   "execution_count": 2,
   "metadata": {},
   "outputs": [
    {
     "data": {
      "application/vnd.jupyter.widget-view+json": {
       "model_id": "545feb869a37491794c321ba352dc669"
      }
     },
     "metadata": {},
     "output_type": "display_data"
    }
   ],
   "source": [
    "Button(description='Another button with the same layout', layout=b.layout)"
   ]
  },
  {
   "cell_type": "markdown",
   "metadata": {},
   "source": [
    "### Description"
   ]
  },
  {
   "cell_type": "markdown",
   "metadata": {},
   "source": [
    "You may have noticed that the widget's length is shorter in presence of a description. This because the description is added *inside* of the widget's total length. You **cannot** change the width of the internal description field. If you need more flexibility to layout widgets and captions, you should use a combination with the `Label` widgets arranged in a layout."
   ]
  },
  {
   "cell_type": "code",
   "execution_count": 3,
   "metadata": {},
   "outputs": [
    {
     "data": {
      "application/vnd.jupyter.widget-view+json": {
       "model_id": "072fac29e1a042219ee8eebd1581b135"
      }
     },
     "metadata": {},
     "output_type": "display_data"
    }
   ],
   "source": [
    "from ipywidgets import HBox, Label, IntSlider\n",
    "\n",
    "HBox([Label('A too long description'), IntSlider()])"
   ]
  },
  {
   "cell_type": "markdown",
   "metadata": {},
   "source": [
    "### More Styling (colors, inner-widget details)\n",
    "\n",
    "The `layout` attribute only exposes layout-related CSS properties for the top-level DOM element of widgets. Individual widgets may expose more styling-related properties, or none. For example, the `Button` widget has a `button_style` attribute that may take 5 different values:\n",
    "\n",
    " - `'primary'`\n",
    " - `'success'`\n",
    " - `'info'`\n",
    " - `'warning'`\n",
    " - `'danger'`\n",
    "\n",
    "besides the default empty string ''."
   ]
  },
  {
   "cell_type": "code",
   "execution_count": 4,
   "metadata": {},
   "outputs": [
    {
     "data": {
      "application/vnd.jupyter.widget-view+json": {
       "model_id": "ae83652d783b4bdda73aec92a1739ad2"
      }
     },
     "metadata": {},
     "output_type": "display_data"
    }
   ],
   "source": [
    "from ipywidgets import Button\n",
    "\n",
    "Button(description='Danger Button', button_style='danger')"
   ]
  },
  {
   "cell_type": "markdown",
   "metadata": {},
   "source": [
    "### Natural sizes, and arrangements using HBox and VBox\n",
    "\n",
    "Most of the core-widgets have \n",
    "- a natural width that is a multiple of `148` pixels\n",
    "- a natural height of `32` pixels or a multiple of that number.\n",
    "- a default margin of `2` pixels\n",
    "\n",
    "which will be the ones used when it is not specified in the `layout` attribute.\n",
    "\n",
    "This allows simple layouts based on the `HBox` and `VBox` helper functions to align naturally:"
   ]
  },
  {
   "cell_type": "code",
   "execution_count": 5,
   "metadata": {},
   "outputs": [
    {
     "data": {
      "application/vnd.jupyter.widget-view+json": {
       "model_id": "a56605e4a4f84f94bc3013340868162e"
      }
     },
     "metadata": {},
     "output_type": "display_data"
    }
   ],
   "source": [
    "from ipywidgets import Button, HBox, VBox\n",
    "\n",
    "words = ['correct', 'horse', 'battery', 'staple']\n",
    "items = [Button(description=w) for w in words]\n",
    "\n",
    "HBox([VBox([items[0], items[1]]), VBox([items[2], items[3]])])"
   ]
  },
  {
   "cell_type": "markdown",
   "metadata": {},
   "source": [
    "### Latex"
   ]
  },
  {
   "cell_type": "markdown",
   "metadata": {},
   "source": [
    "Widgets such as sliders and text inputs have a description attribute that can render Latex Equations. The `Label` widget also renders Latex equations."
   ]
  },
  {
   "cell_type": "code",
   "execution_count": 6,
   "metadata": {},
   "outputs": [],
   "source": [
    "from ipywidgets import IntSlider, Label"
   ]
  },
  {
   "cell_type": "code",
   "execution_count": 7,
   "metadata": {},
   "outputs": [
    {
     "data": {
      "application/vnd.jupyter.widget-view+json": {
       "model_id": "2d2dfcda75774ffaa9239cc2a551b00a"
      }
     },
     "metadata": {},
     "output_type": "display_data"
    }
   ],
   "source": [
    "IntSlider(description='$\\int_0^t f$')"
   ]
  },
  {
   "cell_type": "code",
   "execution_count": 8,
   "metadata": {},
   "outputs": [
    {
     "data": {
      "application/vnd.jupyter.widget-view+json": {
       "model_id": "dce8c3e7885a4d6991239018e8279285"
      }
     },
     "metadata": {},
     "output_type": "display_data"
    }
   ],
   "source": [
    "Label(value='$e=mc^2$')"
   ]
  },
  {
   "cell_type": "markdown",
   "metadata": {},
   "source": [
    "### Number formatting\n",
    "\n",
    "Sliders have a readout field which can be formatted using Python's *[Format Specification Mini-Language](https://docs.python.org/3/library/string.html#format-specification-mini-language)*. If the space available for the readout is too narrow for the string representation of the slider value, a different styling is applied to show that not all digits are visible."
   ]
  },
  {
   "cell_type": "markdown",
   "metadata": {},
   "source": [
    "## The Flexbox layout\n",
    "\n",
    "In fact, the `HBox` and `VBox` helpers used above are functions returning instances of the `Box` widget with specific options.\n",
    "\n",
    "The `Box` widgets enables the entire CSS Flexbox spec, enabling rich reactive layouts in the Jupyter notebook. It aims at providing an efficient way to lay out, align and distribute space among items in a container.\n",
    "\n",
    "Again, the whole Flexbox spec is exposed via the `layout` attribute of the container widget (`Box`) and the contained items. One may share the same `layout` attribute among all the contained items.\n",
    "\n",
    "### Acknowledgement\n",
    "\n",
    "The following tutorial on the Flexbox layout follows the lines of the article *[A Complete Guide to Flexbox](https://css-tricks.com/snippets/css/a-guide-to-flexbox/)* by Chris Coyier.\n",
    "\n",
    "### Basics and terminology\n",
    "\n",
    "Since flexbox is a whole module and not a single property, it involves a lot of things including its whole set of properties. Some of them are meant to be set on the container (parent element, known as \"flex container\") whereas the others are meant to be set on the children (said \"flex items\").\n",
    "\n",
    "If regular layout is based on both block and inline flow directions, the flex layout is based on \"flex-flow directions\". Please have a look at this figure from the specification, explaining the main idea behind the flex layout.\n",
    "\n",
    "![Flexbox](./images/flexbox.png)\n",
    "\n",
    "Basically, items will be laid out following either the `main axis` (from `main-start` to `main-end`) or the `cross axis` (from `cross-start` to `cross-end`).\n",
    "\n",
    "- `main axis` - The main axis of a flex container is the primary axis along which flex items are laid out. Beware, it is not necessarily horizontal; it depends on the flex-direction property (see below).\n",
    "- `main-start | main-end` - The flex items are placed within the container starting from main-start and going to main-end.\n",
    "- `main size` - A flex item's width or height, whichever is in the main dimension, is the item's main size. The flex item's main size property is either the ‘width’ or ‘height’ property, whichever is in the main dimension.\n",
    "cross axis - The axis perpendicular to the main axis is called the cross axis. Its direction depends on the main axis direction.\n",
    "- `cross-start | cross-end` - Flex lines are filled with items and placed into the container starting on the cross-start side of the flex container and going toward the cross-end side.\n",
    "- `cross size` - The width or height of a flex item, whichever is in the cross dimension, is the item's cross size. The cross size property is whichever of ‘width’ or ‘height’ that is in the cross dimension.\n",
    "\n",
    "### Properties of the parent\n",
    "\n",
    "![Container](./images/flex-container.svg)\n",
    "\n",
    "- `display` (must be equal to 'flex' or 'inline-flex')\n",
    "\n",
    "  This defines a flex container (inline or block).\n",
    "- `flex-flow` **(shorthand for two properties)**\n",
    "\n",
    "   This is a shorthand `flex-direction` and `flex-wrap` properties, which together define the flex container's main and cross axes. Default is `row nowrap`.\n",
    "\n",
    "    - `flex-direction` (row | row-reverse | column | column-reverse)\n",
    "    \n",
    "      This establishes the main-axis, thus defining the direction flex items are placed in the flex container. Flexbox is (aside from optional wrapping) a single-direction layout concept. Think of flex items as primarily laying out either in horizontal rows or vertical columns.\n",
    "      ![Direction](./images/flex-direction1.svg)\n",
    "    \n",
    "    - `flex-wrap` (nowrap | wrap | wrap-reverse)\n",
    "      \n",
    "      By default, flex items will all try to fit onto one line. You can change that and allow the items to wrap as needed with this property. Direction also plays a role here, determining the direction new lines are stacked in.\n",
    "      ![Wrap](./images/flex-wrap.svg)\n",
    "\n",
    "- `justify-content` (flex-start | flex-end | center | space-between | space-around)\n",
    "\n",
    "  This defines the alignment along the main axis. It helps distribute extra free space left over when either all the flex items on a line are inflexible, or are flexible but have reached their maximum size. It also exerts some control over the alignment of items when they overflow the line.\n",
    "  ![Justify](./images/justify-content.svg)\n",
    "\n",
    "- `align-items` (flex-start | flex-end | center | baseline | stretch)\n",
    "\n",
    "   This defines the default behaviour for how flex items are laid out along the cross axis on the current line. Think of it as the justify-content version for the cross-axis (perpendicular to the main-axis).\n",
    "   ![Items](./images/align-items.svg)\n",
    "   \n",
    "- `align-content` (flex-start | flex-end | center | baseline | stretch)\n",
    "\n",
    "   This aligns a flex container's lines within when there is extra space in the cross-axis, similar to how justify-content aligns individual items within the main-axis.\n",
    "   ![Items](./images/align-content.svg)\n",
    "\n",
    "  **Note**: this property has no effect when there is only one line of flex items.\n",
    "\n",
    "### Properties of the items\n",
    "\n",
    "![Item](./images/flex-items.svg)\n",
    "\n",
    "The flexbox-related CSS properties of the items have no impact if the parent element is not a flexbox container (i.e. has a `display` attribute equal to `flex` or `inline-flex`).\n",
    "\n",
    "\n",
    "- `order`\n",
    "\n",
    "   By default, flex items are laid out in the source order. However, the order property controls the order in which they appear in the flex container.\n",
    "   <img src=\"./images/order-2.svg\" alt=\"Order\" style=\"width: 500px;\"/>\n",
    "   \n",
    "- `flex` **(shorthand for three properties)**\n",
    "   This is the shorthand for flex-grow, flex-shrink and flex-basis combined. The second and third parameters (flex-shrink and flex-basis) are optional. Default is `0 1 auto`.\n",
    "   \n",
    "    - `flex-grow`\n",
    "    \n",
    "      This defines the ability for a flex item to grow if necessary. It accepts a unitless value that serves as a proportion. It dictates what amount of the available space inside the flex container the item should take up.\n",
    "\n",
    "      If all items have flex-grow set to 1, the remaining space in the container will be distributed equally to all children. If one of the children a value of 2, the remaining space would take up twice as much space as the others (or it will try to, at least).\n",
    "        ![Grow](./images/flex-grow.svg)\n",
    "      \n",
    "    - `flex-shrink`\n",
    "    \n",
    "      This defines the ability for a flex item to shrink if necessary.\n",
    "      \n",
    "    - `flex-basis`\n",
    "    \n",
    "      This defines the default size of an element before the remaining space is distributed. It can be a length (e.g. `20%`, `5rem`, etc.) or a keyword. The `auto` keyword means *\"look at my width or height property\"*.\n",
    "      \n",
    "- `align-self`\n",
    "\n",
    "  This allows the default alignment (or the one specified by align-items) to be overridden for individual flex items.\n",
    "\n",
    "  ![Align](./images/align-self.svg)\n",
    "\n",
    "### The VBox and HBox helpers\n",
    "\n",
    "The `VBox` and `HBox` helper provide simple defaults to arrange child widgets in Vertical and Horizontal boxes.\n",
    "\n",
    "```Python\n",
    "def VBox(*pargs, **kwargs):\n",
    "    \"\"\"Displays multiple widgets vertically using the flexible box model.\"\"\"\n",
    "    box = Box(*pargs, **kwargs)\n",
    "    box.layout.display = 'flex'\n",
    "    box.layout.flex_flow = 'column'\n",
    "    box.layout.align_items = 'stretch'\n",
    "    return box\n",
    "\n",
    "def HBox(*pargs, **kwargs):\n",
    "    \"\"\"Displays multiple widgets horizontally using the flexible box model.\"\"\"\n",
    "    box = Box(*pargs, **kwargs)\n",
    "    box.layout.display = 'flex'\n",
    "    box.layout.align_items = 'stretch'\n",
    "    return box\n",
    "```\n",
    "\n",
    "\n",
    "### Examples"
   ]
  },
  {
   "cell_type": "markdown",
   "metadata": {},
   "source": [
    "**Four buttons in a `VBox`. Items stretch to the maximum width, in a vertical box taking `50%` of the available space.**"
   ]
  },
  {
   "cell_type": "code",
   "execution_count": 9,
   "metadata": {},
   "outputs": [
    {
     "data": {
      "application/vnd.jupyter.widget-view+json": {
       "model_id": "c5c59a3887d54295bbb540d1d982470b"
      }
     },
     "metadata": {},
     "output_type": "display_data"
    }
   ],
   "source": [
    "from ipywidgets import Layout, Button, Box\n",
    "\n",
    "items_layout = Layout(flex='1 1 auto',\n",
    "                      width='auto')     # override the default width of the button to 'auto' to let the button grow\n",
    "\n",
    "box_layout = Layout(display='flex',\n",
    "                    flex_flow='column', \n",
    "                    align_items='stretch', \n",
    "                    border='solid',\n",
    "                    width='50%')\n",
    "\n",
    "words = ['correct', 'horse', 'battery', 'staple']\n",
    "items = [Button(description=w, layout=items_layout, button_style='danger') for w in words]\n",
    "box = Box(children=items, layout=box_layout)\n",
    "box"
   ]
  },
  {
   "cell_type": "markdown",
   "metadata": {},
   "source": [
    "**Three buttons in an HBox. Items flex proportionaly to their weight.**"
   ]
  },
  {
   "cell_type": "code",
   "execution_count": 10,
   "metadata": {},
   "outputs": [
    {
     "data": {
      "application/vnd.jupyter.widget-view+json": {
       "model_id": "006b50a7bd5047279fb13895c1cef741"
      }
     },
     "metadata": {},
     "output_type": "display_data"
    }
   ],
   "source": [
    "from ipywidgets import Layout, Button, Box\n",
    "\n",
    "items_layout = Layout(flex='1 1 auto', width='auto')     # override the default width of the button to 'auto' to let the button grow\n",
    "\n",
    "items = [\n",
    "    Button(description='weight=1'),\n",
    "    Button(description='weight=2', layout=Layout(flex='2 1 auto', width='auto')),\n",
    "    Button(description='weight=1'),\n",
    " ]\n",
    "\n",
    "box_layout = Layout(display='flex',\n",
    "                    flex_flow='row', \n",
    "                    align_items='stretch', \n",
    "                    border='solid',\n",
    "                    width='50%')\n",
    "box = Box(children=items, layout=box_layout)\n",
    "box"
   ]
  },
  {
   "cell_type": "markdown",
   "metadata": {},
   "source": [
    "**A more advanced example: a reactive form.**\n",
    "\n",
    "The form is a `VBox` of width '50%'. Each row in the VBox is an HBox, that justifies the content with space between.."
   ]
  },
  {
   "cell_type": "code",
   "execution_count": 11,
   "metadata": {},
   "outputs": [
    {
     "data": {
      "application/vnd.jupyter.widget-view+json": {
       "model_id": "d965e2481f894f528980b9cc6f8fba4c"
      }
     },
     "metadata": {},
     "output_type": "display_data"
    }
   ],
   "source": [
    "from ipywidgets import Layout, Button, Box, FloatText, Textarea, Dropdown, Label, IntSlider\n",
    "\n",
    "label_layout = Layout()\n",
    "\n",
    "form_item_layout = Layout(\n",
    "    display='flex',\n",
    "    flex_flow='row',\n",
    "    justify_content='space-between'\n",
    ")\n",
    "\n",
    "form_items = [\n",
    "    Box([Label(value='Age of the captain'), IntSlider(min=40, max=60)], layout=form_item_layout),\n",
    "    Box([Label(value='Egg style'), \n",
    "         Dropdown(options=['Scrambled', 'Sunny side up', 'Over easy'])], layout=form_item_layout),\n",
    "    Box([Label(value='Ship size'), \n",
    "         FloatText()], layout=form_item_layout),\n",
    "    Box([Label(value='Information'), \n",
    "         Textarea()], layout=form_item_layout)\n",
    "]\n",
    "\n",
    "form = Box(form_items, layout=Layout(\n",
    "    display='flex',\n",
    "    flex_flow='column',\n",
    "    border='solid 2px',\n",
    "    align_items='stretch',\n",
    "    width='50%'\n",
    "))\n",
    "form"
   ]
  },
  {
   "cell_type": "markdown",
   "metadata": {},
   "source": [
    "**A more advanced example: a carousel.**"
   ]
  },
  {
   "cell_type": "code",
   "execution_count": 12,
   "metadata": {},
   "outputs": [
    {
     "data": {
      "application/vnd.jupyter.widget-view+json": {
       "model_id": "130288326a774f91912a5f848d39a688"
      }
     },
     "metadata": {},
     "output_type": "display_data"
    }
   ],
   "source": [
    "from ipywidgets import Layout, Button, Box\n",
    "\n",
    "item_layout = Layout(height='100px', min_width='40px')\n",
    "items = [Button(layout=item_layout, button_style='warning') for i in range(40)]\n",
    "box_layout = Layout(overflow_x='scroll',\n",
    "                    border='3px solid black',\n",
    "                    width='500px',\n",
    "                    height='',\n",
    "                    flex_direction='row',\n",
    "                    display='flex')\n",
    "carousel = Box(children=items, layout=box_layout)\n",
    "carousel"
   ]
  }
 ],
 "metadata": {
  "kernelspec": {
   "display_name": "Python",
   "language": "python",
   "name": "python"
  },
  "language_info": {
   "codemirror_mode": {
    "name": "ipython",
    "version": 3
   },
   "file_extension": ".py",
   "mimetype": "text/x-python",
   "name": "python",
   "nbconvert_exporter": "python",
   "pygments_lexer": "ipython3",
   "version": "3.5.2"
  },
  "widgets": {
   "application/vnd.jupyter.widget-state+json": {
    "state": {
     "006b50a7bd5047279fb13895c1cef741": {
      "model_module": "jupyter-js-widgets",
      "model_module_version": "*",
      "model_name": "BoxModel",
      "state": {
       "children": [
        "IPY_MODEL_01f54d1544854900b2ae2b4b14212b95",
        "IPY_MODEL_2a9b486f621941ac951dd73ba4e03430",
        "IPY_MODEL_2bbcfeb3608c43138942ab3a5fa90b44"
       ],
       "layout": "IPY_MODEL_418af8c323474124ae5399c804a73f95"
      }
     },
     "009b5fd4342a4b4bb855949ed568be0c": {
      "model_module": "jupyter-js-widgets",
      "model_module_version": "*",
      "model_name": "LabelModel",
      "state": {
       "layout": "IPY_MODEL_c50feddb16ae44b2ad13a096d7e41e8f",
       "value": "Ship size"
      }
     },
     "01f54d1544854900b2ae2b4b14212b95": {
      "model_module": "jupyter-js-widgets",
      "model_module_version": "*",
      "model_name": "ButtonModel",
      "state": {
       "description": "weight=1",
       "layout": "IPY_MODEL_8a09ca2a66914b11943704fbbb1c0468"
      }
     },
     "023e08e6dcdb4a16bdd579fe4fafc158": {
      "model_module": "jupyter-js-widgets",
      "model_module_version": "*",
      "model_name": "ButtonModel",
      "state": {
       "button_style": "warning",
       "layout": "IPY_MODEL_19c41936e20c4f488b430f803725cb7b"
      }
     },
     "02975b8d14e04f2e86a18ef5e5462081": {
      "model_module": "jupyter-js-widgets",
      "model_module_version": "*",
      "model_name": "ButtonModel",
      "state": {
       "description": "horse",
       "layout": "IPY_MODEL_2f8b93a66d15467c8136977916788b8e"
      }
     },
     "02b120db3ac04aed90fcd84b9e2c5a97": {
      "model_module": "jupyter-js-widgets",
      "model_module_version": "*",
      "model_name": "HBoxModel",
      "state": {
       "children": [
        "IPY_MODEL_521ca8b72c70457f85e2e948432bf341",
        "IPY_MODEL_126fb37dcdbe4f5997e2de5c1e567629"
       ],
       "layout": "IPY_MODEL_68a12c4fd53b41d08b377ed06baee9b2"
      }
     },
     "0463da25499c4ee7ba776593f55ed97e": {
      "model_module": "jupyter-js-widgets",
      "model_module_version": "*",
      "model_name": "BoxModel",
      "state": {
       "children": [
        "IPY_MODEL_90f114ffec96426db872d29fdd4d0bdf",
        "IPY_MODEL_890a3041998447169dab47fda9d948d6",
        "IPY_MODEL_1a23f9f4cd0149bd9f2b6053bec841a5",
        "IPY_MODEL_70f123f336a54b8384c0cf4012e5e526",
        "IPY_MODEL_a8f7c32c43ad466cb178c268b5804e05",
        "IPY_MODEL_cd475e2e9f1d4e1d81fc554e8c803bd1",
        "IPY_MODEL_ddb1e6010d0143c1aff6e4871f1d7d1b",
        "IPY_MODEL_408d0e93e6ef486fb4d811a685a98f31",
        "IPY_MODEL_26ccc54d51c34d41bd47a07393f8a88b",
        "IPY_MODEL_f9f8a658313f4b3b9fdff5891c4c28c0",
        "IPY_MODEL_af012f318d074645ab678da8c26c1683",
        "IPY_MODEL_c1a114c510924614bca7f95c194ccb87",
        "IPY_MODEL_a9820205acf6458699decc4cea51904a",
        "IPY_MODEL_62d875e9b6054f7babd6929e68f84ca7",
        "IPY_MODEL_056cae1168f644ecb5d9941b7a8c7f11",
        "IPY_MODEL_526acf4766ea444f8258bb9595deb0ba",
        "IPY_MODEL_5aa80037540140728995b55486f94b76",
        "IPY_MODEL_ea38d5b376be4deba98765462ffedff6",
        "IPY_MODEL_bcfe7c69d6d34bbd9f8b821ec56df04e",
        "IPY_MODEL_20b5b1a432c84678b16768f4500756ec",
        "IPY_MODEL_85bd0f52190c4d9aa86e01054e9b6d96",
        "IPY_MODEL_58772345b5e84265a733b06e60177181",
        "IPY_MODEL_9fe13e33e2604c43882d753293217deb",
        "IPY_MODEL_5c996981649846418cfdd1006d148f71",
        "IPY_MODEL_42e769a4538d47e08eacffd0a913b64c",
        "IPY_MODEL_12c32c40b86f426a9174f4b684ebe30e",
        "IPY_MODEL_67face2c43864612932d3af62b50db8b",
        "IPY_MODEL_b487d4ab62c24b0dae62401d75e4124f",
        "IPY_MODEL_179b78362d8f4b579b6e99036a5533ef",
        "IPY_MODEL_383d0ff6054a422ba27c16d69b3c490c",
        "IPY_MODEL_8cb6683ae7dd4ffcb7fb41d7c02ff73a",
        "IPY_MODEL_a0cdf9099c444cc99899f4f8be1a7183",
        "IPY_MODEL_877ef0b6a8344d86abdd4fb12a392d9b",
        "IPY_MODEL_a0005408bc7d49edbcc0e287cde15c15",
        "IPY_MODEL_2180925a657c4c5f9dacd6f1a6addc85",
        "IPY_MODEL_e0552d4ac07f4a5399e0661713cd2e30",
        "IPY_MODEL_59751f3f38864008ad424db0891cf47e",
        "IPY_MODEL_cdf779f172954778ba2e03781f9968ab",
        "IPY_MODEL_3ed6b10288d746799a27c5cfb835d22d",
        "IPY_MODEL_d4bf62130da64aad9f96480f14287f19"
       ],
       "layout": "IPY_MODEL_51488d84c4cf4618801b3f3416172dc4"
      }
     },
     "0524aea0564e4aefb63a0a197fb55d53": {
      "model_module": "jupyter-js-widgets",
      "model_module_version": "*",
      "model_name": "ButtonModel",
      "state": {
       "description": "staple",
       "layout": "IPY_MODEL_a6fc0a12d8094c1c8061ca00aae67344"
      }
     },
     "0562bd0daa1f49159d75d12784781d76": {
      "model_module": "jupyter-js-widgets",
      "model_module_version": "*",
      "model_name": "LayoutModel",
      "state": {}
     },
     "056cae1168f644ecb5d9941b7a8c7f11": {
      "model_module": "jupyter-js-widgets",
      "model_module_version": "*",
      "model_name": "ButtonModel",
      "state": {
       "button_style": "warning",
       "layout": "IPY_MODEL_8b1934e86e7f43a59a44fba886f2fcb4"
      }
     },
     "05bcc26ed1594cd3a32809a9ad3df0d5": {
      "model_module": "jupyter-js-widgets",
      "model_module_version": "*",
      "model_name": "ButtonModel",
      "state": {
       "button_style": "warning",
       "layout": "IPY_MODEL_a1601cf222924b40987b16144afce1bb"
      }
     },
     "05c2513dace941678dc17f32eb77c7d0": {
      "model_module": "jupyter-js-widgets",
      "model_module_version": "*",
      "model_name": "ButtonModel",
      "state": {
       "button_style": "warning",
       "layout": "IPY_MODEL_19c41936e20c4f488b430f803725cb7b"
      }
     },
     "072fac29e1a042219ee8eebd1581b135": {
      "model_module": "jupyter-js-widgets",
      "model_module_version": "*",
      "model_name": "HBoxModel",
      "state": {
       "children": [
        "IPY_MODEL_3235a23c83644cabb98f429c99b18fbb",
        "IPY_MODEL_47a6ab0bcc4347d8a1d30b3007f697c1"
       ],
       "layout": "IPY_MODEL_aaf38b8c00404147ae0df13295052730"
      }
     },
     "0747f139e5004105bccc581db9a2b936": {
      "model_module": "jupyter-js-widgets",
      "model_module_version": "*",
      "model_name": "VBoxModel",
      "state": {
       "children": [
        "IPY_MODEL_dd716baca99f42d9a573d904d7f703d0",
        "IPY_MODEL_7df422d862ff4eae9803d0423272b34f"
       ],
       "layout": "IPY_MODEL_9ef40ca6ce1143e5858371d2f566bc1f"
      }
     },
     "08961d811f34476284799f07f7e8d176": {
      "model_module": "jupyter-js-widgets",
      "model_module_version": "*",
      "model_name": "ButtonModel",
      "state": {
       "button_style": "warning",
       "layout": "IPY_MODEL_20df9245d9d642e0b7c7a43afc4f5cb1"
      }
     },
     "0a290fa7754c4bf3ba87c2ca052d36d4": {
      "model_module": "jupyter-js-widgets",
      "model_module_version": "*",
      "model_name": "ButtonModel",
      "state": {
       "button_style": "warning",
       "layout": "IPY_MODEL_20df9245d9d642e0b7c7a43afc4f5cb1"
      }
     },
     "0a8fd58826194fd187de23acd8901567": {
      "model_module": "jupyter-js-widgets",
      "model_module_version": "*",
      "model_name": "LayoutModel",
      "state": {}
     },
     "0aae2e3ae7e2408d9d0456746a58b373": {
      "model_module": "jupyter-js-widgets",
      "model_module_version": "*",
      "model_name": "IntSliderModel",
      "state": {
       "layout": "IPY_MODEL_512cd877dc85413ca4022385a36962fc",
       "max": 60,
       "min": 40,
       "value": 40
      }
     },
     "0b31e6b8989c41e5bc4c762730c3d596": {
      "model_module": "jupyter-js-widgets",
      "model_module_version": "*",
      "model_name": "ButtonModel",
      "state": {
       "button_style": "warning",
       "layout": "IPY_MODEL_19c41936e20c4f488b430f803725cb7b"
      }
     },
     "0b99bd9a59ee4adba0a8e12778b430b9": {
      "model_module": "jupyter-js-widgets",
      "model_module_version": "*",
      "model_name": "ButtonModel",
      "state": {
       "button_style": "warning",
       "layout": "IPY_MODEL_20df9245d9d642e0b7c7a43afc4f5cb1"
      }
     },
     "0c3e9af92468492791c4d3838ed37edd": {
      "model_module": "jupyter-js-widgets",
      "model_module_version": "*",
      "model_name": "ButtonModel",
      "state": {
       "description": "(50% width, 80px height) button",
       "layout": "IPY_MODEL_bac42a81e6164405ad93e3bc3c50befc"
      }
     },
     "0d26c619f9f14e278591a8441060f450": {
      "model_module": "jupyter-js-widgets",
      "model_module_version": "*",
      "model_name": "TextareaModel",
      "state": {
       "layout": "IPY_MODEL_405b65e8dbe247fd8de1aea2bec59c08"
      }
     },
     "0e43b96b28eb419abe93042008ed4f31": {
      "model_module": "jupyter-js-widgets",
      "model_module_version": "*",
      "model_name": "ButtonModel",
      "state": {
       "button_style": "warning",
       "layout": "IPY_MODEL_a1601cf222924b40987b16144afce1bb"
      }
     },
     "103b5da8842f4218bf561e4c2973b2ba": {
      "model_module": "jupyter-js-widgets",
      "model_module_version": "*",
      "model_name": "LayoutModel",
      "state": {}
     },
     "1134df8a28024b168a4b143f795ff1c6": {
      "model_module": "jupyter-js-widgets",
      "model_module_version": "*",
      "model_name": "LabelModel",
      "state": {
       "layout": "IPY_MODEL_1f2fc8d7e321442d871f3022ec798a9f",
       "value": "Egg style"
      }
     },
     "12008a9fee494b85bf99d5a1e33ebdad": {
      "model_module": "jupyter-js-widgets",
      "model_module_version": "*",
      "model_name": "ButtonModel",
      "state": {
       "button_style": "warning",
       "layout": "IPY_MODEL_20df9245d9d642e0b7c7a43afc4f5cb1"
      }
     },
     "126fb37dcdbe4f5997e2de5c1e567629": {
      "model_module": "jupyter-js-widgets",
      "model_module_version": "*",
      "model_name": "IntSliderModel",
      "state": {
       "layout": "IPY_MODEL_827cd6c840884fc5a127308b7c7cad58"
      }
     },
     "12a5abe7116a4fbe92ccde8e08657255": {
      "model_module": "jupyter-js-widgets",
      "model_module_version": "*",
      "model_name": "ButtonModel",
      "state": {
       "button_style": "danger",
       "description": "horse",
       "layout": "IPY_MODEL_6d7283ceb9874d1bb3b7857af4d68c29"
      }
     },
     "12bc4f25f384496caec8a18d7abcba4b": {
      "model_module": "jupyter-js-widgets",
      "model_module_version": "*",
      "model_name": "ButtonModel",
      "state": {
       "button_style": "warning",
       "layout": "IPY_MODEL_20df9245d9d642e0b7c7a43afc4f5cb1"
      }
     },
     "12c32c40b86f426a9174f4b684ebe30e": {
      "model_module": "jupyter-js-widgets",
      "model_module_version": "*",
      "model_name": "ButtonModel",
      "state": {
       "button_style": "warning",
       "layout": "IPY_MODEL_8b1934e86e7f43a59a44fba886f2fcb4"
      }
     },
     "12c8e2052e9e4e219bc9704d27392685": {
      "model_module": "jupyter-js-widgets",
      "model_module_version": "*",
      "model_name": "LayoutModel",
      "state": {}
     },
     "12df185fb6f14924abbefe6bed68a7cd": {
      "model_module": "jupyter-js-widgets",
      "model_module_version": "*",
      "model_name": "ButtonModel",
      "state": {
       "button_style": "danger",
       "description": "correct",
       "layout": "IPY_MODEL_8337a3ad7f614ea889a843031d607be6"
      }
     },
     "130288326a774f91912a5f848d39a688": {
      "model_module": "jupyter-js-widgets",
      "model_module_version": "*",
      "model_name": "BoxModel",
      "state": {
       "children": [
        "IPY_MODEL_6d0d945292184ebba1c5edcd55dd6a5a",
        "IPY_MODEL_7e1abe01455f462bb8bdfcef2f2d6171",
        "IPY_MODEL_d6ac49fbb03b452cb1b4475b70056c3d",
        "IPY_MODEL_eac6a5f05caa4a8aa16c433fa4d055c4",
        "IPY_MODEL_bb12966cc62944abb28253f3f3936204",
        "IPY_MODEL_c179f4882de44a6b95759b7c5cb100a7",
        "IPY_MODEL_99f4a87c69904111a31c56e58ca3e96c",
        "IPY_MODEL_4ec2ae98d8a34f0893d64a197ee2b953",
        "IPY_MODEL_cca1aa6132924225a3ba2a220787fdfa",
        "IPY_MODEL_b03bb62047024010af691fdef9556066",
        "IPY_MODEL_d86a45d048b84279914d5ab883ae8eea",
        "IPY_MODEL_9143c96f1c36472db530bf4d7ab384cb",
        "IPY_MODEL_05bcc26ed1594cd3a32809a9ad3df0d5",
        "IPY_MODEL_68a58b14ae5744eca6c89e83f0d436a8",
        "IPY_MODEL_947be7020b6c4176a63a16b3d7ec80dd",
        "IPY_MODEL_43bd9637e7d246808652f977ee625620",
        "IPY_MODEL_655d45283b1a4caf9ca6f8d56955a588",
        "IPY_MODEL_f4fadc8433184459be453e31d3063755",
        "IPY_MODEL_7712147f283e4c91bc51e68f04251ca0",
        "IPY_MODEL_3623715145b4445991f6111c9a621be6",
        "IPY_MODEL_35c20c73d12a414ba74bab2047efc0a5",
        "IPY_MODEL_547fa56d6ec54e3890ff289ff3099607",
        "IPY_MODEL_e5aa3e3e890642d5a90943441640b1b5",
        "IPY_MODEL_26f7d22cf1014615ab67c9a1d31ef63e",
        "IPY_MODEL_21a04a73aa05440484a2d8b60f852708",
        "IPY_MODEL_c119de6ef35943968ba2e9776f34ab80",
        "IPY_MODEL_4e56d259472546bb8d75c286e4303813",
        "IPY_MODEL_d2278accda15414f8b8788582785b1ac",
        "IPY_MODEL_56aa519643e1483eaacda070a25270f8",
        "IPY_MODEL_7209bb98dd6b453b84676aedd40e21db",
        "IPY_MODEL_341abd3e039047ab8fb05106f253e380",
        "IPY_MODEL_1858688c1c2143e5b6a3c511ad5dde44",
        "IPY_MODEL_ee75b400787545419b79999e46e966a9",
        "IPY_MODEL_f7527cf9b56b447bb7a4a14cd572cfa7",
        "IPY_MODEL_a9de6e88afc247e382aa9f412805748d",
        "IPY_MODEL_6419bac9c79b4352bb3d2124feb83635",
        "IPY_MODEL_9a8ca14a6c7b4fa3b92338aa5f86087a",
        "IPY_MODEL_4be5925b8c5949959e5c7ae90721ba11",
        "IPY_MODEL_0e43b96b28eb419abe93042008ed4f31",
        "IPY_MODEL_e6ea8f61a1764123acdd888cad7a3ed9"
       ],
       "layout": "IPY_MODEL_d21d7a5f5daf40f2b98ac59c96aabc18"
      }
     },
     "133cb69a368e4184afcadd7c43c175a5": {
      "model_module": "jupyter-js-widgets",
      "model_module_version": "*",
      "model_name": "ButtonModel",
      "state": {
       "button_style": "warning",
       "layout": "IPY_MODEL_20df9245d9d642e0b7c7a43afc4f5cb1"
      }
     },
     "15320e60b4284f74852c4dfcb1cad752": {
      "model_module": "jupyter-js-widgets",
      "model_module_version": "*",
      "model_name": "ButtonModel",
      "state": {
       "button_style": "danger",
       "description": "battery",
       "layout": "IPY_MODEL_8337a3ad7f614ea889a843031d607be6"
      }
     },
     "1713a133dade42cbafd978f0689adf0f": {
      "model_module": "jupyter-js-widgets",
      "model_module_version": "*",
      "model_name": "ButtonModel",
      "state": {
       "button_style": "warning",
       "layout": "IPY_MODEL_20df9245d9d642e0b7c7a43afc4f5cb1"
      }
     },
     "179b78362d8f4b579b6e99036a5533ef": {
      "model_module": "jupyter-js-widgets",
      "model_module_version": "*",
      "model_name": "ButtonModel",
      "state": {
       "button_style": "warning",
       "layout": "IPY_MODEL_8b1934e86e7f43a59a44fba886f2fcb4"
      }
     },
     "17f6cea36353431da0d019c8132f5048": {
      "model_module": "jupyter-js-widgets",
      "model_module_version": "*",
      "model_name": "LayoutModel",
      "state": {}
     },
     "1852a0da913d49d299d7374ae1f6f6e4": {
      "model_module": "jupyter-js-widgets",
      "model_module_version": "*",
      "model_name": "LayoutModel",
      "state": {}
     },
     "1858688c1c2143e5b6a3c511ad5dde44": {
      "model_module": "jupyter-js-widgets",
      "model_module_version": "*",
      "model_name": "ButtonModel",
      "state": {
       "button_style": "warning",
       "layout": "IPY_MODEL_a1601cf222924b40987b16144afce1bb"
      }
     },
     "19c41936e20c4f488b430f803725cb7b": {
      "model_module": "jupyter-js-widgets",
      "model_module_version": "*",
      "model_name": "LayoutModel",
      "state": {
       "height": "100px",
       "min_width": "40px"
      }
     },
     "1a23f9f4cd0149bd9f2b6053bec841a5": {
      "model_module": "jupyter-js-widgets",
      "model_module_version": "*",
      "model_name": "ButtonModel",
      "state": {
       "button_style": "warning",
       "layout": "IPY_MODEL_8b1934e86e7f43a59a44fba886f2fcb4"
      }
     },
     "1d53ba9368f24bd0a10c42936f7926a2": {
      "model_module": "jupyter-js-widgets",
      "model_module_version": "*",
      "model_name": "BoxModel",
      "state": {
       "children": [
        "IPY_MODEL_34cb2471c605464a8c6f29eb450e0a74",
        "IPY_MODEL_61535f0c8d0247f28fb1487e14150ce7",
        "IPY_MODEL_32a0695cbcf3416583212fb73bd04d04",
        "IPY_MODEL_606813bf8fb84c00b362501529542943",
        "IPY_MODEL_abcd15c369ca4947b5f8c8b820760387",
        "IPY_MODEL_90a6c3bba7474b16b08e9f00ab6a88fb",
        "IPY_MODEL_400d124d268e4e9d9e945646fdb49a4b",
        "IPY_MODEL_c2c123bd8ba948099196758a74a7fcee",
        "IPY_MODEL_d396391b083d430199f2c6aaba43ce15",
        "IPY_MODEL_322536db4c0c4627948651410d723dd8",
        "IPY_MODEL_391d222cbb4041089ed756176c1f007c",
        "IPY_MODEL_2ad334dd080c438ab08f44ad0200ad7f",
        "IPY_MODEL_786c340223074a6a82cda8c20fee8641",
        "IPY_MODEL_666e97e1807d437db31bb7343fd4c7f9",
        "IPY_MODEL_64c3b37961184559aedd96a465c3a042",
        "IPY_MODEL_895c4d1d15814c74aca1e6b14a02d381",
        "IPY_MODEL_9e7a0f1b588a43f8b5cf469af3f14503",
        "IPY_MODEL_776770a9456643a79efe1fb9281c1977",
        "IPY_MODEL_05c2513dace941678dc17f32eb77c7d0",
        "IPY_MODEL_a6056a71d9b94b70ba754462248092b8",
        "IPY_MODEL_3409db75a0ba44ccbc2abef5dcc81a91",
        "IPY_MODEL_65c7efb5e4364757b9aa7ab855e00aec",
        "IPY_MODEL_6eed8691d91f44b58156c1c84c34af06",
        "IPY_MODEL_dbb15e02fb204351a3b05d20f4a4d1f4",
        "IPY_MODEL_52eb056aa29148fcb8afb424748c0485",
        "IPY_MODEL_34558232c0a7475a93026ee4844f7928",
        "IPY_MODEL_50d0e91c77054113b1395b433bb84aee",
        "IPY_MODEL_8f22a09d583743719fd3b74accc3827e",
        "IPY_MODEL_6986fb6b23f14e749d1dfcb335df6c99",
        "IPY_MODEL_b701c346013043e98ccacce1475a6f21",
        "IPY_MODEL_ac2a6c3111fd4df591250b0e5a5f2b35",
        "IPY_MODEL_0b31e6b8989c41e5bc4c762730c3d596",
        "IPY_MODEL_2cad3a1a667841f3ae7106308c14003b",
        "IPY_MODEL_023e08e6dcdb4a16bdd579fe4fafc158",
        "IPY_MODEL_a246c7db33af46ee9e97fd7b61aa49f8",
        "IPY_MODEL_5e4c947c3a154af2a0f1e1035a13048a",
        "IPY_MODEL_4b0a81da6e014083923eb9f60908c492",
        "IPY_MODEL_aaa2e49b8dca461b8c8cb9ab9bf3198f",
        "IPY_MODEL_c2c5909e325c405d816ff4a8aff5bd52",
        "IPY_MODEL_d064e59e8e12483cbf84fc83c33ed812"
       ],
       "layout": "IPY_MODEL_9748eba577834f5f9a98f490bca9dd17"
      }
     },
     "1d8715e12a4041afb651190cce89a4dc": {
      "model_module": "jupyter-js-widgets",
      "model_module_version": "*",
      "model_name": "FloatTextModel",
      "state": {
       "layout": "IPY_MODEL_94f555ddc19f4cf4a26706876e819cd2"
      }
     },
     "1dc8700b3a3247acb21459a2d167f4f9": {
      "model_module": "jupyter-js-widgets",
      "model_module_version": "*",
      "model_name": "VBoxModel",
      "state": {
       "children": [
        "IPY_MODEL_ac3449020244446fa44d09e78e4511ae",
        "IPY_MODEL_95ff11090f2844cb97ae96163e26fdae"
       ],
       "layout": "IPY_MODEL_8a6da79bb0a1472e91c61e5856f69e4c"
      }
     },
     "1e73851e555842f09e006d3877d6b283": {
      "model_module": "jupyter-js-widgets",
      "model_module_version": "*",
      "model_name": "LayoutModel",
      "state": {
       "border": "3px solid black",
       "display": "flex",
       "height": "",
       "overflow_x": "scroll",
       "width": "500px"
      }
     },
     "1ecef6c744604ce4870dc6c764ce68b5": {
      "model_module": "jupyter-js-widgets",
      "model_module_version": "*",
      "model_name": "ButtonModel",
      "state": {
       "button_style": "danger",
       "description": "Danger Button",
       "layout": "IPY_MODEL_a574132fca064211b871fc72fc83012d"
      }
     },
     "1efd1865dc9f41efaed2358aeba7369c": {
      "model_module": "jupyter-js-widgets",
      "model_module_version": "*",
      "model_name": "LayoutModel",
      "state": {}
     },
     "1f2fc8d7e321442d871f3022ec798a9f": {
      "model_module": "jupyter-js-widgets",
      "model_module_version": "*",
      "model_name": "LayoutModel",
      "state": {}
     },
     "2022abc01a3047d7b03ef3a6079b6e5a": {
      "model_module": "jupyter-js-widgets",
      "model_module_version": "*",
      "model_name": "LayoutModel",
      "state": {
       "align_items": "stretch",
       "border": "solid",
       "display": "flex",
       "flex_flow": "row",
       "width": "50%"
      }
     },
     "20b5b1a432c84678b16768f4500756ec": {
      "model_module": "jupyter-js-widgets",
      "model_module_version": "*",
      "model_name": "ButtonModel",
      "state": {
       "button_style": "warning",
       "layout": "IPY_MODEL_8b1934e86e7f43a59a44fba886f2fcb4"
      }
     },
     "20df9245d9d642e0b7c7a43afc4f5cb1": {
      "model_module": "jupyter-js-widgets",
      "model_module_version": "*",
      "model_name": "LayoutModel",
      "state": {
       "height": "100px",
       "min_width": "40px"
      }
     },
     "2180925a657c4c5f9dacd6f1a6addc85": {
      "model_module": "jupyter-js-widgets",
      "model_module_version": "*",
      "model_name": "ButtonModel",
      "state": {
       "button_style": "warning",
       "layout": "IPY_MODEL_8b1934e86e7f43a59a44fba886f2fcb4"
      }
     },
     "21a04a73aa05440484a2d8b60f852708": {
      "model_module": "jupyter-js-widgets",
      "model_module_version": "*",
      "model_name": "ButtonModel",
      "state": {
       "button_style": "warning",
       "layout": "IPY_MODEL_a1601cf222924b40987b16144afce1bb"
      }
     },
     "24567a4ca4b34f58ac204d4c10cd3600": {
      "model_module": "jupyter-js-widgets",
      "model_module_version": "*",
      "model_name": "BoxModel",
      "state": {
       "children": [
        "IPY_MODEL_726e5696861a4c938627f015d8490354",
        "IPY_MODEL_d3f20a8b88144bcf99d7e1ce1d8aae02"
       ],
       "layout": "IPY_MODEL_d54570e604f1493d8d5b1f3faaf3d994"
      }
     },
     "26bfed24a6af4f8a9e05abce248a18db": {
      "model_module": "jupyter-js-widgets",
      "model_module_version": "*",
      "model_name": "LayoutModel",
      "state": {
       "flex": "1 1 auto",
       "width": "auto"
      }
     },
     "26ccc54d51c34d41bd47a07393f8a88b": {
      "model_module": "jupyter-js-widgets",
      "model_module_version": "*",
      "model_name": "ButtonModel",
      "state": {
       "button_style": "warning",
       "layout": "IPY_MODEL_8b1934e86e7f43a59a44fba886f2fcb4"
      }
     },
     "26f7d22cf1014615ab67c9a1d31ef63e": {
      "model_module": "jupyter-js-widgets",
      "model_module_version": "*",
      "model_name": "ButtonModel",
      "state": {
       "button_style": "warning",
       "layout": "IPY_MODEL_a1601cf222924b40987b16144afce1bb"
      }
     },
     "2718dbecc97c44439f925f472ba3c08b": {
      "model_module": "jupyter-js-widgets",
      "model_module_version": "*",
      "model_name": "BoxModel",
      "state": {
       "children": [
        "IPY_MODEL_5b2a5863ece34234a7a7ac15add0b2a0",
        "IPY_MODEL_6109e7ddfb5b4eb7aab933fb60e3a513"
       ],
       "layout": "IPY_MODEL_42fa2976d2b247d6925c042fb4687635"
      }
     },
     "2954a1090d694f59ac315b6361c82249": {
      "model_module": "jupyter-js-widgets",
      "model_module_version": "*",
      "model_name": "LayoutModel",
      "state": {
       "flex": "2 1 auto",
       "width": "auto"
      }
     },
     "2a08dbed5f5248309c4670701ce9a81d": {
      "model_module": "jupyter-js-widgets",
      "model_module_version": "*",
      "model_name": "HBoxModel",
      "state": {
       "children": [
        "IPY_MODEL_f2f0a0ac55074afca6bf98b8dae0d07c",
        "IPY_MODEL_1dc8700b3a3247acb21459a2d167f4f9"
       ],
       "layout": "IPY_MODEL_82d505750c8d40fab5f10c75e79325ac"
      }
     },
     "2a9b486f621941ac951dd73ba4e03430": {
      "model_module": "jupyter-js-widgets",
      "model_module_version": "*",
      "model_name": "ButtonModel",
      "state": {
       "description": "weight=2",
       "layout": "IPY_MODEL_311f4a200bbf4652a2010dada18c1dbd"
      }
     },
     "2ad334dd080c438ab08f44ad0200ad7f": {
      "model_module": "jupyter-js-widgets",
      "model_module_version": "*",
      "model_name": "ButtonModel",
      "state": {
       "button_style": "warning",
       "layout": "IPY_MODEL_19c41936e20c4f488b430f803725cb7b"
      }
     },
     "2afde28f28c84a7086e461b6b2e260dc": {
      "model_module": "jupyter-js-widgets",
      "model_module_version": "*",
      "model_name": "LayoutModel",
      "state": {
       "flex": "1 1 auto",
       "width": "auto"
      }
     },
     "2bbcfeb3608c43138942ab3a5fa90b44": {
      "model_module": "jupyter-js-widgets",
      "model_module_version": "*",
      "model_name": "ButtonModel",
      "state": {
       "description": "weight=1",
       "layout": "IPY_MODEL_976421209d3f49a8bf7816e8af13f075"
      }
     },
     "2cad3a1a667841f3ae7106308c14003b": {
      "model_module": "jupyter-js-widgets",
      "model_module_version": "*",
      "model_name": "ButtonModel",
      "state": {
       "button_style": "warning",
       "layout": "IPY_MODEL_19c41936e20c4f488b430f803725cb7b"
      }
     },
     "2d2dfcda75774ffaa9239cc2a551b00a": {
      "model_module": "jupyter-js-widgets",
      "model_module_version": "*",
      "model_name": "IntSliderModel",
      "state": {
       "description": "$\\int_0^t f$",
       "layout": "IPY_MODEL_b447dacbb5c7458b87c2d96d63c984bc"
      }
     },
     "2e90f21d8ea14b4980070dc293955b2c": {
      "model_module": "jupyter-js-widgets",
      "model_module_version": "*",
      "model_name": "LayoutModel",
      "state": {}
     },
     "2f8b93a66d15467c8136977916788b8e": {
      "model_module": "jupyter-js-widgets",
      "model_module_version": "*",
      "model_name": "LayoutModel",
      "state": {}
     },
     "30753e0eaa6a4918bac2180b92d541f5": {
      "model_module": "jupyter-js-widgets",
      "model_module_version": "*",
      "model_name": "LayoutModel",
      "state": {}
     },
     "311f4a200bbf4652a2010dada18c1dbd": {
      "model_module": "jupyter-js-widgets",
      "model_module_version": "*",
      "model_name": "LayoutModel",
      "state": {
       "flex": "2 1 auto",
       "width": "auto"
      }
     },
     "3189e43b06b04f659d33833dcfb44655": {
      "model_module": "jupyter-js-widgets",
      "model_module_version": "*",
      "model_name": "LayoutModel",
      "state": {}
     },
     "322536db4c0c4627948651410d723dd8": {
      "model_module": "jupyter-js-widgets",
      "model_module_version": "*",
      "model_name": "ButtonModel",
      "state": {
       "button_style": "warning",
       "layout": "IPY_MODEL_19c41936e20c4f488b430f803725cb7b"
      }
     },
     "3235a23c83644cabb98f429c99b18fbb": {
      "model_module": "jupyter-js-widgets",
      "model_module_version": "*",
      "model_name": "LabelModel",
      "state": {
       "layout": "IPY_MODEL_8d6f864267ee41f5875aab4e92e0da1c",
       "value": "A too long description"
      }
     },
     "32a0695cbcf3416583212fb73bd04d04": {
      "model_module": "jupyter-js-widgets",
      "model_module_version": "*",
      "model_name": "ButtonModel",
      "state": {
       "button_style": "warning",
       "layout": "IPY_MODEL_19c41936e20c4f488b430f803725cb7b"
      }
     },
     "3409db75a0ba44ccbc2abef5dcc81a91": {
      "model_module": "jupyter-js-widgets",
      "model_module_version": "*",
      "model_name": "ButtonModel",
      "state": {
       "button_style": "warning",
       "layout": "IPY_MODEL_19c41936e20c4f488b430f803725cb7b"
      }
     },
     "341abd3e039047ab8fb05106f253e380": {
      "model_module": "jupyter-js-widgets",
      "model_module_version": "*",
      "model_name": "ButtonModel",
      "state": {
       "button_style": "warning",
       "layout": "IPY_MODEL_a1601cf222924b40987b16144afce1bb"
      }
     },
     "34558232c0a7475a93026ee4844f7928": {
      "model_module": "jupyter-js-widgets",
      "model_module_version": "*",
      "model_name": "ButtonModel",
      "state": {
       "button_style": "warning",
       "layout": "IPY_MODEL_19c41936e20c4f488b430f803725cb7b"
      }
     },
     "3456ded02efb4e069c762318c0a6d5c7": {
      "model_module": "jupyter-js-widgets",
      "model_module_version": "*",
      "model_name": "ButtonModel",
      "state": {
       "button_style": "warning",
       "layout": "IPY_MODEL_20df9245d9d642e0b7c7a43afc4f5cb1"
      }
     },
     "34cb2471c605464a8c6f29eb450e0a74": {
      "model_module": "jupyter-js-widgets",
      "model_module_version": "*",
      "model_name": "ButtonModel",
      "state": {
       "button_style": "warning",
       "layout": "IPY_MODEL_19c41936e20c4f488b430f803725cb7b"
      }
     },
     "35b47be95556496ab2ec33976099481d": {
      "model_module": "jupyter-js-widgets",
      "model_module_version": "*",
      "model_name": "IntSliderModel",
      "state": {
       "description": "$\\int_0^t f$",
       "layout": "IPY_MODEL_e776134153ce498f81068eb6537d3367"
      }
     },
     "35c20c73d12a414ba74bab2047efc0a5": {
      "model_module": "jupyter-js-widgets",
      "model_module_version": "*",
      "model_name": "ButtonModel",
      "state": {
       "button_style": "warning",
       "layout": "IPY_MODEL_a1601cf222924b40987b16144afce1bb"
      }
     },
     "3623715145b4445991f6111c9a621be6": {
      "model_module": "jupyter-js-widgets",
      "model_module_version": "*",
      "model_name": "ButtonModel",
      "state": {
       "button_style": "warning",
       "layout": "IPY_MODEL_a1601cf222924b40987b16144afce1bb"
      }
     },
     "383d0ff6054a422ba27c16d69b3c490c": {
      "model_module": "jupyter-js-widgets",
      "model_module_version": "*",
      "model_name": "ButtonModel",
      "state": {
       "button_style": "warning",
       "layout": "IPY_MODEL_8b1934e86e7f43a59a44fba886f2fcb4"
      }
     },
     "38f383f49dbd45d1a18e095e4a319ae4": {
      "model_module": "jupyter-js-widgets",
      "model_module_version": "*",
      "model_name": "LayoutModel",
      "state": {}
     },
     "391d222cbb4041089ed756176c1f007c": {
      "model_module": "jupyter-js-widgets",
      "model_module_version": "*",
      "model_name": "ButtonModel",
      "state": {
       "button_style": "warning",
       "layout": "IPY_MODEL_19c41936e20c4f488b430f803725cb7b"
      }
     },
     "392a6ef29a95469396fe4ccc7857f438": {
      "model_module": "jupyter-js-widgets",
      "model_module_version": "*",
      "model_name": "ButtonModel",
      "state": {
       "description": "correct",
       "layout": "IPY_MODEL_6e91f01e6d504a249e2d6bd149f48c0e"
      }
     },
     "393283f39ec44c33b87fc14846968e61": {
      "model_module": "jupyter-js-widgets",
      "model_module_version": "*",
      "model_name": "LayoutModel",
      "state": {}
     },
     "3d7f0a4514834aabb806f14721ba77d5": {
      "model_module": "jupyter-js-widgets",
      "model_module_version": "*",
      "model_name": "LayoutModel",
      "state": {}
     },
     "3dbc994468a84d70aae0233ffdd95b35": {
      "model_module": "jupyter-js-widgets",
      "model_module_version": "*",
      "model_name": "LabelModel",
      "state": {
       "layout": "IPY_MODEL_da26e1511fa34c8e88d62a76a7161ea1",
       "value": "Age of the captain"
      }
     },
     "3dcffa4cc8a24a95a3bea3048f386871": {
      "model_module": "jupyter-js-widgets",
      "model_module_version": "*",
      "model_name": "BoxModel",
      "state": {
       "children": [
        "IPY_MODEL_bc7576fcdb454177b1d39db080193c10",
        "IPY_MODEL_2718dbecc97c44439f925f472ba3c08b",
        "IPY_MODEL_3ffa6ae1a1aa43a499d4b538f51f98e6",
        "IPY_MODEL_73d42508e19741829e742049900c3fe4"
       ],
       "layout": "IPY_MODEL_7799a3a8d7bc42238a17b42c7582f85c"
      }
     },
     "3e20af77c58f4c78884790b96c4e83db": {
      "model_module": "jupyter-js-widgets",
      "model_module_version": "*",
      "model_name": "LayoutModel",
      "state": {
       "align_items": "stretch",
       "border": "solid",
       "display": "flex",
       "flex_flow": "column",
       "width": "50%"
      }
     },
     "3ed6b10288d746799a27c5cfb835d22d": {
      "model_module": "jupyter-js-widgets",
      "model_module_version": "*",
      "model_name": "ButtonModel",
      "state": {
       "button_style": "warning",
       "layout": "IPY_MODEL_8b1934e86e7f43a59a44fba886f2fcb4"
      }
     },
     "3efba51e16684a2eb18331a12cad00e3": {
      "model_module": "jupyter-js-widgets",
      "model_module_version": "*",
      "model_name": "LayoutModel",
      "state": {}
     },
     "3ffa6ae1a1aa43a499d4b538f51f98e6": {
      "model_module": "jupyter-js-widgets",
      "model_module_version": "*",
      "model_name": "BoxModel",
      "state": {
       "children": [
        "IPY_MODEL_009b5fd4342a4b4bb855949ed568be0c",
        "IPY_MODEL_a9a1cb82321943749a460d7dbe2cfbf0"
       ],
       "layout": "IPY_MODEL_42fa2976d2b247d6925c042fb4687635"
      }
     },
     "4003cdcb413d46df833ee088fbca3e59": {
      "model_module": "jupyter-js-widgets",
      "model_module_version": "*",
      "model_name": "ButtonModel",
      "state": {
       "description": "weight=2",
       "layout": "IPY_MODEL_2954a1090d694f59ac315b6361c82249"
      }
     },
     "400d124d268e4e9d9e945646fdb49a4b": {
      "model_module": "jupyter-js-widgets",
      "model_module_version": "*",
      "model_name": "ButtonModel",
      "state": {
       "button_style": "warning",
       "layout": "IPY_MODEL_19c41936e20c4f488b430f803725cb7b"
      }
     },
     "405b65e8dbe247fd8de1aea2bec59c08": {
      "model_module": "jupyter-js-widgets",
      "model_module_version": "*",
      "model_name": "LayoutModel",
      "state": {}
     },
     "408d0e93e6ef486fb4d811a685a98f31": {
      "model_module": "jupyter-js-widgets",
      "model_module_version": "*",
      "model_name": "ButtonModel",
      "state": {
       "button_style": "warning",
       "layout": "IPY_MODEL_8b1934e86e7f43a59a44fba886f2fcb4"
      }
     },
     "409cb590ee884684afe1e96dfcd88627": {
      "model_module": "jupyter-js-widgets",
      "model_module_version": "*",
      "model_name": "ButtonModel",
      "state": {
       "description": "weight=1",
       "layout": "IPY_MODEL_f35873b7071b4824b57f0afc06241403"
      }
     },
     "40d8522c64b54aaca164a2c8af9184b6": {
      "model_module": "jupyter-js-widgets",
      "model_module_version": "*",
      "model_name": "BoxModel",
      "state": {
       "children": [
        "IPY_MODEL_a9d0fb0753544cabbe9263e8bc6906c2",
        "IPY_MODEL_96ff09b5cd4f402980839fa48638827e",
        "IPY_MODEL_a8b32aab821041989a646a8271eff6ec",
        "IPY_MODEL_b25155ee46754fe199c186ba85a81fd5"
       ],
       "layout": "IPY_MODEL_4e50c8a30e5a4b848863d4601251e725"
      }
     },
     "40f5d688ec1b456d814eaf0f5720e019": {
      "model_module": "jupyter-js-widgets",
      "model_module_version": "*",
      "model_name": "ButtonModel",
      "state": {
       "button_style": "warning",
       "layout": "IPY_MODEL_20df9245d9d642e0b7c7a43afc4f5cb1"
      }
     },
     "4163a199c542480390d5fb30f5c0090d": {
      "model_module": "jupyter-js-widgets",
      "model_module_version": "*",
      "model_name": "ButtonModel",
      "state": {
       "button_style": "danger",
       "description": "horse",
       "layout": "IPY_MODEL_8337a3ad7f614ea889a843031d607be6"
      }
     },
     "417a7c798e2d438d8dbaff6c828b702c": {
      "model_module": "jupyter-js-widgets",
      "model_module_version": "*",
      "model_name": "LabelModel",
      "state": {
       "layout": "IPY_MODEL_73a3def5f2354456812fdaa1c6c07d41",
       "value": "$e=mc^2$"
      }
     },
     "418af8c323474124ae5399c804a73f95": {
      "model_module": "jupyter-js-widgets",
      "model_module_version": "*",
      "model_name": "LayoutModel",
      "state": {
       "align_items": "stretch",
       "border": "solid",
       "display": "flex",
       "flex_flow": "row",
       "width": "50%"
      }
     },
     "42e769a4538d47e08eacffd0a913b64c": {
      "model_module": "jupyter-js-widgets",
      "model_module_version": "*",
      "model_name": "ButtonModel",
      "state": {
       "button_style": "warning",
       "layout": "IPY_MODEL_8b1934e86e7f43a59a44fba886f2fcb4"
      }
     },
     "42fa2976d2b247d6925c042fb4687635": {
      "model_module": "jupyter-js-widgets",
      "model_module_version": "*",
      "model_name": "LayoutModel",
      "state": {
       "display": "flex",
       "flex_flow": "row",
       "justify_content": "space-between"
      }
     },
     "430966d32e924c2aa99c4067b94d3b25": {
      "model_module": "jupyter-js-widgets",
      "model_module_version": "*",
      "model_name": "LayoutModel",
      "state": {}
     },
     "43bd9637e7d246808652f977ee625620": {
      "model_module": "jupyter-js-widgets",
      "model_module_version": "*",
      "model_name": "ButtonModel",
      "state": {
       "button_style": "warning",
       "layout": "IPY_MODEL_a1601cf222924b40987b16144afce1bb"
      }
     },
     "47a6ab0bcc4347d8a1d30b3007f697c1": {
      "model_module": "jupyter-js-widgets",
      "model_module_version": "*",
      "model_name": "IntSliderModel",
      "state": {
       "layout": "IPY_MODEL_ab80b21a79f34840abac9e4bf3688cc2"
      }
     },
     "48cd3768e5f24e5785cb08d79a57bdf7": {
      "model_module": "jupyter-js-widgets",
      "model_module_version": "*",
      "model_name": "LayoutModel",
      "state": {}
     },
     "49338097e3894611bc355fda6d4999e1": {
      "model_module": "jupyter-js-widgets",
      "model_module_version": "*",
      "model_name": "BoxModel",
      "state": {
       "children": [
        "IPY_MODEL_b8d9844f0ead4f73b2a3cd8dc9ce5bc9",
        "IPY_MODEL_1d8715e12a4041afb651190cce89a4dc"
       ],
       "layout": "IPY_MODEL_d54570e604f1493d8d5b1f3faaf3d994"
      }
     },
     "4968cdf7becb4c64ba5a7ba1de1b2a8e": {
      "model_module": "jupyter-js-widgets",
      "model_module_version": "*",
      "model_name": "ButtonModel",
      "state": {
       "button_style": "danger",
       "description": "staple",
       "layout": "IPY_MODEL_6d7283ceb9874d1bb3b7857af4d68c29"
      }
     },
     "49849f13d5c74631af894fcfb9313d4f": {
      "model_module": "jupyter-js-widgets",
      "model_module_version": "*",
      "model_name": "LayoutModel",
      "state": {}
     },
     "4b0a81da6e014083923eb9f60908c492": {
      "model_module": "jupyter-js-widgets",
      "model_module_version": "*",
      "model_name": "ButtonModel",
      "state": {
       "button_style": "warning",
       "layout": "IPY_MODEL_19c41936e20c4f488b430f803725cb7b"
      }
     },
     "4be5925b8c5949959e5c7ae90721ba11": {
      "model_module": "jupyter-js-widgets",
      "model_module_version": "*",
      "model_name": "ButtonModel",
      "state": {
       "button_style": "warning",
       "layout": "IPY_MODEL_a1601cf222924b40987b16144afce1bb"
      }
     },
     "4bf7b3925bb74f89b2fe457696a4f05c": {
      "model_module": "jupyter-js-widgets",
      "model_module_version": "*",
      "model_name": "LayoutModel",
      "state": {}
     },
     "4cbb17c9df9e4eba84d1252555d3c69e": {
      "model_module": "jupyter-js-widgets",
      "model_module_version": "*",
      "model_name": "LayoutModel",
      "state": {}
     },
     "4de384fa21b44da8849043f4bd176025": {
      "model_module": "jupyter-js-widgets",
      "model_module_version": "*",
      "model_name": "LayoutModel",
      "state": {}
     },
     "4e50c8a30e5a4b848863d4601251e725": {
      "model_module": "jupyter-js-widgets",
      "model_module_version": "*",
      "model_name": "LayoutModel",
      "state": {
       "align_items": "stretch",
       "border": "solid 2px",
       "display": "flex",
       "flex_flow": "column",
       "width": "50%"
      }
     },
     "4e56d259472546bb8d75c286e4303813": {
      "model_module": "jupyter-js-widgets",
      "model_module_version": "*",
      "model_name": "ButtonModel",
      "state": {
       "button_style": "warning",
       "layout": "IPY_MODEL_a1601cf222924b40987b16144afce1bb"
      }
     },
     "4ea795c83eaf461c9598929d7c3543df": {
      "model_module": "jupyter-js-widgets",
      "model_module_version": "*",
      "model_name": "ButtonModel",
      "state": {
       "button_style": "warning",
       "layout": "IPY_MODEL_20df9245d9d642e0b7c7a43afc4f5cb1"
      }
     },
     "4ec2ae98d8a34f0893d64a197ee2b953": {
      "model_module": "jupyter-js-widgets",
      "model_module_version": "*",
      "model_name": "ButtonModel",
      "state": {
       "button_style": "warning",
       "layout": "IPY_MODEL_a1601cf222924b40987b16144afce1bb"
      }
     },
     "50d0e91c77054113b1395b433bb84aee": {
      "model_module": "jupyter-js-widgets",
      "model_module_version": "*",
      "model_name": "ButtonModel",
      "state": {
       "button_style": "warning",
       "layout": "IPY_MODEL_19c41936e20c4f488b430f803725cb7b"
      }
     },
     "512cd877dc85413ca4022385a36962fc": {
      "model_module": "jupyter-js-widgets",
      "model_module_version": "*",
      "model_name": "LayoutModel",
      "state": {}
     },
     "51488d84c4cf4618801b3f3416172dc4": {
      "model_module": "jupyter-js-widgets",
      "model_module_version": "*",
      "model_name": "LayoutModel",
      "state": {
       "border": "3px solid black",
       "display": "flex",
       "height": "",
       "overflow_x": "scroll",
       "width": "500px"
      }
     },
     "51b5a3a239cd488eaa81baeefa7f98b9": {
      "model_module": "jupyter-js-widgets",
      "model_module_version": "*",
      "model_name": "BoxModel",
      "state": {
       "children": [
        "IPY_MODEL_73bd6795ef3f4fe6a83e91a97e4e49aa",
        "IPY_MODEL_560d585c7d7c445f9e1cff4761a24f5b"
       ],
       "layout": "IPY_MODEL_d54570e604f1493d8d5b1f3faaf3d994"
      }
     },
     "521ca8b72c70457f85e2e948432bf341": {
      "model_module": "jupyter-js-widgets",
      "model_module_version": "*",
      "model_name": "LabelModel",
      "state": {
       "layout": "IPY_MODEL_393283f39ec44c33b87fc14846968e61",
       "value": "A too long description"
      }
     },
     "526acf4766ea444f8258bb9595deb0ba": {
      "model_module": "jupyter-js-widgets",
      "model_module_version": "*",
      "model_name": "ButtonModel",
      "state": {
       "button_style": "warning",
       "layout": "IPY_MODEL_8b1934e86e7f43a59a44fba886f2fcb4"
      }
     },
     "52eb056aa29148fcb8afb424748c0485": {
      "model_module": "jupyter-js-widgets",
      "model_module_version": "*",
      "model_name": "ButtonModel",
      "state": {
       "button_style": "warning",
       "layout": "IPY_MODEL_19c41936e20c4f488b430f803725cb7b"
      }
     },
     "54540af7ac384429b7478106830f33df": {
      "model_module": "jupyter-js-widgets",
      "model_module_version": "*",
      "model_name": "ButtonModel",
      "state": {
       "description": "(50% width, 80px height) button",
       "layout": "IPY_MODEL_7e1f3b15f9c14b098cbf74319a376d31"
      }
     },
     "5454b47b292145c696d2e4fdd2b5fc25": {
      "model_module": "jupyter-js-widgets",
      "model_module_version": "*",
      "model_name": "LayoutModel",
      "state": {}
     },
     "545feb869a37491794c321ba352dc669": {
      "model_module": "jupyter-js-widgets",
      "model_module_version": "*",
      "model_name": "ButtonModel",
      "state": {
       "description": "Another button with the same layout",
       "layout": "IPY_MODEL_bac42a81e6164405ad93e3bc3c50befc"
      }
     },
     "547fa56d6ec54e3890ff289ff3099607": {
      "model_module": "jupyter-js-widgets",
      "model_module_version": "*",
      "model_name": "ButtonModel",
      "state": {
       "button_style": "warning",
       "layout": "IPY_MODEL_a1601cf222924b40987b16144afce1bb"
      }
     },
     "54d3b925c7d34fbd97e7647199d3cd42": {
      "model_module": "jupyter-js-widgets",
      "model_module_version": "*",
      "model_name": "ButtonModel",
      "state": {
       "button_style": "warning",
       "layout": "IPY_MODEL_20df9245d9d642e0b7c7a43afc4f5cb1"
      }
     },
     "56040d9206d84a52ac4398dbd0bcdce0": {
      "model_module": "jupyter-js-widgets",
      "model_module_version": "*",
      "model_name": "LabelModel",
      "state": {
       "layout": "IPY_MODEL_12c8e2052e9e4e219bc9704d27392685",
       "value": "Age of the captain"
      }
     },
     "560d585c7d7c445f9e1cff4761a24f5b": {
      "model_module": "jupyter-js-widgets",
      "model_module_version": "*",
      "model_name": "DropdownModel",
      "state": {
       "_options_labels": [
        "Scrambled",
        "Sunny side up",
        "Over easy"
       ],
       "layout": "IPY_MODEL_d2fcf3a45e7f496bb9de9cc62c29415d",
       "value": "Scrambled"
      }
     },
     "56aa519643e1483eaacda070a25270f8": {
      "model_module": "jupyter-js-widgets",
      "model_module_version": "*",
      "model_name": "ButtonModel",
      "state": {
       "button_style": "warning",
       "layout": "IPY_MODEL_a1601cf222924b40987b16144afce1bb"
      }
     },
     "57cffc676ed14c5a95842bd13c418ffc": {
      "model_module": "jupyter-js-widgets",
      "model_module_version": "*",
      "model_name": "ButtonModel",
      "state": {
       "description": "Another button with the same layout",
       "layout": "IPY_MODEL_7e1f3b15f9c14b098cbf74319a376d31"
      }
     },
     "58772345b5e84265a733b06e60177181": {
      "model_module": "jupyter-js-widgets",
      "model_module_version": "*",
      "model_name": "ButtonModel",
      "state": {
       "button_style": "warning",
       "layout": "IPY_MODEL_8b1934e86e7f43a59a44fba886f2fcb4"
      }
     },
     "59751f3f38864008ad424db0891cf47e": {
      "model_module": "jupyter-js-widgets",
      "model_module_version": "*",
      "model_name": "ButtonModel",
      "state": {
       "button_style": "warning",
       "layout": "IPY_MODEL_8b1934e86e7f43a59a44fba886f2fcb4"
      }
     },
     "5aa5fe19e04640749bd09b69572e015e": {
      "model_module": "jupyter-js-widgets",
      "model_module_version": "*",
      "model_name": "LayoutModel",
      "state": {}
     },
     "5aa80037540140728995b55486f94b76": {
      "model_module": "jupyter-js-widgets",
      "model_module_version": "*",
      "model_name": "ButtonModel",
      "state": {
       "button_style": "warning",
       "layout": "IPY_MODEL_8b1934e86e7f43a59a44fba886f2fcb4"
      }
     },
     "5b2a5863ece34234a7a7ac15add0b2a0": {
      "model_module": "jupyter-js-widgets",
      "model_module_version": "*",
      "model_name": "LabelModel",
      "state": {
       "layout": "IPY_MODEL_f22a45307fd14c1193b723a7dd3e6948",
       "value": "Egg style"
      }
     },
     "5c15d4af6f74462f871845a91433187e": {
      "model_module": "jupyter-js-widgets",
      "model_module_version": "*",
      "model_name": "ButtonModel",
      "state": {
       "button_style": "warning",
       "layout": "IPY_MODEL_20df9245d9d642e0b7c7a43afc4f5cb1"
      }
     },
     "5c996981649846418cfdd1006d148f71": {
      "model_module": "jupyter-js-widgets",
      "model_module_version": "*",
      "model_name": "ButtonModel",
      "state": {
       "button_style": "warning",
       "layout": "IPY_MODEL_8b1934e86e7f43a59a44fba886f2fcb4"
      }
     },
     "5cb5b96d53c84c82992c0d32162a1d0f": {
      "model_module": "jupyter-js-widgets",
      "model_module_version": "*",
      "model_name": "ButtonModel",
      "state": {
       "description": "Another button with the same layout",
       "layout": "IPY_MODEL_8c6850cc94b843a89188741bf2230b50"
      }
     },
     "5de713563e344394876bc37d13685dcc": {
      "model_module": "jupyter-js-widgets",
      "model_module_version": "*",
      "model_name": "LayoutModel",
      "state": {}
     },
     "5e4c947c3a154af2a0f1e1035a13048a": {
      "model_module": "jupyter-js-widgets",
      "model_module_version": "*",
      "model_name": "ButtonModel",
      "state": {
       "button_style": "warning",
       "layout": "IPY_MODEL_19c41936e20c4f488b430f803725cb7b"
      }
     },
     "5e6b9ee5acbb40c389ce61a178b2f218": {
      "model_module": "jupyter-js-widgets",
      "model_module_version": "*",
      "model_name": "LabelModel",
      "state": {
       "layout": "IPY_MODEL_0a8fd58826194fd187de23acd8901567",
       "value": "A too long description"
      }
     },
     "5f149effd5364bb78f49366240a5d988": {
      "model_module": "jupyter-js-widgets",
      "model_module_version": "*",
      "model_name": "ButtonModel",
      "state": {
       "button_style": "danger",
       "description": "staple",
       "layout": "IPY_MODEL_8337a3ad7f614ea889a843031d607be6"
      }
     },
     "606813bf8fb84c00b362501529542943": {
      "model_module": "jupyter-js-widgets",
      "model_module_version": "*",
      "model_name": "ButtonModel",
      "state": {
       "button_style": "warning",
       "layout": "IPY_MODEL_19c41936e20c4f488b430f803725cb7b"
      }
     },
     "6109e7ddfb5b4eb7aab933fb60e3a513": {
      "model_module": "jupyter-js-widgets",
      "model_module_version": "*",
      "model_name": "DropdownModel",
      "state": {
       "_options_labels": [
        "Scrambled",
        "Sunny side up",
        "Over easy"
       ],
       "layout": "IPY_MODEL_3189e43b06b04f659d33833dcfb44655",
       "value": "Sunny side up"
      }
     },
     "61535f0c8d0247f28fb1487e14150ce7": {
      "model_module": "jupyter-js-widgets",
      "model_module_version": "*",
      "model_name": "ButtonModel",
      "state": {
       "button_style": "warning",
       "layout": "IPY_MODEL_19c41936e20c4f488b430f803725cb7b"
      }
     },
     "62acf6469e64460fa45218efac958638": {
      "model_module": "jupyter-js-widgets",
      "model_module_version": "*",
      "model_name": "ButtonModel",
      "state": {
       "button_style": "danger",
       "description": "battery",
       "layout": "IPY_MODEL_6d7283ceb9874d1bb3b7857af4d68c29"
      }
     },
     "62d875e9b6054f7babd6929e68f84ca7": {
      "model_module": "jupyter-js-widgets",
      "model_module_version": "*",
      "model_name": "ButtonModel",
      "state": {
       "button_style": "warning",
       "layout": "IPY_MODEL_8b1934e86e7f43a59a44fba886f2fcb4"
      }
     },
     "638746f7807145d8b0439fdf93391a1a": {
      "model_module": "jupyter-js-widgets",
      "model_module_version": "*",
      "model_name": "LayoutModel",
      "state": {}
     },
     "63aa8b4b206e459ca63370fb8a12886e": {
      "model_module": "jupyter-js-widgets",
      "model_module_version": "*",
      "model_name": "ButtonModel",
      "state": {
       "button_style": "warning",
       "layout": "IPY_MODEL_20df9245d9d642e0b7c7a43afc4f5cb1"
      }
     },
     "63f2e225004d410baa2e2a01fc256d47": {
      "model_module": "jupyter-js-widgets",
      "model_module_version": "*",
      "model_name": "LayoutModel",
      "state": {}
     },
     "6419bac9c79b4352bb3d2124feb83635": {
      "model_module": "jupyter-js-widgets",
      "model_module_version": "*",
      "model_name": "ButtonModel",
      "state": {
       "button_style": "warning",
       "layout": "IPY_MODEL_a1601cf222924b40987b16144afce1bb"
      }
     },
     "64c3b37961184559aedd96a465c3a042": {
      "model_module": "jupyter-js-widgets",
      "model_module_version": "*",
      "model_name": "ButtonModel",
      "state": {
       "button_style": "warning",
       "layout": "IPY_MODEL_19c41936e20c4f488b430f803725cb7b"
      }
     },
     "64d9ead4fb784850a9794ee001571b88": {
      "model_module": "jupyter-js-widgets",
      "model_module_version": "*",
      "model_name": "ButtonModel",
      "state": {
       "button_style": "warning",
       "layout": "IPY_MODEL_20df9245d9d642e0b7c7a43afc4f5cb1"
      }
     },
     "655d45283b1a4caf9ca6f8d56955a588": {
      "model_module": "jupyter-js-widgets",
      "model_module_version": "*",
      "model_name": "ButtonModel",
      "state": {
       "button_style": "warning",
       "layout": "IPY_MODEL_a1601cf222924b40987b16144afce1bb"
      }
     },
     "659f36100ff84cc795f9481e89b2c827": {
      "model_module": "jupyter-js-widgets",
      "model_module_version": "*",
      "model_name": "LayoutModel",
      "state": {}
     },
     "65c7efb5e4364757b9aa7ab855e00aec": {
      "model_module": "jupyter-js-widgets",
      "model_module_version": "*",
      "model_name": "ButtonModel",
      "state": {
       "button_style": "warning",
       "layout": "IPY_MODEL_19c41936e20c4f488b430f803725cb7b"
      }
     },
     "666e97e1807d437db31bb7343fd4c7f9": {
      "model_module": "jupyter-js-widgets",
      "model_module_version": "*",
      "model_name": "ButtonModel",
      "state": {
       "button_style": "warning",
       "layout": "IPY_MODEL_19c41936e20c4f488b430f803725cb7b"
      }
     },
     "67bed3b9045747c39a9c9fca7106e248": {
      "model_module": "jupyter-js-widgets",
      "model_module_version": "*",
      "model_name": "ButtonModel",
      "state": {
       "button_style": "warning",
       "layout": "IPY_MODEL_20df9245d9d642e0b7c7a43afc4f5cb1"
      }
     },
     "67face2c43864612932d3af62b50db8b": {
      "model_module": "jupyter-js-widgets",
      "model_module_version": "*",
      "model_name": "ButtonModel",
      "state": {
       "button_style": "warning",
       "layout": "IPY_MODEL_8b1934e86e7f43a59a44fba886f2fcb4"
      }
     },
     "68a12c4fd53b41d08b377ed06baee9b2": {
      "model_module": "jupyter-js-widgets",
      "model_module_version": "*",
      "model_name": "LayoutModel",
      "state": {}
     },
     "68a58b14ae5744eca6c89e83f0d436a8": {
      "model_module": "jupyter-js-widgets",
      "model_module_version": "*",
      "model_name": "ButtonModel",
      "state": {
       "button_style": "warning",
       "layout": "IPY_MODEL_a1601cf222924b40987b16144afce1bb"
      }
     },
     "6986fb6b23f14e749d1dfcb335df6c99": {
      "model_module": "jupyter-js-widgets",
      "model_module_version": "*",
      "model_name": "ButtonModel",
      "state": {
       "button_style": "warning",
       "layout": "IPY_MODEL_19c41936e20c4f488b430f803725cb7b"
      }
     },
     "6b9400e4c4af40aba577f4f311a9a4d0": {
      "model_module": "jupyter-js-widgets",
      "model_module_version": "*",
      "model_name": "BoxModel",
      "state": {
       "children": [
        "IPY_MODEL_d1eddccae2e9493395ebf27ed464687f",
        "IPY_MODEL_12a5abe7116a4fbe92ccde8e08657255",
        "IPY_MODEL_62acf6469e64460fa45218efac958638",
        "IPY_MODEL_4968cdf7becb4c64ba5a7ba1de1b2a8e"
       ],
       "layout": "IPY_MODEL_7baaf993ef3740739e51aa875f10bc65"
      }
     },
     "6c1c986e175c4bbb984d13bdbca8b85c": {
      "model_module": "jupyter-js-widgets",
      "model_module_version": "*",
      "model_name": "ButtonModel",
      "state": {
       "button_style": "warning",
       "layout": "IPY_MODEL_20df9245d9d642e0b7c7a43afc4f5cb1"
      }
     },
     "6d0d945292184ebba1c5edcd55dd6a5a": {
      "model_module": "jupyter-js-widgets",
      "model_module_version": "*",
      "model_name": "ButtonModel",
      "state": {
       "button_style": "warning",
       "layout": "IPY_MODEL_a1601cf222924b40987b16144afce1bb"
      }
     },
     "6d46edc5e6b84da98e3a7b64887d2ed1": {
      "model_module": "jupyter-js-widgets",
      "model_module_version": "*",
      "model_name": "ButtonModel",
      "state": {
       "button_style": "danger",
       "description": "horse",
       "layout": "IPY_MODEL_c3f5e51b178243d29f2e3c134a3aaa83"
      }
     },
     "6d7283ceb9874d1bb3b7857af4d68c29": {
      "model_module": "jupyter-js-widgets",
      "model_module_version": "*",
      "model_name": "LayoutModel",
      "state": {
       "flex": "1 1 auto",
       "width": "auto"
      }
     },
     "6e17a49fd8224702ba72a72aa6f7430f": {
      "model_module": "jupyter-js-widgets",
      "model_module_version": "*",
      "model_name": "ButtonModel",
      "state": {
       "button_style": "warning",
       "layout": "IPY_MODEL_20df9245d9d642e0b7c7a43afc4f5cb1"
      }
     },
     "6e743f93ed304e7ba0fac3d2f50e3d3d": {
      "model_module": "jupyter-js-widgets",
      "model_module_version": "*",
      "model_name": "ButtonModel",
      "state": {
       "description": "battery",
       "layout": "IPY_MODEL_5454b47b292145c696d2e4fdd2b5fc25"
      }
     },
     "6e91f01e6d504a249e2d6bd149f48c0e": {
      "model_module": "jupyter-js-widgets",
      "model_module_version": "*",
      "model_name": "LayoutModel",
      "state": {}
     },
     "6eed8691d91f44b58156c1c84c34af06": {
      "model_module": "jupyter-js-widgets",
      "model_module_version": "*",
      "model_name": "ButtonModel",
      "state": {
       "button_style": "warning",
       "layout": "IPY_MODEL_19c41936e20c4f488b430f803725cb7b"
      }
     },
     "6fd2ebb2a46d49aca2e3014d1d6a3431": {
      "model_module": "jupyter-js-widgets",
      "model_module_version": "*",
      "model_name": "ButtonModel",
      "state": {
       "button_style": "warning",
       "layout": "IPY_MODEL_20df9245d9d642e0b7c7a43afc4f5cb1"
      }
     },
     "70ee966071c44566b1cddd7903564031": {
      "model_module": "jupyter-js-widgets",
      "model_module_version": "*",
      "model_name": "LayoutModel",
      "state": {}
     },
     "70f123f336a54b8384c0cf4012e5e526": {
      "model_module": "jupyter-js-widgets",
      "model_module_version": "*",
      "model_name": "ButtonModel",
      "state": {
       "button_style": "warning",
       "layout": "IPY_MODEL_8b1934e86e7f43a59a44fba886f2fcb4"
      }
     },
     "7209bb98dd6b453b84676aedd40e21db": {
      "model_module": "jupyter-js-widgets",
      "model_module_version": "*",
      "model_name": "ButtonModel",
      "state": {
       "button_style": "warning",
       "layout": "IPY_MODEL_a1601cf222924b40987b16144afce1bb"
      }
     },
     "726e5696861a4c938627f015d8490354": {
      "model_module": "jupyter-js-widgets",
      "model_module_version": "*",
      "model_name": "LabelModel",
      "state": {
       "layout": "IPY_MODEL_c755bda24abf4b4d8b9d7d59272d234f",
       "value": "Information"
      }
     },
     "72949d3b2baa4fc8bea95767b2d1c412": {
      "model_module": "jupyter-js-widgets",
      "model_module_version": "*",
      "model_name": "BoxModel",
      "state": {
       "children": [
        "IPY_MODEL_f21334027d9e488ba7bc2a69d39eee26",
        "IPY_MODEL_6d46edc5e6b84da98e3a7b64887d2ed1",
        "IPY_MODEL_ddbeb09069a24668ae787bec88bc221c",
        "IPY_MODEL_c202fedf1bd6403ca195b8c85f487795"
       ],
       "layout": "IPY_MODEL_3e20af77c58f4c78884790b96c4e83db"
      }
     },
     "73a3def5f2354456812fdaa1c6c07d41": {
      "model_module": "jupyter-js-widgets",
      "model_module_version": "*",
      "model_name": "LayoutModel",
      "state": {}
     },
     "73bd6795ef3f4fe6a83e91a97e4e49aa": {
      "model_module": "jupyter-js-widgets",
      "model_module_version": "*",
      "model_name": "LabelModel",
      "state": {
       "layout": "IPY_MODEL_2e90f21d8ea14b4980070dc293955b2c",
       "value": "Egg style"
      }
     },
     "73d42508e19741829e742049900c3fe4": {
      "model_module": "jupyter-js-widgets",
      "model_module_version": "*",
      "model_name": "BoxModel",
      "state": {
       "children": [
        "IPY_MODEL_7ccaad7785914493bdc7409ca91d785a",
        "IPY_MODEL_0d26c619f9f14e278591a8441060f450"
       ],
       "layout": "IPY_MODEL_42fa2976d2b247d6925c042fb4687635"
      }
     },
     "75bc88cb47d440a888bc2cdbde0a460c": {
      "model_module": "jupyter-js-widgets",
      "model_module_version": "*",
      "model_name": "LayoutModel",
      "state": {}
     },
     "76e3ab61df004c71a33aec1da5a2e8ef": {
      "model_module": "jupyter-js-widgets",
      "model_module_version": "*",
      "model_name": "LabelModel",
      "state": {
       "layout": "IPY_MODEL_38f383f49dbd45d1a18e095e4a319ae4",
       "value": "$e=mc^2$"
      }
     },
     "7712147f283e4c91bc51e68f04251ca0": {
      "model_module": "jupyter-js-widgets",
      "model_module_version": "*",
      "model_name": "ButtonModel",
      "state": {
       "button_style": "warning",
       "layout": "IPY_MODEL_a1601cf222924b40987b16144afce1bb"
      }
     },
     "776770a9456643a79efe1fb9281c1977": {
      "model_module": "jupyter-js-widgets",
      "model_module_version": "*",
      "model_name": "ButtonModel",
      "state": {
       "button_style": "warning",
       "layout": "IPY_MODEL_19c41936e20c4f488b430f803725cb7b"
      }
     },
     "7799a3a8d7bc42238a17b42c7582f85c": {
      "model_module": "jupyter-js-widgets",
      "model_module_version": "*",
      "model_name": "LayoutModel",
      "state": {
       "align_items": "stretch",
       "border": "solid 2px",
       "display": "flex",
       "flex_flow": "column",
       "width": "50%"
      }
     },
     "786c340223074a6a82cda8c20fee8641": {
      "model_module": "jupyter-js-widgets",
      "model_module_version": "*",
      "model_name": "ButtonModel",
      "state": {
       "button_style": "warning",
       "layout": "IPY_MODEL_19c41936e20c4f488b430f803725cb7b"
      }
     },
     "79a959c2f0c848cc9c0a6a14b6b7968b": {
      "model_module": "jupyter-js-widgets",
      "model_module_version": "*",
      "model_name": "ButtonModel",
      "state": {
       "description": "weight=2",
       "layout": "IPY_MODEL_f0eec177c1604cd28a4577e3cf44938f"
      }
     },
     "7a3dbb3bdd81407a8788f4b032b4cd0e": {
      "model_module": "jupyter-js-widgets",
      "model_module_version": "*",
      "model_name": "IntSliderModel",
      "state": {
       "layout": "IPY_MODEL_5aa5fe19e04640749bd09b69572e015e"
      }
     },
     "7baaf993ef3740739e51aa875f10bc65": {
      "model_module": "jupyter-js-widgets",
      "model_module_version": "*",
      "model_name": "LayoutModel",
      "state": {
       "align_items": "stretch",
       "border": "solid",
       "display": "flex",
       "flex_flow": "column",
       "width": "50%"
      }
     },
     "7ccaad7785914493bdc7409ca91d785a": {
      "model_module": "jupyter-js-widgets",
      "model_module_version": "*",
      "model_name": "LabelModel",
      "state": {
       "layout": "IPY_MODEL_3d7f0a4514834aabb806f14721ba77d5",
       "value": "Information"
      }
     },
     "7df422d862ff4eae9803d0423272b34f": {
      "model_module": "jupyter-js-widgets",
      "model_module_version": "*",
      "model_name": "ButtonModel",
      "state": {
       "description": "horse",
       "layout": "IPY_MODEL_c7bd2710784041d88207af948a24f771"
      }
     },
     "7e1abe01455f462bb8bdfcef2f2d6171": {
      "model_module": "jupyter-js-widgets",
      "model_module_version": "*",
      "model_name": "ButtonModel",
      "state": {
       "button_style": "warning",
       "layout": "IPY_MODEL_a1601cf222924b40987b16144afce1bb"
      }
     },
     "7e1f3b15f9c14b098cbf74319a376d31": {
      "model_module": "jupyter-js-widgets",
      "model_module_version": "*",
      "model_name": "LayoutModel",
      "state": {
       "height": "80px",
       "width": "50%"
      }
     },
     "811ede373d364546bf875059fc607d22": {
      "model_module": "jupyter-js-widgets",
      "model_module_version": "*",
      "model_name": "ButtonModel",
      "state": {
       "button_style": "warning",
       "layout": "IPY_MODEL_20df9245d9d642e0b7c7a43afc4f5cb1"
      }
     },
     "821390629e634250bc5afbd01f84948f": {
      "model_module": "jupyter-js-widgets",
      "model_module_version": "*",
      "model_name": "ButtonModel",
      "state": {
       "button_style": "warning",
       "layout": "IPY_MODEL_20df9245d9d642e0b7c7a43afc4f5cb1"
      }
     },
     "827cd6c840884fc5a127308b7c7cad58": {
      "model_module": "jupyter-js-widgets",
      "model_module_version": "*",
      "model_name": "LayoutModel",
      "state": {}
     },
     "82cabfe26a074dbc808275955a3518f9": {
      "model_module": "jupyter-js-widgets",
      "model_module_version": "*",
      "model_name": "LayoutModel",
      "state": {
       "align_items": "stretch",
       "border": "solid",
       "display": "flex",
       "flex_flow": "row",
       "width": "50%"
      }
     },
     "82d505750c8d40fab5f10c75e79325ac": {
      "model_module": "jupyter-js-widgets",
      "model_module_version": "*",
      "model_name": "LayoutModel",
      "state": {}
     },
     "8337a3ad7f614ea889a843031d607be6": {
      "model_module": "jupyter-js-widgets",
      "model_module_version": "*",
      "model_name": "LayoutModel",
      "state": {
       "flex": "1 1 auto",
       "width": "auto"
      }
     },
     "84eb7b6687314c38b02af0e2eb603477": {
      "model_module": "jupyter-js-widgets",
      "model_module_version": "*",
      "model_name": "HBoxModel",
      "state": {
       "children": [
        "IPY_MODEL_0747f139e5004105bccc581db9a2b936",
        "IPY_MODEL_da494f7ba2b346659f49248020205926"
       ],
       "layout": "IPY_MODEL_f84ce1181f27425c9b8ba1130f1260b5"
      }
     },
     "8512d2d49d0b446582f73b19c4ec9726": {
      "model_module": "jupyter-js-widgets",
      "model_module_version": "*",
      "model_name": "ButtonModel",
      "state": {
       "button_style": "warning",
       "layout": "IPY_MODEL_20df9245d9d642e0b7c7a43afc4f5cb1"
      }
     },
     "8585bf5fc78147c6b48d43d410ac5993": {
      "model_module": "jupyter-js-widgets",
      "model_module_version": "*",
      "model_name": "ButtonModel",
      "state": {
       "button_style": "warning",
       "layout": "IPY_MODEL_20df9245d9d642e0b7c7a43afc4f5cb1"
      }
     },
     "85a72bd8d82648c69814560d06730153": {
      "model_module": "jupyter-js-widgets",
      "model_module_version": "*",
      "model_name": "ButtonModel",
      "state": {
       "button_style": "warning",
       "layout": "IPY_MODEL_20df9245d9d642e0b7c7a43afc4f5cb1"
      }
     },
     "85bd0f52190c4d9aa86e01054e9b6d96": {
      "model_module": "jupyter-js-widgets",
      "model_module_version": "*",
      "model_name": "ButtonModel",
      "state": {
       "button_style": "warning",
       "layout": "IPY_MODEL_8b1934e86e7f43a59a44fba886f2fcb4"
      }
     },
     "85e73bf8c44848b186c3e7246d4cc92d": {
      "model_module": "jupyter-js-widgets",
      "model_module_version": "*",
      "model_name": "ButtonModel",
      "state": {
       "button_style": "warning",
       "layout": "IPY_MODEL_20df9245d9d642e0b7c7a43afc4f5cb1"
      }
     },
     "877ef0b6a8344d86abdd4fb12a392d9b": {
      "model_module": "jupyter-js-widgets",
      "model_module_version": "*",
      "model_name": "ButtonModel",
      "state": {
       "button_style": "warning",
       "layout": "IPY_MODEL_8b1934e86e7f43a59a44fba886f2fcb4"
      }
     },
     "88c448148212401f9d0dc8a04962b13c": {
      "model_module": "jupyter-js-widgets",
      "model_module_version": "*",
      "model_name": "ButtonModel",
      "state": {
       "description": "staple",
       "layout": "IPY_MODEL_e1e1ed21baf0444fb3d9a12c66efefd0"
      }
     },
     "88ed8e55303e4c1ba603b45562ea0ec0": {
      "model_module": "jupyter-js-widgets",
      "model_module_version": "*",
      "model_name": "LayoutModel",
      "state": {}
     },
     "890a3041998447169dab47fda9d948d6": {
      "model_module": "jupyter-js-widgets",
      "model_module_version": "*",
      "model_name": "ButtonModel",
      "state": {
       "button_style": "warning",
       "layout": "IPY_MODEL_8b1934e86e7f43a59a44fba886f2fcb4"
      }
     },
     "89140e7cea454386917f1733b56f32bb": {
      "model_module": "jupyter-js-widgets",
      "model_module_version": "*",
      "model_name": "ButtonModel",
      "state": {
       "description": "(50% width, 80px height) button",
       "layout": "IPY_MODEL_8c6850cc94b843a89188741bf2230b50"
      }
     },
     "895c4d1d15814c74aca1e6b14a02d381": {
      "model_module": "jupyter-js-widgets",
      "model_module_version": "*",
      "model_name": "ButtonModel",
      "state": {
       "button_style": "warning",
       "layout": "IPY_MODEL_19c41936e20c4f488b430f803725cb7b"
      }
     },
     "8a09ca2a66914b11943704fbbb1c0468": {
      "model_module": "jupyter-js-widgets",
      "model_module_version": "*",
      "model_name": "LayoutModel",
      "state": {}
     },
     "8a6da79bb0a1472e91c61e5856f69e4c": {
      "model_module": "jupyter-js-widgets",
      "model_module_version": "*",
      "model_name": "LayoutModel",
      "state": {}
     },
     "8b1934e86e7f43a59a44fba886f2fcb4": {
      "model_module": "jupyter-js-widgets",
      "model_module_version": "*",
      "model_name": "LayoutModel",
      "state": {
       "height": "100px",
       "min_width": "40px"
      }
     },
     "8c6850cc94b843a89188741bf2230b50": {
      "model_module": "jupyter-js-widgets",
      "model_module_version": "*",
      "model_name": "LayoutModel",
      "state": {
       "height": "80px",
       "width": "50%"
      }
     },
     "8cb6683ae7dd4ffcb7fb41d7c02ff73a": {
      "model_module": "jupyter-js-widgets",
      "model_module_version": "*",
      "model_name": "ButtonModel",
      "state": {
       "button_style": "warning",
       "layout": "IPY_MODEL_8b1934e86e7f43a59a44fba886f2fcb4"
      }
     },
     "8d6f864267ee41f5875aab4e92e0da1c": {
      "model_module": "jupyter-js-widgets",
      "model_module_version": "*",
      "model_name": "LayoutModel",
      "state": {}
     },
     "8e21ee11ac574018a50adb342c842e77": {
      "model_module": "jupyter-js-widgets",
      "model_module_version": "*",
      "model_name": "LabelModel",
      "state": {
       "layout": "IPY_MODEL_f1a432e05bf54912a481f7f1d55240a5",
       "value": "Age of the captain"
      }
     },
     "8f22a09d583743719fd3b74accc3827e": {
      "model_module": "jupyter-js-widgets",
      "model_module_version": "*",
      "model_name": "ButtonModel",
      "state": {
       "button_style": "warning",
       "layout": "IPY_MODEL_19c41936e20c4f488b430f803725cb7b"
      }
     },
     "8ff95b740754417cbd5bec2bf630a9b3": {
      "model_module": "jupyter-js-widgets",
      "model_module_version": "*",
      "model_name": "LayoutModel",
      "state": {}
     },
     "90a6c3bba7474b16b08e9f00ab6a88fb": {
      "model_module": "jupyter-js-widgets",
      "model_module_version": "*",
      "model_name": "ButtonModel",
      "state": {
       "button_style": "warning",
       "layout": "IPY_MODEL_19c41936e20c4f488b430f803725cb7b"
      }
     },
     "90f114ffec96426db872d29fdd4d0bdf": {
      "model_module": "jupyter-js-widgets",
      "model_module_version": "*",
      "model_name": "ButtonModel",
      "state": {
       "button_style": "warning",
       "layout": "IPY_MODEL_8b1934e86e7f43a59a44fba886f2fcb4"
      }
     },
     "9143c96f1c36472db530bf4d7ab384cb": {
      "model_module": "jupyter-js-widgets",
      "model_module_version": "*",
      "model_name": "ButtonModel",
      "state": {
       "button_style": "warning",
       "layout": "IPY_MODEL_a1601cf222924b40987b16144afce1bb"
      }
     },
     "92023563d81e49fa8e6a18fb83dde852": {
      "model_module": "jupyter-js-widgets",
      "model_module_version": "*",
      "model_name": "ButtonModel",
      "state": {
       "button_style": "warning",
       "layout": "IPY_MODEL_20df9245d9d642e0b7c7a43afc4f5cb1"
      }
     },
     "947be7020b6c4176a63a16b3d7ec80dd": {
      "model_module": "jupyter-js-widgets",
      "model_module_version": "*",
      "model_name": "ButtonModel",
      "state": {
       "button_style": "warning",
       "layout": "IPY_MODEL_a1601cf222924b40987b16144afce1bb"
      }
     },
     "94f555ddc19f4cf4a26706876e819cd2": {
      "model_module": "jupyter-js-widgets",
      "model_module_version": "*",
      "model_name": "LayoutModel",
      "state": {}
     },
     "95ff11090f2844cb97ae96163e26fdae": {
      "model_module": "jupyter-js-widgets",
      "model_module_version": "*",
      "model_name": "ButtonModel",
      "state": {
       "description": "staple",
       "layout": "IPY_MODEL_e8e5c8506f3049b0bf723c6d0b166f34"
      }
     },
     "96ff09b5cd4f402980839fa48638827e": {
      "model_module": "jupyter-js-widgets",
      "model_module_version": "*",
      "model_name": "BoxModel",
      "state": {
       "children": [
        "IPY_MODEL_1134df8a28024b168a4b143f795ff1c6",
        "IPY_MODEL_e477b8f677be46e19d76232e8bccb670"
       ],
       "layout": "IPY_MODEL_af8cc1ed24b5462babd70fbc44227539"
      }
     },
     "9748eba577834f5f9a98f490bca9dd17": {
      "model_module": "jupyter-js-widgets",
      "model_module_version": "*",
      "model_name": "LayoutModel",
      "state": {
       "border": "3px solid black",
       "display": "flex",
       "height": "",
       "overflow_x": "scroll",
       "width": "500px"
      }
     },
     "976421209d3f49a8bf7816e8af13f075": {
      "model_module": "jupyter-js-widgets",
      "model_module_version": "*",
      "model_name": "LayoutModel",
      "state": {}
     },
     "997037888732468ba3e7f82c0c4208d5": {
      "model_module": "jupyter-js-widgets",
      "model_module_version": "*",
      "model_name": "ButtonModel",
      "state": {
       "button_style": "danger",
       "description": "Danger Button",
       "layout": "IPY_MODEL_430966d32e924c2aa99c4067b94d3b25"
      }
     },
     "99f4a87c69904111a31c56e58ca3e96c": {
      "model_module": "jupyter-js-widgets",
      "model_module_version": "*",
      "model_name": "ButtonModel",
      "state": {
       "button_style": "warning",
       "layout": "IPY_MODEL_a1601cf222924b40987b16144afce1bb"
      }
     },
     "9a8ca14a6c7b4fa3b92338aa5f86087a": {
      "model_module": "jupyter-js-widgets",
      "model_module_version": "*",
      "model_name": "ButtonModel",
      "state": {
       "button_style": "warning",
       "layout": "IPY_MODEL_a1601cf222924b40987b16144afce1bb"
      }
     },
     "9d55d6d3c8be4d188afea268f8286b5a": {
      "model_module": "jupyter-js-widgets",
      "model_module_version": "*",
      "model_name": "ButtonModel",
      "state": {
       "button_style": "warning",
       "layout": "IPY_MODEL_20df9245d9d642e0b7c7a43afc4f5cb1"
      }
     },
     "9e7a0f1b588a43f8b5cf469af3f14503": {
      "model_module": "jupyter-js-widgets",
      "model_module_version": "*",
      "model_name": "ButtonModel",
      "state": {
       "button_style": "warning",
       "layout": "IPY_MODEL_19c41936e20c4f488b430f803725cb7b"
      }
     },
     "9ef40ca6ce1143e5858371d2f566bc1f": {
      "model_module": "jupyter-js-widgets",
      "model_module_version": "*",
      "model_name": "LayoutModel",
      "state": {}
     },
     "9f9be7dd3d2c45d39701a9957f65688a": {
      "model_module": "jupyter-js-widgets",
      "model_module_version": "*",
      "model_name": "ButtonModel",
      "state": {
       "button_style": "warning",
       "layout": "IPY_MODEL_20df9245d9d642e0b7c7a43afc4f5cb1"
      }
     },
     "9fe13e33e2604c43882d753293217deb": {
      "model_module": "jupyter-js-widgets",
      "model_module_version": "*",
      "model_name": "ButtonModel",
      "state": {
       "button_style": "warning",
       "layout": "IPY_MODEL_8b1934e86e7f43a59a44fba886f2fcb4"
      }
     },
     "a0005408bc7d49edbcc0e287cde15c15": {
      "model_module": "jupyter-js-widgets",
      "model_module_version": "*",
      "model_name": "ButtonModel",
      "state": {
       "button_style": "warning",
       "layout": "IPY_MODEL_8b1934e86e7f43a59a44fba886f2fcb4"
      }
     },
     "a0cdf9099c444cc99899f4f8be1a7183": {
      "model_module": "jupyter-js-widgets",
      "model_module_version": "*",
      "model_name": "ButtonModel",
      "state": {
       "button_style": "warning",
       "layout": "IPY_MODEL_8b1934e86e7f43a59a44fba886f2fcb4"
      }
     },
     "a1601cf222924b40987b16144afce1bb": {
      "model_module": "jupyter-js-widgets",
      "model_module_version": "*",
      "model_name": "LayoutModel",
      "state": {
       "height": "100px",
       "min_width": "40px"
      }
     },
     "a246c7db33af46ee9e97fd7b61aa49f8": {
      "model_module": "jupyter-js-widgets",
      "model_module_version": "*",
      "model_name": "ButtonModel",
      "state": {
       "button_style": "warning",
       "layout": "IPY_MODEL_19c41936e20c4f488b430f803725cb7b"
      }
     },
     "a3664444f3de4f939cb2e0ec1cd78426": {
      "model_module": "jupyter-js-widgets",
      "model_module_version": "*",
      "model_name": "LayoutModel",
      "state": {}
     },
     "a4c3985bd4e14ffcb324ef089f29ff8c": {
      "model_module": "jupyter-js-widgets",
      "model_module_version": "*",
      "model_name": "LayoutModel",
      "state": {}
     },
     "a56605e4a4f84f94bc3013340868162e": {
      "model_module": "jupyter-js-widgets",
      "model_module_version": "*",
      "model_name": "HBoxModel",
      "state": {
       "children": [
        "IPY_MODEL_f04eb317525940cab3234a24c2a6d974",
        "IPY_MODEL_e25c4c792bdf466f87d3ae01e2d2c882"
       ],
       "layout": "IPY_MODEL_4bf7b3925bb74f89b2fe457696a4f05c"
      }
     },
     "a574132fca064211b871fc72fc83012d": {
      "model_module": "jupyter-js-widgets",
      "model_module_version": "*",
      "model_name": "LayoutModel",
      "state": {}
     },
     "a6056a71d9b94b70ba754462248092b8": {
      "model_module": "jupyter-js-widgets",
      "model_module_version": "*",
      "model_name": "ButtonModel",
      "state": {
       "button_style": "warning",
       "layout": "IPY_MODEL_19c41936e20c4f488b430f803725cb7b"
      }
     },
     "a67432460bba479c863f4cbcb571208a": {
      "model_module": "jupyter-js-widgets",
      "model_module_version": "*",
      "model_name": "ButtonModel",
      "state": {
       "description": "weight=1",
       "layout": "IPY_MODEL_a7a32cd0fd2841358ce3b23fb909e537"
      }
     },
     "a6fc0a12d8094c1c8061ca00aae67344": {
      "model_module": "jupyter-js-widgets",
      "model_module_version": "*",
      "model_name": "LayoutModel",
      "state": {}
     },
     "a7a32cd0fd2841358ce3b23fb909e537": {
      "model_module": "jupyter-js-widgets",
      "model_module_version": "*",
      "model_name": "LayoutModel",
      "state": {}
     },
     "a8b32aab821041989a646a8271eff6ec": {
      "model_module": "jupyter-js-widgets",
      "model_module_version": "*",
      "model_name": "BoxModel",
      "state": {
       "children": [
        "IPY_MODEL_c3b7003b91a34310945a24906011a4c1",
        "IPY_MODEL_b19ed6037dcf4d49ad07588c64983dcb"
       ],
       "layout": "IPY_MODEL_af8cc1ed24b5462babd70fbc44227539"
      }
     },
     "a8f7c32c43ad466cb178c268b5804e05": {
      "model_module": "jupyter-js-widgets",
      "model_module_version": "*",
      "model_name": "ButtonModel",
      "state": {
       "button_style": "warning",
       "layout": "IPY_MODEL_8b1934e86e7f43a59a44fba886f2fcb4"
      }
     },
     "a9820205acf6458699decc4cea51904a": {
      "model_module": "jupyter-js-widgets",
      "model_module_version": "*",
      "model_name": "ButtonModel",
      "state": {
       "button_style": "warning",
       "layout": "IPY_MODEL_8b1934e86e7f43a59a44fba886f2fcb4"
      }
     },
     "a9a1cb82321943749a460d7dbe2cfbf0": {
      "model_module": "jupyter-js-widgets",
      "model_module_version": "*",
      "model_name": "FloatTextModel",
      "state": {
       "layout": "IPY_MODEL_49849f13d5c74631af894fcfb9313d4f"
      }
     },
     "a9d0fb0753544cabbe9263e8bc6906c2": {
      "model_module": "jupyter-js-widgets",
      "model_module_version": "*",
      "model_name": "BoxModel",
      "state": {
       "children": [
        "IPY_MODEL_56040d9206d84a52ac4398dbd0bcdce0",
        "IPY_MODEL_0aae2e3ae7e2408d9d0456746a58b373"
       ],
       "layout": "IPY_MODEL_af8cc1ed24b5462babd70fbc44227539"
      }
     },
     "a9de6e88afc247e382aa9f412805748d": {
      "model_module": "jupyter-js-widgets",
      "model_module_version": "*",
      "model_name": "ButtonModel",
      "state": {
       "button_style": "warning",
       "layout": "IPY_MODEL_a1601cf222924b40987b16144afce1bb"
      }
     },
     "aaa2e49b8dca461b8c8cb9ab9bf3198f": {
      "model_module": "jupyter-js-widgets",
      "model_module_version": "*",
      "model_name": "ButtonModel",
      "state": {
       "button_style": "warning",
       "layout": "IPY_MODEL_19c41936e20c4f488b430f803725cb7b"
      }
     },
     "aaf38b8c00404147ae0df13295052730": {
      "model_module": "jupyter-js-widgets",
      "model_module_version": "*",
      "model_name": "LayoutModel",
      "state": {}
     },
     "ab4d3c06847e45f596b80b7f21ce3e19": {
      "model_module": "jupyter-js-widgets",
      "model_module_version": "*",
      "model_name": "BoxModel",
      "state": {
       "children": [
        "IPY_MODEL_409cb590ee884684afe1e96dfcd88627",
        "IPY_MODEL_4003cdcb413d46df833ee088fbca3e59",
        "IPY_MODEL_eff993795c3f425ebec44e68ad14d897"
       ],
       "layout": "IPY_MODEL_82cabfe26a074dbc808275955a3518f9"
      }
     },
     "ab80b21a79f34840abac9e4bf3688cc2": {
      "model_module": "jupyter-js-widgets",
      "model_module_version": "*",
      "model_name": "LayoutModel",
      "state": {}
     },
     "ab97b91c45304073be3c00ca3e52ad84": {
      "model_module": "jupyter-js-widgets",
      "model_module_version": "*",
      "model_name": "IntSliderModel",
      "state": {
       "description": "$\\int_0^t f$",
       "layout": "IPY_MODEL_75bc88cb47d440a888bc2cdbde0a460c"
      }
     },
     "abcd15c369ca4947b5f8c8b820760387": {
      "model_module": "jupyter-js-widgets",
      "model_module_version": "*",
      "model_name": "ButtonModel",
      "state": {
       "button_style": "warning",
       "layout": "IPY_MODEL_19c41936e20c4f488b430f803725cb7b"
      }
     },
     "ac2a6c3111fd4df591250b0e5a5f2b35": {
      "model_module": "jupyter-js-widgets",
      "model_module_version": "*",
      "model_name": "ButtonModel",
      "state": {
       "button_style": "warning",
       "layout": "IPY_MODEL_19c41936e20c4f488b430f803725cb7b"
      }
     },
     "ac3449020244446fa44d09e78e4511ae": {
      "model_module": "jupyter-js-widgets",
      "model_module_version": "*",
      "model_name": "ButtonModel",
      "state": {
       "description": "battery",
       "layout": "IPY_MODEL_ae944acb3ee649e4ac65c3b7d3e14abb"
      }
     },
     "ac6f036245844b94915592951bbfe742": {
      "model_module": "jupyter-js-widgets",
      "model_module_version": "*",
      "model_name": "TextareaModel",
      "state": {
       "layout": "IPY_MODEL_5de713563e344394876bc37d13685dcc"
      }
     },
     "ae83652d783b4bdda73aec92a1739ad2": {
      "model_module": "jupyter-js-widgets",
      "model_module_version": "*",
      "model_name": "ButtonModel",
      "state": {
       "button_style": "danger",
       "description": "Danger Button",
       "layout": "IPY_MODEL_70ee966071c44566b1cddd7903564031"
      }
     },
     "ae944acb3ee649e4ac65c3b7d3e14abb": {
      "model_module": "jupyter-js-widgets",
      "model_module_version": "*",
      "model_name": "LayoutModel",
      "state": {}
     },
     "af012f318d074645ab678da8c26c1683": {
      "model_module": "jupyter-js-widgets",
      "model_module_version": "*",
      "model_name": "ButtonModel",
      "state": {
       "button_style": "warning",
       "layout": "IPY_MODEL_8b1934e86e7f43a59a44fba886f2fcb4"
      }
     },
     "af8cc1ed24b5462babd70fbc44227539": {
      "model_module": "jupyter-js-widgets",
      "model_module_version": "*",
      "model_name": "LayoutModel",
      "state": {
       "display": "flex",
       "flex_flow": "row",
       "justify_content": "space-between"
      }
     },
     "b03bb62047024010af691fdef9556066": {
      "model_module": "jupyter-js-widgets",
      "model_module_version": "*",
      "model_name": "ButtonModel",
      "state": {
       "button_style": "warning",
       "layout": "IPY_MODEL_a1601cf222924b40987b16144afce1bb"
      }
     },
     "b19ed6037dcf4d49ad07588c64983dcb": {
      "model_module": "jupyter-js-widgets",
      "model_module_version": "*",
      "model_name": "FloatTextModel",
      "state": {
       "layout": "IPY_MODEL_4de384fa21b44da8849043f4bd176025"
      }
     },
     "b25155ee46754fe199c186ba85a81fd5": {
      "model_module": "jupyter-js-widgets",
      "model_module_version": "*",
      "model_name": "BoxModel",
      "state": {
       "children": [
        "IPY_MODEL_cb0f36abc334464c93632b0ffdf26899",
        "IPY_MODEL_ac6f036245844b94915592951bbfe742"
       ],
       "layout": "IPY_MODEL_af8cc1ed24b5462babd70fbc44227539"
      }
     },
     "b2a73816fc9b4b2594a3e79522bb7f87": {
      "model_module": "jupyter-js-widgets",
      "model_module_version": "*",
      "model_name": "LayoutModel",
      "state": {}
     },
     "b447dacbb5c7458b87c2d96d63c984bc": {
      "model_module": "jupyter-js-widgets",
      "model_module_version": "*",
      "model_name": "LayoutModel",
      "state": {}
     },
     "b487d4ab62c24b0dae62401d75e4124f": {
      "model_module": "jupyter-js-widgets",
      "model_module_version": "*",
      "model_name": "ButtonModel",
      "state": {
       "button_style": "warning",
       "layout": "IPY_MODEL_8b1934e86e7f43a59a44fba886f2fcb4"
      }
     },
     "b701c346013043e98ccacce1475a6f21": {
      "model_module": "jupyter-js-widgets",
      "model_module_version": "*",
      "model_name": "ButtonModel",
      "state": {
       "button_style": "warning",
       "layout": "IPY_MODEL_19c41936e20c4f488b430f803725cb7b"
      }
     },
     "b8a7112f0261402fba9acc2e1b8fbbbe": {
      "model_module": "jupyter-js-widgets",
      "model_module_version": "*",
      "model_name": "LayoutModel",
      "state": {}
     },
     "b8d9844f0ead4f73b2a3cd8dc9ce5bc9": {
      "model_module": "jupyter-js-widgets",
      "model_module_version": "*",
      "model_name": "LabelModel",
      "state": {
       "layout": "IPY_MODEL_d35d5dae54d84e58bbea99904599d324",
       "value": "Ship size"
      }
     },
     "bac42a81e6164405ad93e3bc3c50befc": {
      "model_module": "jupyter-js-widgets",
      "model_module_version": "*",
      "model_name": "LayoutModel",
      "state": {
       "height": "80px",
       "width": "50%"
      }
     },
     "bb12966cc62944abb28253f3f3936204": {
      "model_module": "jupyter-js-widgets",
      "model_module_version": "*",
      "model_name": "ButtonModel",
      "state": {
       "button_style": "warning",
       "layout": "IPY_MODEL_a1601cf222924b40987b16144afce1bb"
      }
     },
     "bc7576fcdb454177b1d39db080193c10": {
      "model_module": "jupyter-js-widgets",
      "model_module_version": "*",
      "model_name": "BoxModel",
      "state": {
       "children": [
        "IPY_MODEL_3dbc994468a84d70aae0233ffdd95b35",
        "IPY_MODEL_cb418cc822954232a12f9df683592906"
       ],
       "layout": "IPY_MODEL_42fa2976d2b247d6925c042fb4687635"
      }
     },
     "bcfe7c69d6d34bbd9f8b821ec56df04e": {
      "model_module": "jupyter-js-widgets",
      "model_module_version": "*",
      "model_name": "ButtonModel",
      "state": {
       "button_style": "warning",
       "layout": "IPY_MODEL_8b1934e86e7f43a59a44fba886f2fcb4"
      }
     },
     "c119de6ef35943968ba2e9776f34ab80": {
      "model_module": "jupyter-js-widgets",
      "model_module_version": "*",
      "model_name": "ButtonModel",
      "state": {
       "button_style": "warning",
       "layout": "IPY_MODEL_a1601cf222924b40987b16144afce1bb"
      }
     },
     "c179f4882de44a6b95759b7c5cb100a7": {
      "model_module": "jupyter-js-widgets",
      "model_module_version": "*",
      "model_name": "ButtonModel",
      "state": {
       "button_style": "warning",
       "layout": "IPY_MODEL_a1601cf222924b40987b16144afce1bb"
      }
     },
     "c1a114c510924614bca7f95c194ccb87": {
      "model_module": "jupyter-js-widgets",
      "model_module_version": "*",
      "model_name": "ButtonModel",
      "state": {
       "button_style": "warning",
       "layout": "IPY_MODEL_8b1934e86e7f43a59a44fba886f2fcb4"
      }
     },
     "c202fedf1bd6403ca195b8c85f487795": {
      "model_module": "jupyter-js-widgets",
      "model_module_version": "*",
      "model_name": "ButtonModel",
      "state": {
       "button_style": "danger",
       "description": "staple",
       "layout": "IPY_MODEL_c3f5e51b178243d29f2e3c134a3aaa83"
      }
     },
     "c276b6586bed4a869c872362877462c2": {
      "model_module": "jupyter-js-widgets",
      "model_module_version": "*",
      "model_name": "ButtonModel",
      "state": {
       "button_style": "warning",
       "layout": "IPY_MODEL_20df9245d9d642e0b7c7a43afc4f5cb1"
      }
     },
     "c2c123bd8ba948099196758a74a7fcee": {
      "model_module": "jupyter-js-widgets",
      "model_module_version": "*",
      "model_name": "ButtonModel",
      "state": {
       "button_style": "warning",
       "layout": "IPY_MODEL_19c41936e20c4f488b430f803725cb7b"
      }
     },
     "c2c5909e325c405d816ff4a8aff5bd52": {
      "model_module": "jupyter-js-widgets",
      "model_module_version": "*",
      "model_name": "ButtonModel",
      "state": {
       "button_style": "warning",
       "layout": "IPY_MODEL_19c41936e20c4f488b430f803725cb7b"
      }
     },
     "c3a8d6198fd14af586a2046052814988": {
      "model_module": "jupyter-js-widgets",
      "model_module_version": "*",
      "model_name": "BoxModel",
      "state": {
       "children": [
        "IPY_MODEL_a67432460bba479c863f4cbcb571208a",
        "IPY_MODEL_79a959c2f0c848cc9c0a6a14b6b7968b",
        "IPY_MODEL_f6863c21976f43838c49be62569dd790"
       ],
       "layout": "IPY_MODEL_2022abc01a3047d7b03ef3a6079b6e5a"
      }
     },
     "c3b7003b91a34310945a24906011a4c1": {
      "model_module": "jupyter-js-widgets",
      "model_module_version": "*",
      "model_name": "LabelModel",
      "state": {
       "layout": "IPY_MODEL_f700f6361d6845c9a672f637a2b27e54",
       "value": "Ship size"
      }
     },
     "c3f5e51b178243d29f2e3c134a3aaa83": {
      "model_module": "jupyter-js-widgets",
      "model_module_version": "*",
      "model_name": "LayoutModel",
      "state": {
       "flex": "1 1 auto",
       "width": "auto"
      }
     },
     "c50feddb16ae44b2ad13a096d7e41e8f": {
      "model_module": "jupyter-js-widgets",
      "model_module_version": "*",
      "model_name": "LayoutModel",
      "state": {}
     },
     "c5c59a3887d54295bbb540d1d982470b": {
      "model_module": "jupyter-js-widgets",
      "model_module_version": "*",
      "model_name": "BoxModel",
      "state": {
       "children": [
        "IPY_MODEL_12df185fb6f14924abbefe6bed68a7cd",
        "IPY_MODEL_4163a199c542480390d5fb30f5c0090d",
        "IPY_MODEL_15320e60b4284f74852c4dfcb1cad752",
        "IPY_MODEL_5f149effd5364bb78f49366240a5d988"
       ],
       "layout": "IPY_MODEL_d87eebb3dd424d48918de033f99a6546"
      }
     },
     "c755bda24abf4b4d8b9d7d59272d234f": {
      "model_module": "jupyter-js-widgets",
      "model_module_version": "*",
      "model_name": "LayoutModel",
      "state": {}
     },
     "c7bd2710784041d88207af948a24f771": {
      "model_module": "jupyter-js-widgets",
      "model_module_version": "*",
      "model_name": "LayoutModel",
      "state": {}
     },
     "c89a68a3fa924048ade1e820d951877e": {
      "model_module": "jupyter-js-widgets",
      "model_module_version": "*",
      "model_name": "ButtonModel",
      "state": {
       "button_style": "warning",
       "layout": "IPY_MODEL_20df9245d9d642e0b7c7a43afc4f5cb1"
      }
     },
     "c90911711b12442599375bdc2f6f38b3": {
      "model_module": "jupyter-js-widgets",
      "model_module_version": "*",
      "model_name": "ButtonModel",
      "state": {
       "button_style": "warning",
       "layout": "IPY_MODEL_20df9245d9d642e0b7c7a43afc4f5cb1"
      }
     },
     "cb0f36abc334464c93632b0ffdf26899": {
      "model_module": "jupyter-js-widgets",
      "model_module_version": "*",
      "model_name": "LabelModel",
      "state": {
       "layout": "IPY_MODEL_17f6cea36353431da0d019c8132f5048",
       "value": "Information"
      }
     },
     "cb418cc822954232a12f9df683592906": {
      "model_module": "jupyter-js-widgets",
      "model_module_version": "*",
      "model_name": "IntSliderModel",
      "state": {
       "layout": "IPY_MODEL_8ff95b740754417cbd5bec2bf630a9b3",
       "max": 60,
       "min": 40,
       "value": 52
      }
     },
     "cca1aa6132924225a3ba2a220787fdfa": {
      "model_module": "jupyter-js-widgets",
      "model_module_version": "*",
      "model_name": "ButtonModel",
      "state": {
       "button_style": "warning",
       "layout": "IPY_MODEL_a1601cf222924b40987b16144afce1bb"
      }
     },
     "ccba95b200504fef858333f7bce46bbf": {
      "model_module": "jupyter-js-widgets",
      "model_module_version": "*",
      "model_name": "BoxModel",
      "state": {
       "children": [
        "IPY_MODEL_8e21ee11ac574018a50adb342c842e77",
        "IPY_MODEL_cd6b935030c1436da2f95c869db9f7d8"
       ],
       "layout": "IPY_MODEL_d54570e604f1493d8d5b1f3faaf3d994"
      }
     },
     "cd3dc480964c4f1c87665cf618a3480c": {
      "model_module": "jupyter-js-widgets",
      "model_module_version": "*",
      "model_name": "LayoutModel",
      "state": {}
     },
     "cd475e2e9f1d4e1d81fc554e8c803bd1": {
      "model_module": "jupyter-js-widgets",
      "model_module_version": "*",
      "model_name": "ButtonModel",
      "state": {
       "button_style": "warning",
       "layout": "IPY_MODEL_8b1934e86e7f43a59a44fba886f2fcb4"
      }
     },
     "cd6b935030c1436da2f95c869db9f7d8": {
      "model_module": "jupyter-js-widgets",
      "model_module_version": "*",
      "model_name": "IntSliderModel",
      "state": {
       "layout": "IPY_MODEL_48cd3768e5f24e5785cb08d79a57bdf7",
       "max": 60,
       "min": 40,
       "value": 40
      }
     },
     "cdf779f172954778ba2e03781f9968ab": {
      "model_module": "jupyter-js-widgets",
      "model_module_version": "*",
      "model_name": "ButtonModel",
      "state": {
       "button_style": "warning",
       "layout": "IPY_MODEL_8b1934e86e7f43a59a44fba886f2fcb4"
      }
     },
     "d064e59e8e12483cbf84fc83c33ed812": {
      "model_module": "jupyter-js-widgets",
      "model_module_version": "*",
      "model_name": "ButtonModel",
      "state": {
       "button_style": "warning",
       "layout": "IPY_MODEL_19c41936e20c4f488b430f803725cb7b"
      }
     },
     "d105b2fd635946e28e2c943d6476b195": {
      "model_module": "jupyter-js-widgets",
      "model_module_version": "*",
      "model_name": "ButtonModel",
      "state": {
       "description": "correct",
       "layout": "IPY_MODEL_63f2e225004d410baa2e2a01fc256d47"
      }
     },
     "d1eddccae2e9493395ebf27ed464687f": {
      "model_module": "jupyter-js-widgets",
      "model_module_version": "*",
      "model_name": "ButtonModel",
      "state": {
       "button_style": "danger",
       "description": "correct",
       "layout": "IPY_MODEL_6d7283ceb9874d1bb3b7857af4d68c29"
      }
     },
     "d21d7a5f5daf40f2b98ac59c96aabc18": {
      "model_module": "jupyter-js-widgets",
      "model_module_version": "*",
      "model_name": "LayoutModel",
      "state": {
       "border": "3px solid black",
       "display": "flex",
       "height": "",
       "overflow_x": "scroll",
       "width": "500px"
      }
     },
     "d2278accda15414f8b8788582785b1ac": {
      "model_module": "jupyter-js-widgets",
      "model_module_version": "*",
      "model_name": "ButtonModel",
      "state": {
       "button_style": "warning",
       "layout": "IPY_MODEL_a1601cf222924b40987b16144afce1bb"
      }
     },
     "d2fcf3a45e7f496bb9de9cc62c29415d": {
      "model_module": "jupyter-js-widgets",
      "model_module_version": "*",
      "model_name": "LayoutModel",
      "state": {}
     },
     "d35d5dae54d84e58bbea99904599d324": {
      "model_module": "jupyter-js-widgets",
      "model_module_version": "*",
      "model_name": "LayoutModel",
      "state": {}
     },
     "d396391b083d430199f2c6aaba43ce15": {
      "model_module": "jupyter-js-widgets",
      "model_module_version": "*",
      "model_name": "ButtonModel",
      "state": {
       "button_style": "warning",
       "layout": "IPY_MODEL_19c41936e20c4f488b430f803725cb7b"
      }
     },
     "d3f20a8b88144bcf99d7e1ce1d8aae02": {
      "model_module": "jupyter-js-widgets",
      "model_module_version": "*",
      "model_name": "TextareaModel",
      "state": {
       "layout": "IPY_MODEL_3efba51e16684a2eb18331a12cad00e3"
      }
     },
     "d4bf62130da64aad9f96480f14287f19": {
      "model_module": "jupyter-js-widgets",
      "model_module_version": "*",
      "model_name": "ButtonModel",
      "state": {
       "button_style": "warning",
       "layout": "IPY_MODEL_8b1934e86e7f43a59a44fba886f2fcb4"
      }
     },
     "d54570e604f1493d8d5b1f3faaf3d994": {
      "model_module": "jupyter-js-widgets",
      "model_module_version": "*",
      "model_name": "LayoutModel",
      "state": {
       "display": "flex",
       "flex_flow": "row",
       "justify_content": "space-between"
      }
     },
     "d6ac49fbb03b452cb1b4475b70056c3d": {
      "model_module": "jupyter-js-widgets",
      "model_module_version": "*",
      "model_name": "ButtonModel",
      "state": {
       "button_style": "warning",
       "layout": "IPY_MODEL_a1601cf222924b40987b16144afce1bb"
      }
     },
     "d86a45d048b84279914d5ab883ae8eea": {
      "model_module": "jupyter-js-widgets",
      "model_module_version": "*",
      "model_name": "ButtonModel",
      "state": {
       "button_style": "warning",
       "layout": "IPY_MODEL_a1601cf222924b40987b16144afce1bb"
      }
     },
     "d87eebb3dd424d48918de033f99a6546": {
      "model_module": "jupyter-js-widgets",
      "model_module_version": "*",
      "model_name": "LayoutModel",
      "state": {
       "align_items": "stretch",
       "border": "solid",
       "display": "flex",
       "flex_flow": "column",
       "width": "50%"
      }
     },
     "d965e2481f894f528980b9cc6f8fba4c": {
      "model_module": "jupyter-js-widgets",
      "model_module_version": "*",
      "model_name": "BoxModel",
      "state": {
       "children": [
        "IPY_MODEL_ccba95b200504fef858333f7bce46bbf",
        "IPY_MODEL_51b5a3a239cd488eaa81baeefa7f98b9",
        "IPY_MODEL_49338097e3894611bc355fda6d4999e1",
        "IPY_MODEL_24567a4ca4b34f58ac204d4c10cd3600"
       ],
       "layout": "IPY_MODEL_e6da8f86f5f947f3b6be7e96874ef989"
      }
     },
     "da26e1511fa34c8e88d62a76a7161ea1": {
      "model_module": "jupyter-js-widgets",
      "model_module_version": "*",
      "model_name": "LayoutModel",
      "state": {}
     },
     "da494f7ba2b346659f49248020205926": {
      "model_module": "jupyter-js-widgets",
      "model_module_version": "*",
      "model_name": "VBoxModel",
      "state": {
       "children": [
        "IPY_MODEL_efd17f0f3fe14045bd58ede3cca8063e",
        "IPY_MODEL_0524aea0564e4aefb63a0a197fb55d53"
       ],
       "layout": "IPY_MODEL_30753e0eaa6a4918bac2180b92d541f5"
      }
     },
     "dbb15e02fb204351a3b05d20f4a4d1f4": {
      "model_module": "jupyter-js-widgets",
      "model_module_version": "*",
      "model_name": "ButtonModel",
      "state": {
       "button_style": "warning",
       "layout": "IPY_MODEL_19c41936e20c4f488b430f803725cb7b"
      }
     },
     "dce8c3e7885a4d6991239018e8279285": {
      "model_module": "jupyter-js-widgets",
      "model_module_version": "*",
      "model_name": "LabelModel",
      "state": {
       "layout": "IPY_MODEL_cd3dc480964c4f1c87665cf618a3480c",
       "value": "$e=mc^2$"
      }
     },
     "dd716baca99f42d9a573d904d7f703d0": {
      "model_module": "jupyter-js-widgets",
      "model_module_version": "*",
      "model_name": "ButtonModel",
      "state": {
       "description": "correct",
       "layout": "IPY_MODEL_0562bd0daa1f49159d75d12784781d76"
      }
     },
     "ddb1e6010d0143c1aff6e4871f1d7d1b": {
      "model_module": "jupyter-js-widgets",
      "model_module_version": "*",
      "model_name": "ButtonModel",
      "state": {
       "button_style": "warning",
       "layout": "IPY_MODEL_8b1934e86e7f43a59a44fba886f2fcb4"
      }
     },
     "ddbeb09069a24668ae787bec88bc221c": {
      "model_module": "jupyter-js-widgets",
      "model_module_version": "*",
      "model_name": "ButtonModel",
      "state": {
       "button_style": "danger",
       "description": "battery",
       "layout": "IPY_MODEL_c3f5e51b178243d29f2e3c134a3aaa83"
      }
     },
     "e0552d4ac07f4a5399e0661713cd2e30": {
      "model_module": "jupyter-js-widgets",
      "model_module_version": "*",
      "model_name": "ButtonModel",
      "state": {
       "button_style": "warning",
       "layout": "IPY_MODEL_8b1934e86e7f43a59a44fba886f2fcb4"
      }
     },
     "e1b57ab7f17f4fe8a3eaa64c9be5acaf": {
      "model_module": "jupyter-js-widgets",
      "model_module_version": "*",
      "model_name": "ButtonModel",
      "state": {
       "button_style": "warning",
       "layout": "IPY_MODEL_20df9245d9d642e0b7c7a43afc4f5cb1"
      }
     },
     "e1e1ed21baf0444fb3d9a12c66efefd0": {
      "model_module": "jupyter-js-widgets",
      "model_module_version": "*",
      "model_name": "LayoutModel",
      "state": {}
     },
     "e25c4c792bdf466f87d3ae01e2d2c882": {
      "model_module": "jupyter-js-widgets",
      "model_module_version": "*",
      "model_name": "VBoxModel",
      "state": {
       "children": [
        "IPY_MODEL_6e743f93ed304e7ba0fac3d2f50e3d3d",
        "IPY_MODEL_88c448148212401f9d0dc8a04962b13c"
       ],
       "layout": "IPY_MODEL_1efd1865dc9f41efaed2358aeba7369c"
      }
     },
     "e477b8f677be46e19d76232e8bccb670": {
      "model_module": "jupyter-js-widgets",
      "model_module_version": "*",
      "model_name": "DropdownModel",
      "state": {
       "_options_labels": [
        "Scrambled",
        "Sunny side up",
        "Over easy"
       ],
       "layout": "IPY_MODEL_b2a73816fc9b4b2594a3e79522bb7f87",
       "value": "Scrambled"
      }
     },
     "e5aa3e3e890642d5a90943441640b1b5": {
      "model_module": "jupyter-js-widgets",
      "model_module_version": "*",
      "model_name": "ButtonModel",
      "state": {
       "button_style": "warning",
       "layout": "IPY_MODEL_a1601cf222924b40987b16144afce1bb"
      }
     },
     "e6da8f86f5f947f3b6be7e96874ef989": {
      "model_module": "jupyter-js-widgets",
      "model_module_version": "*",
      "model_name": "LayoutModel",
      "state": {
       "align_items": "stretch",
       "border": "solid 2px",
       "display": "flex",
       "flex_flow": "column",
       "width": "50%"
      }
     },
     "e6ea8f61a1764123acdd888cad7a3ed9": {
      "model_module": "jupyter-js-widgets",
      "model_module_version": "*",
      "model_name": "ButtonModel",
      "state": {
       "button_style": "warning",
       "layout": "IPY_MODEL_a1601cf222924b40987b16144afce1bb"
      }
     },
     "e776134153ce498f81068eb6537d3367": {
      "model_module": "jupyter-js-widgets",
      "model_module_version": "*",
      "model_name": "LayoutModel",
      "state": {}
     },
     "e78b36c80ba24456ba393e5006e7177f": {
      "model_module": "jupyter-js-widgets",
      "model_module_version": "*",
      "model_name": "ButtonModel",
      "state": {
       "button_style": "warning",
       "layout": "IPY_MODEL_20df9245d9d642e0b7c7a43afc4f5cb1"
      }
     },
     "e8a8bb7f49024ee1bb84856dfb54ca42": {
      "model_module": "jupyter-js-widgets",
      "model_module_version": "*",
      "model_name": "ButtonModel",
      "state": {
       "button_style": "warning",
       "layout": "IPY_MODEL_20df9245d9d642e0b7c7a43afc4f5cb1"
      }
     },
     "e8e5c8506f3049b0bf723c6d0b166f34": {
      "model_module": "jupyter-js-widgets",
      "model_module_version": "*",
      "model_name": "LayoutModel",
      "state": {}
     },
     "ea38d5b376be4deba98765462ffedff6": {
      "model_module": "jupyter-js-widgets",
      "model_module_version": "*",
      "model_name": "ButtonModel",
      "state": {
       "button_style": "warning",
       "layout": "IPY_MODEL_8b1934e86e7f43a59a44fba886f2fcb4"
      }
     },
     "ea8b796ce01442c9801868506f9ff5ec": {
      "model_module": "jupyter-js-widgets",
      "model_module_version": "*",
      "model_name": "ButtonModel",
      "state": {
       "description": "horse",
       "layout": "IPY_MODEL_88ed8e55303e4c1ba603b45562ea0ec0"
      }
     },
     "eac6a5f05caa4a8aa16c433fa4d055c4": {
      "model_module": "jupyter-js-widgets",
      "model_module_version": "*",
      "model_name": "ButtonModel",
      "state": {
       "button_style": "warning",
       "layout": "IPY_MODEL_a1601cf222924b40987b16144afce1bb"
      }
     },
     "ebd8043922ed45c0be62393bbf97761b": {
      "model_module": "jupyter-js-widgets",
      "model_module_version": "*",
      "model_name": "ButtonModel",
      "state": {
       "button_style": "warning",
       "layout": "IPY_MODEL_20df9245d9d642e0b7c7a43afc4f5cb1"
      }
     },
     "ebf84fc3b4d0413ca32a39134ec319d1": {
      "model_module": "jupyter-js-widgets",
      "model_module_version": "*",
      "model_name": "BoxModel",
      "state": {
       "children": [
        "IPY_MODEL_6c1c986e175c4bbb984d13bdbca8b85c",
        "IPY_MODEL_6e17a49fd8224702ba72a72aa6f7430f",
        "IPY_MODEL_85a72bd8d82648c69814560d06730153",
        "IPY_MODEL_feb0fc5bfca7455b8b54a67f1a3e3c42",
        "IPY_MODEL_9f9be7dd3d2c45d39701a9957f65688a",
        "IPY_MODEL_0a290fa7754c4bf3ba87c2ca052d36d4",
        "IPY_MODEL_67bed3b9045747c39a9c9fca7106e248",
        "IPY_MODEL_63aa8b4b206e459ca63370fb8a12886e",
        "IPY_MODEL_8585bf5fc78147c6b48d43d410ac5993",
        "IPY_MODEL_811ede373d364546bf875059fc607d22",
        "IPY_MODEL_133cb69a368e4184afcadd7c43c175a5",
        "IPY_MODEL_c276b6586bed4a869c872362877462c2",
        "IPY_MODEL_4ea795c83eaf461c9598929d7c3543df",
        "IPY_MODEL_9d55d6d3c8be4d188afea268f8286b5a",
        "IPY_MODEL_f0d71fa5d6ff441391f2e52a48c84382",
        "IPY_MODEL_ebd8043922ed45c0be62393bbf97761b",
        "IPY_MODEL_0b99bd9a59ee4adba0a8e12778b430b9",
        "IPY_MODEL_fc259babe358410b87b33ae19be56ee4",
        "IPY_MODEL_54d3b925c7d34fbd97e7647199d3cd42",
        "IPY_MODEL_08961d811f34476284799f07f7e8d176",
        "IPY_MODEL_e1b57ab7f17f4fe8a3eaa64c9be5acaf",
        "IPY_MODEL_12bc4f25f384496caec8a18d7abcba4b",
        "IPY_MODEL_1713a133dade42cbafd978f0689adf0f",
        "IPY_MODEL_64d9ead4fb784850a9794ee001571b88",
        "IPY_MODEL_c89a68a3fa924048ade1e820d951877e",
        "IPY_MODEL_85e73bf8c44848b186c3e7246d4cc92d",
        "IPY_MODEL_c90911711b12442599375bdc2f6f38b3",
        "IPY_MODEL_6fd2ebb2a46d49aca2e3014d1d6a3431",
        "IPY_MODEL_5c15d4af6f74462f871845a91433187e",
        "IPY_MODEL_8512d2d49d0b446582f73b19c4ec9726",
        "IPY_MODEL_12008a9fee494b85bf99d5a1e33ebdad",
        "IPY_MODEL_e8a8bb7f49024ee1bb84856dfb54ca42",
        "IPY_MODEL_821390629e634250bc5afbd01f84948f",
        "IPY_MODEL_3456ded02efb4e069c762318c0a6d5c7",
        "IPY_MODEL_e78b36c80ba24456ba393e5006e7177f",
        "IPY_MODEL_fb9f8b54c2b24438959cd17ad1801063",
        "IPY_MODEL_f82136e3cd204bcaae1233c42d9f09e4",
        "IPY_MODEL_ff7f72c79d824316ba1c6569a1b46140",
        "IPY_MODEL_92023563d81e49fa8e6a18fb83dde852",
        "IPY_MODEL_40f5d688ec1b456d814eaf0f5720e019"
       ],
       "layout": "IPY_MODEL_1e73851e555842f09e006d3877d6b283"
      }
     },
     "ec1d3ba98cc34fc4a720081d2b23b000": {
      "model_module": "jupyter-js-widgets",
      "model_module_version": "*",
      "model_name": "HBoxModel",
      "state": {
       "children": [
        "IPY_MODEL_5e6b9ee5acbb40c389ce61a178b2f218",
        "IPY_MODEL_7a3dbb3bdd81407a8788f4b032b4cd0e"
       ],
       "layout": "IPY_MODEL_103b5da8842f4218bf561e4c2973b2ba"
      }
     },
     "ee75b400787545419b79999e46e966a9": {
      "model_module": "jupyter-js-widgets",
      "model_module_version": "*",
      "model_name": "ButtonModel",
      "state": {
       "button_style": "warning",
       "layout": "IPY_MODEL_a1601cf222924b40987b16144afce1bb"
      }
     },
     "efd17f0f3fe14045bd58ede3cca8063e": {
      "model_module": "jupyter-js-widgets",
      "model_module_version": "*",
      "model_name": "ButtonModel",
      "state": {
       "description": "battery",
       "layout": "IPY_MODEL_fa98c23091b34be0902e8be9aff21227"
      }
     },
     "eff993795c3f425ebec44e68ad14d897": {
      "model_module": "jupyter-js-widgets",
      "model_module_version": "*",
      "model_name": "ButtonModel",
      "state": {
       "description": "weight=1",
       "layout": "IPY_MODEL_1852a0da913d49d299d7374ae1f6f6e4"
      }
     },
     "f04eb317525940cab3234a24c2a6d974": {
      "model_module": "jupyter-js-widgets",
      "model_module_version": "*",
      "model_name": "VBoxModel",
      "state": {
       "children": [
        "IPY_MODEL_392a6ef29a95469396fe4ccc7857f438",
        "IPY_MODEL_02975b8d14e04f2e86a18ef5e5462081"
       ],
       "layout": "IPY_MODEL_638746f7807145d8b0439fdf93391a1a"
      }
     },
     "f09201481a8448e19ff33213720f21bd": {
      "model_module": "jupyter-js-widgets",
      "model_module_version": "*",
      "model_name": "LayoutModel",
      "state": {
       "flex": "1 1 auto",
       "width": "auto"
      }
     },
     "f0d71fa5d6ff441391f2e52a48c84382": {
      "model_module": "jupyter-js-widgets",
      "model_module_version": "*",
      "model_name": "ButtonModel",
      "state": {
       "button_style": "warning",
       "layout": "IPY_MODEL_20df9245d9d642e0b7c7a43afc4f5cb1"
      }
     },
     "f0eec177c1604cd28a4577e3cf44938f": {
      "model_module": "jupyter-js-widgets",
      "model_module_version": "*",
      "model_name": "LayoutModel",
      "state": {
       "flex": "2 1 auto",
       "width": "auto"
      }
     },
     "f1a432e05bf54912a481f7f1d55240a5": {
      "model_module": "jupyter-js-widgets",
      "model_module_version": "*",
      "model_name": "LayoutModel",
      "state": {}
     },
     "f21334027d9e488ba7bc2a69d39eee26": {
      "model_module": "jupyter-js-widgets",
      "model_module_version": "*",
      "model_name": "ButtonModel",
      "state": {
       "button_style": "danger",
       "description": "correct",
       "layout": "IPY_MODEL_c3f5e51b178243d29f2e3c134a3aaa83"
      }
     },
     "f22a45307fd14c1193b723a7dd3e6948": {
      "model_module": "jupyter-js-widgets",
      "model_module_version": "*",
      "model_name": "LayoutModel",
      "state": {}
     },
     "f2f0a0ac55074afca6bf98b8dae0d07c": {
      "model_module": "jupyter-js-widgets",
      "model_module_version": "*",
      "model_name": "VBoxModel",
      "state": {
       "children": [
        "IPY_MODEL_d105b2fd635946e28e2c943d6476b195",
        "IPY_MODEL_ea8b796ce01442c9801868506f9ff5ec"
       ],
       "layout": "IPY_MODEL_a3664444f3de4f939cb2e0ec1cd78426"
      }
     },
     "f35873b7071b4824b57f0afc06241403": {
      "model_module": "jupyter-js-widgets",
      "model_module_version": "*",
      "model_name": "LayoutModel",
      "state": {}
     },
     "f4fadc8433184459be453e31d3063755": {
      "model_module": "jupyter-js-widgets",
      "model_module_version": "*",
      "model_name": "ButtonModel",
      "state": {
       "button_style": "warning",
       "layout": "IPY_MODEL_a1601cf222924b40987b16144afce1bb"
      }
     },
     "f6863c21976f43838c49be62569dd790": {
      "model_module": "jupyter-js-widgets",
      "model_module_version": "*",
      "model_name": "ButtonModel",
      "state": {
       "description": "weight=1",
       "layout": "IPY_MODEL_a4c3985bd4e14ffcb324ef089f29ff8c"
      }
     },
     "f700f6361d6845c9a672f637a2b27e54": {
      "model_module": "jupyter-js-widgets",
      "model_module_version": "*",
      "model_name": "LayoutModel",
      "state": {}
     },
     "f7527cf9b56b447bb7a4a14cd572cfa7": {
      "model_module": "jupyter-js-widgets",
      "model_module_version": "*",
      "model_name": "ButtonModel",
      "state": {
       "button_style": "warning",
       "layout": "IPY_MODEL_a1601cf222924b40987b16144afce1bb"
      }
     },
     "f82136e3cd204bcaae1233c42d9f09e4": {
      "model_module": "jupyter-js-widgets",
      "model_module_version": "*",
      "model_name": "ButtonModel",
      "state": {
       "button_style": "warning",
       "layout": "IPY_MODEL_20df9245d9d642e0b7c7a43afc4f5cb1"
      }
     },
     "f84ce1181f27425c9b8ba1130f1260b5": {
      "model_module": "jupyter-js-widgets",
      "model_module_version": "*",
      "model_name": "LayoutModel",
      "state": {}
     },
     "f9f8a658313f4b3b9fdff5891c4c28c0": {
      "model_module": "jupyter-js-widgets",
      "model_module_version": "*",
      "model_name": "ButtonModel",
      "state": {
       "button_style": "warning",
       "layout": "IPY_MODEL_8b1934e86e7f43a59a44fba886f2fcb4"
      }
     },
     "fa98c23091b34be0902e8be9aff21227": {
      "model_module": "jupyter-js-widgets",
      "model_module_version": "*",
      "model_name": "LayoutModel",
      "state": {}
     },
     "fb9f8b54c2b24438959cd17ad1801063": {
      "model_module": "jupyter-js-widgets",
      "model_module_version": "*",
      "model_name": "ButtonModel",
      "state": {
       "button_style": "warning",
       "layout": "IPY_MODEL_20df9245d9d642e0b7c7a43afc4f5cb1"
      }
     },
     "fc259babe358410b87b33ae19be56ee4": {
      "model_module": "jupyter-js-widgets",
      "model_module_version": "*",
      "model_name": "ButtonModel",
      "state": {
       "button_style": "warning",
       "layout": "IPY_MODEL_20df9245d9d642e0b7c7a43afc4f5cb1"
      }
     },
     "feb0fc5bfca7455b8b54a67f1a3e3c42": {
      "model_module": "jupyter-js-widgets",
      "model_module_version": "*",
      "model_name": "ButtonModel",
      "state": {
       "button_style": "warning",
       "layout": "IPY_MODEL_20df9245d9d642e0b7c7a43afc4f5cb1"
      }
     },
     "ff7f72c79d824316ba1c6569a1b46140": {
      "model_module": "jupyter-js-widgets",
      "model_module_version": "*",
      "model_name": "ButtonModel",
      "state": {
       "button_style": "warning",
       "layout": "IPY_MODEL_20df9245d9d642e0b7c7a43afc4f5cb1"
      }
     }
    },
    "version_major": 1,
    "version_minor": 0
   }
  }
 },
 "nbformat": 4,
 "nbformat_minor": 1
}
