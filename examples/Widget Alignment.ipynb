{
 "cells": [
  {
   "cell_type": "code",
   "execution_count": 1,
   "metadata": {
    "collapsed": true
   },
   "outputs": [],
   "source": [
    "from ipywidgets import *"
   ]
  },
  {
   "cell_type": "markdown",
   "metadata": {},
   "source": [
    "**1.** `VBox(HBox)`"
   ]
  },
  {
   "cell_type": "code",
   "execution_count": 2,
   "metadata": {},
   "outputs": [
    {
     "data": {
      "application/vnd.jupyter.widget-view+json": {
       "model_id": "293bb7921b0b47aa9f2cfaef5a97a340"
      }
     },
     "metadata": {},
     "output_type": "display_data"
    }
   ],
   "source": [
    "VBox([HBox([VBox([Dropdown(description='Choice', options=['foo', 'bar']), \n",
    "                  ColorPicker(description='Color'), \n",
    "                  HBox([Button(), Button()])]), \n",
    "            Textarea(value=\"Lorem ipsum dolor sit amet, consectetur adipiscing elit,\"\n",
    "\"sed do eiusmod tempor incididunt ut labore et dolore magna aliqua. \"\n",
    "\"Ut enim ad minim veniam, quis nostrud exercitation ullamco laboris \"\n",
    "\"nisi ut aliquip ex ea commodo consequat. Duis aute irure dolor in \"\n",
    "\"reprehenderit in voluptate velit esse cillum dolore eu fugiat nulla \"\n",
    "\"pariatur. Excepteur sint occaecat cupidatat non proident, sunt in culpa \"\n",
    "\"qui officia deserunt mollit anim id est laborum.\")]),\n",
    "      HBox([Text(), Checkbox(description='Check box')]), \n",
    "      IntSlider(), \n",
    "      Controller()], background_color='#EEE')"
   ]
  },
  {
   "cell_type": "markdown",
   "metadata": {},
   "source": [
    "**2.** `HBox(VBox)`"
   ]
  },
  {
   "cell_type": "code",
   "execution_count": 3,
   "metadata": {},
   "outputs": [
    {
     "data": {
      "application/vnd.jupyter.widget-view+json": {
       "model_id": "f08356c143744bea913b8ebd20e27d75"
      }
     },
     "metadata": {},
     "output_type": "display_data"
    }
   ],
   "source": [
    "HBox([VBox([Button(description='Press'), Dropdown(options=['a', 'b']), Button(description='Button')]), \n",
    "      VBox([Button(), Checkbox(), IntText()]), \n",
    "      VBox([Button(), IntSlider(), Button()])], background_color='#EEE')"
   ]
  },
  {
   "cell_type": "markdown",
   "metadata": {},
   "source": [
    "**3.** `VBox(HBox)` width sliders, range sliders and progress bars"
   ]
  },
  {
   "cell_type": "code",
   "execution_count": 4,
   "metadata": {},
   "outputs": [
    {
     "data": {
      "application/vnd.jupyter.widget-view+json": {
       "model_id": "505fd68519ce4075959678465634810b"
      }
     },
     "metadata": {},
     "output_type": "display_data"
    }
   ],
   "source": [
    "VBox([HBox([Button(), FloatRangeSlider(), Text(), Button()]), \n",
    "      HBox([Button(), FloatText(), Button(description='Button'),\n",
    "            FloatProgress(value=40), Checkbox(description='Check')]), \n",
    "      HBox([ToggleButton(), IntSlider(description='Foobar'),\n",
    "            Dropdown(options=['foo', 'bar']), Valid()]),\n",
    "     ])"
   ]
  },
  {
   "cell_type": "markdown",
   "metadata": {},
   "source": [
    "**4.** Dropdown resize"
   ]
  },
  {
   "cell_type": "code",
   "execution_count": 5,
   "metadata": {},
   "outputs": [
    {
     "data": {
      "application/vnd.jupyter.widget-view+json": {
       "model_id": "4f4254520e84480b8a19881400f1f367"
      }
     },
     "metadata": {},
     "output_type": "display_data"
    }
   ],
   "source": [
    "dd = Dropdown(description='Foobar', options=['foo', 'bar'])\n",
    "dd"
   ]
  },
  {
   "cell_type": "code",
   "execution_count": 6,
   "metadata": {
    "collapsed": true
   },
   "outputs": [],
   "source": [
    "dd.height = '50px'\n",
    "dd.width = '148px'"
   ]
  },
  {
   "cell_type": "code",
   "execution_count": 7,
   "metadata": {
    "collapsed": true
   },
   "outputs": [],
   "source": [
    "cp = ColorPicker(description='foobar')"
   ]
  },
  {
   "cell_type": "markdown",
   "metadata": {},
   "source": [
    "**5.** Colorpicker alignment, concise and long version"
   ]
  },
  {
   "cell_type": "code",
   "execution_count": 8,
   "metadata": {},
   "outputs": [
    {
     "data": {
      "application/vnd.jupyter.widget-view+json": {
       "model_id": "67565f80cde54bc09bd294024e9c72b5"
      }
     },
     "metadata": {},
     "output_type": "display_data"
    }
   ],
   "source": [
    "VBox([HBox([Dropdown(width='148px', options=['foo', 'bar']),\n",
    "            Button(description='Button')]), cp, HBox([Button(), Button()])])"
   ]
  },
  {
   "cell_type": "code",
   "execution_count": 9,
   "metadata": {
    "collapsed": true
   },
   "outputs": [],
   "source": [
    "cp.concise = True"
   ]
  },
  {
   "cell_type": "code",
   "execution_count": 10,
   "metadata": {
    "collapsed": true
   },
   "outputs": [],
   "source": [
    "cp.concise = False"
   ]
  },
  {
   "cell_type": "code",
   "execution_count": 11,
   "metadata": {
    "collapsed": true
   },
   "outputs": [],
   "source": [
    "cp2 = ColorPicker()"
   ]
  },
  {
   "cell_type": "code",
   "execution_count": 12,
   "metadata": {},
   "outputs": [
    {
     "data": {
      "application/vnd.jupyter.widget-view+json": {
       "model_id": "4828ad2682e6428fb6b8c6cdc8e8c48e"
      }
     },
     "metadata": {},
     "output_type": "display_data"
    }
   ],
   "source": [
    "VBox([HBox([Button(), Button()]), cp2])"
   ]
  },
  {
   "cell_type": "code",
   "execution_count": 13,
   "metadata": {
    "collapsed": true
   },
   "outputs": [],
   "source": [
    "cp2.concise = True"
   ]
  },
  {
   "cell_type": "code",
   "execution_count": 14,
   "metadata": {
    "collapsed": true
   },
   "outputs": [],
   "source": [
    "cp2.concise = False"
   ]
  },
  {
   "cell_type": "markdown",
   "metadata": {},
   "source": [
    "**6.** Vertical slider and progress bar alignment and resize"
   ]
  },
  {
   "cell_type": "code",
   "execution_count": 15,
   "metadata": {},
   "outputs": [
    {
     "data": {
      "application/vnd.jupyter.widget-view+json": {
       "model_id": "13024b81a9564271bbda6f24610de286"
      }
     },
     "metadata": {},
     "output_type": "display_data"
    }
   ],
   "source": [
    "HBox([IntSlider(description='Slider', orientation='vertical', height='200px'),\n",
    "      FloatProgress(description='Progress', value=50, orientation='vertical', height='200px')])"
   ]
  },
  {
   "cell_type": "code",
   "execution_count": 16,
   "metadata": {},
   "outputs": [
    {
     "data": {
      "application/vnd.jupyter.widget-view+json": {
       "model_id": "e5e199263b0c4549923ce1ba07789f7e"
      }
     },
     "metadata": {},
     "output_type": "display_data"
    }
   ],
   "source": [
    "HBox([IntSlider(description='Slider', orientation='vertical'),\n",
    "      FloatProgress(description='Progress', value=50, orientation='vertical')])"
   ]
  },
  {
   "cell_type": "markdown",
   "metadata": {},
   "source": [
    "**7.** Tabs\n",
    "\n"
   ]
  },
  {
   "cell_type": "code",
   "execution_count": 17,
   "metadata": {},
   "outputs": [
    {
     "data": {
      "application/vnd.jupyter.widget-view+json": {
       "model_id": "11336cf7f0a84335a40bb3564edd3fef"
      }
     },
     "metadata": {},
     "output_type": "display_data"
    }
   ],
   "source": [
    "t = Tab(children=[FloatText(), IntSlider()], _titles={0: 'Text', 1: 'Slider'})\n",
    "t"
   ]
  },
  {
   "cell_type": "code",
   "execution_count": 18,
   "metadata": {
    "collapsed": true
   },
   "outputs": [],
   "source": [
    "t.selected_index = 1"
   ]
  },
  {
   "cell_type": "code",
   "execution_count": null,
   "metadata": {
    "collapsed": true
   },
   "outputs": [],
   "source": []
  }
 ],
 "metadata": {
  "kernelspec": {
   "display_name": "Python 3",
   "language": "python",
   "name": "python3"
  },
  "language_info": {
   "codemirror_mode": {
    "name": "ipython",
    "version": 3
   },
   "file_extension": ".py",
   "mimetype": "text/x-python",
   "name": "python",
   "nbconvert_exporter": "python",
   "pygments_lexer": "ipython3",
   "version": "3.5.2"
  },
  "widgets": {
   "application/vnd.jupyter.widget-state+json": {
    "state": {
     "019a1bfa805d4f828abb0f925232fd9f": {
      "model_module": "jupyter-js-widgets",
      "model_module_version": "*",
      "model_name": "TextModel",
      "state": {
       "layout": "IPY_MODEL_8c6bf30bb9f548e78de8586c5365443a"
      }
     },
     "05aa4ea834484fdb8a44acf06fa5b1d6": {
      "model_module": "jupyter-js-widgets",
      "model_module_version": "*",
      "model_name": "ButtonModel",
      "state": {
       "layout": "IPY_MODEL_d301c59f21944bba8923da0a072b942e"
      }
     },
     "07147dd91e9042b6830da309024b368f": {
      "model_module": "jupyter-js-widgets",
      "model_module_version": "*",
      "model_name": "HBoxModel",
      "state": {
       "children": [
        "IPY_MODEL_8a92d6d74d3341f7933ea5f83f8868b1",
        "IPY_MODEL_ddaf24a0626c443782e1d0d7d3b95624",
        "IPY_MODEL_9c417fae6e334318b2cb44f9a473275a",
        "IPY_MODEL_c4ce88e31ff44782ba1f19c4d87c1b74",
        "IPY_MODEL_3a7afd1bafd8421b8e63575143cf4308"
       ],
       "layout": "IPY_MODEL_3d5dd1230cd444f9a670bc81fb186a1b"
      }
     },
     "08917f97ee354fc39245af6023965e4d": {
      "model_module": "jupyter-js-widgets",
      "model_module_version": "*",
      "model_name": "ProgressModel",
      "state": {
       "description": "Progress",
       "layout": "IPY_MODEL_1e2705990e3a4272bbc0cbdb5f4af55b",
       "orientation": "vertical",
       "step": 0.1,
       "value": 50
      }
     },
     "0a6fb63d2ea14bbd9a7de69781dc4b9a": {
      "model_module": "jupyter-js-widgets",
      "model_module_version": "*",
      "model_name": "LayoutModel",
      "state": {}
     },
     "0b2b89292a2945578424324964fc8dce": {
      "model_module": "jupyter-js-widgets",
      "model_module_version": "*",
      "model_name": "LayoutModel",
      "state": {}
     },
     "0f916f3e37744853ba73906010bec66a": {
      "model_module": "jupyter-js-widgets",
      "model_module_version": "*",
      "model_name": "LayoutModel",
      "state": {}
     },
     "10a22d4990a842ae92ab70a0b16c6c95": {
      "model_module": "jupyter-js-widgets",
      "model_module_version": "*",
      "model_name": "VBoxModel",
      "state": {
       "children": [
        "IPY_MODEL_26dbcaea85de484498c611ec06b4e9c7",
        "IPY_MODEL_377f4077ce4749b3b99b07e55d6a77f9",
        "IPY_MODEL_66b9df9db46547339d1544bb9a8750e6"
       ],
       "layout": "IPY_MODEL_0f916f3e37744853ba73906010bec66a"
      }
     },
     "11336cf7f0a84335a40bb3564edd3fef": {
      "model_module": "jupyter-js-widgets",
      "model_module_version": "*",
      "model_name": "TabModel",
      "state": {
       "_titles": {
        "0": "Text",
        "1": "Slider"
       },
       "children": [
        "IPY_MODEL_5c2766725fa942778e6811e70774b7e0",
        "IPY_MODEL_389679d586ed48d9893758724c20e233"
       ],
       "layout": "IPY_MODEL_ceb374824f4c4d3b8d59b473e31678e3",
       "selected_index": 1
      }
     },
     "13024b81a9564271bbda6f24610de286": {
      "model_module": "jupyter-js-widgets",
      "model_module_version": "*",
      "model_name": "HBoxModel",
      "state": {
       "children": [
        "IPY_MODEL_cfd376cbde2744c4a41e7ff2c8e7083b",
        "IPY_MODEL_08917f97ee354fc39245af6023965e4d"
       ],
       "layout": "IPY_MODEL_89ee1fb3eec54e49826af8476e983508"
      }
     },
     "13def7fbd0184cf387b10fd3c81fbcd9": {
      "model_module": "jupyter-js-widgets",
      "model_module_version": "*",
      "model_name": "LayoutModel",
      "state": {}
     },
     "152582459e094d97b63434c24581ddb5": {
      "model_module": "jupyter-js-widgets",
      "model_module_version": "*",
      "model_name": "DropdownModel",
      "state": {
       "_options_labels": [
        "foo",
        "bar"
       ],
       "description": "Choice",
       "layout": "IPY_MODEL_91119b34108a4d13993fba59d1c71119",
       "value": "foo"
      }
     },
     "17f56ba6aaf3406cb8291e64054378d1": {
      "model_module": "jupyter-js-widgets",
      "model_module_version": "*",
      "model_name": "LayoutModel",
      "state": {}
     },
     "1caa189eea144ee79bf3cf218d2726ae": {
      "model_module": "jupyter-js-widgets",
      "model_module_version": "*",
      "model_name": "LayoutModel",
      "state": {}
     },
     "1e2705990e3a4272bbc0cbdb5f4af55b": {
      "model_module": "jupyter-js-widgets",
      "model_module_version": "*",
      "model_name": "LayoutModel",
      "state": {}
     },
     "2362597db27d4367ae93f24c25cf09bf": {
      "model_module": "jupyter-js-widgets",
      "model_module_version": "*",
      "model_name": "LayoutModel",
      "state": {}
     },
     "25cc9373f59e448db6c00d91e55bd49d": {
      "model_module": "jupyter-js-widgets",
      "model_module_version": "*",
      "model_name": "LayoutModel",
      "state": {}
     },
     "266e84f98d214c4fbfaf5b337d9cf6bf": {
      "model_module": "jupyter-js-widgets",
      "model_module_version": "*",
      "model_name": "LayoutModel",
      "state": {}
     },
     "26dbcaea85de484498c611ec06b4e9c7": {
      "model_module": "jupyter-js-widgets",
      "model_module_version": "*",
      "model_name": "ButtonModel",
      "state": {
       "description": "Press",
       "layout": "IPY_MODEL_7351dc742172497eac900a738d2090a2"
      }
     },
     "277dc57805084152bda4343295cc0d1e": {
      "model_module": "jupyter-js-widgets",
      "model_module_version": "*",
      "model_name": "LayoutModel",
      "state": {}
     },
     "293bb7921b0b47aa9f2cfaef5a97a340": {
      "model_module": "jupyter-js-widgets",
      "model_module_version": "*",
      "model_name": "VBoxModel",
      "state": {
       "children": [
        "IPY_MODEL_423fa5377e6b4992be111cc9edbabebf",
        "IPY_MODEL_56feda37e0ca42f3a2802c847e6c7675",
        "IPY_MODEL_6e20fec74abf444599ca365b9e07782e",
        "IPY_MODEL_6c279a2f633c4166b21df9363138711f"
       ],
       "layout": "IPY_MODEL_17f56ba6aaf3406cb8291e64054378d1"
      }
     },
     "2cf4b271b8814f859d8321dbe05fb2e9": {
      "model_module": "jupyter-js-widgets",
      "model_module_version": "*",
      "model_name": "LayoutModel",
      "state": {}
     },
     "36b40565d39b46c2b0fa46dcf0f8c08b": {
      "model_module": "jupyter-js-widgets",
      "model_module_version": "*",
      "model_name": "ToggleButtonModel",
      "state": {
       "layout": "IPY_MODEL_5eb8744c213a4bf69f5b7c9c7523d6c0"
      }
     },
     "377f4077ce4749b3b99b07e55d6a77f9": {
      "model_module": "jupyter-js-widgets",
      "model_module_version": "*",
      "model_name": "DropdownModel",
      "state": {
       "_options_labels": [
        "a",
        "b"
       ],
       "layout": "IPY_MODEL_99088a93173a4fc3a742cd90d244a6ce",
       "value": "a"
      }
     },
     "38406d8569de4026903220a0c09219c3": {
      "model_module": "jupyter-js-widgets",
      "model_module_version": "*",
      "model_name": "LayoutModel",
      "state": {}
     },
     "3886564f0dfa45ef8a21ddeaf760cc90": {
      "model_module": "jupyter-js-widgets",
      "model_module_version": "*",
      "model_name": "HBoxModel",
      "state": {
       "children": [
        "IPY_MODEL_5c8a6444acc942019761a35f99fca6ae",
        "IPY_MODEL_d6b56dddbd724afc87609a72e1830322"
       ],
       "layout": "IPY_MODEL_49f421165c0b4e10b4fbe60041e363c5"
      }
     },
     "389679d586ed48d9893758724c20e233": {
      "model_module": "jupyter-js-widgets",
      "model_module_version": "*",
      "model_name": "IntSliderModel",
      "state": {
       "layout": "IPY_MODEL_2362597db27d4367ae93f24c25cf09bf"
      }
     },
     "3a7afd1bafd8421b8e63575143cf4308": {
      "model_module": "jupyter-js-widgets",
      "model_module_version": "*",
      "model_name": "CheckboxModel",
      "state": {
       "description": "Check",
       "disabled": false,
       "layout": "IPY_MODEL_52a8cf0b1fb64cde97460e865d0a2427",
       "value": false
      }
     },
     "3af80d33a38a4783b1a4c2645131949b": {
      "model_module": "jupyter-js-widgets",
      "model_module_version": "*",
      "model_name": "LayoutModel",
      "state": {}
     },
     "3d5c7a1634b54cf2bbde3bcc04dda9e6": {
      "model_module": "jupyter-js-widgets",
      "model_module_version": "*",
      "model_name": "LayoutModel",
      "state": {}
     },
     "3d5dd1230cd444f9a670bc81fb186a1b": {
      "model_module": "jupyter-js-widgets",
      "model_module_version": "*",
      "model_name": "LayoutModel",
      "state": {}
     },
     "423fa5377e6b4992be111cc9edbabebf": {
      "model_module": "jupyter-js-widgets",
      "model_module_version": "*",
      "model_name": "HBoxModel",
      "state": {
       "children": [
        "IPY_MODEL_b2ffa1438e264e4192492b77351925fe",
        "IPY_MODEL_d42c5c9e3c6d425599d6984a657d83bb"
       ],
       "layout": "IPY_MODEL_5e336c44b33b45d687fd22b715fa3fbb"
      }
     },
     "45e1e13874e4468d96fe97c587513e10": {
      "model_module": "jupyter-js-widgets",
      "model_module_version": "*",
      "model_name": "HBoxModel",
      "state": {
       "children": [
        "IPY_MODEL_5330ff386d544d908c35081335bdd786",
        "IPY_MODEL_5e5bc4ebc71d42679b4bbe3d7285eaff"
       ],
       "layout": "IPY_MODEL_b3d830928a3e433491eafdbd78987a7a"
      }
     },
     "4828ad2682e6428fb6b8c6cdc8e8c48e": {
      "model_module": "jupyter-js-widgets",
      "model_module_version": "*",
      "model_name": "VBoxModel",
      "state": {
       "children": [
        "IPY_MODEL_3886564f0dfa45ef8a21ddeaf760cc90",
        "IPY_MODEL_d4825fe3e5ee4642aaf3d006fe7bad75"
       ],
       "layout": "IPY_MODEL_be17097f3dcc4850bb17d6259226b8c9"
      }
     },
     "49f421165c0b4e10b4fbe60041e363c5": {
      "model_module": "jupyter-js-widgets",
      "model_module_version": "*",
      "model_name": "LayoutModel",
      "state": {}
     },
     "4c9f55724b2442a79e3a020041caad04": {
      "model_module": "jupyter-js-widgets",
      "model_module_version": "*",
      "model_name": "LayoutModel",
      "state": {}
     },
     "4e25c85115b54581a7a49ff27257ce90": {
      "model_module": "jupyter-js-widgets",
      "model_module_version": "*",
      "model_name": "ColorPickerModel",
      "state": {
       "description": "Color",
       "layout": "IPY_MODEL_855517eb1d844973b79134d33c0bedf0"
      }
     },
     "4f4254520e84480b8a19881400f1f367": {
      "model_module": "jupyter-js-widgets",
      "model_module_version": "*",
      "model_name": "DropdownModel",
      "state": {
       "_options_labels": [
        "foo",
        "bar"
       ],
       "description": "Foobar",
       "layout": "IPY_MODEL_b6ebd933e35b4d8bb8b38bdbaab456c8",
       "value": "foo"
      }
     },
     "505fd68519ce4075959678465634810b": {
      "model_module": "jupyter-js-widgets",
      "model_module_version": "*",
      "model_name": "VBoxModel",
      "state": {
       "children": [
        "IPY_MODEL_8a34c519356a4ea5955249cd79608d65",
        "IPY_MODEL_07147dd91e9042b6830da309024b368f",
        "IPY_MODEL_5645494c66b2407799723e2754a71a37"
       ],
       "layout": "IPY_MODEL_e02b4b8a7e8740bb8f310fd6a815965c"
      }
     },
     "513f3bac9c444a6fb73faeb03d9420ee": {
      "model_module": "jupyter-js-widgets",
      "model_module_version": "*",
      "model_name": "LayoutModel",
      "state": {}
     },
     "517abde41720431085f35ab650abb7e3": {
      "model_module": "jupyter-js-widgets",
      "model_module_version": "*",
      "model_name": "ButtonModel",
      "state": {
       "layout": "IPY_MODEL_25cc9373f59e448db6c00d91e55bd49d"
      }
     },
     "52a8cf0b1fb64cde97460e865d0a2427": {
      "model_module": "jupyter-js-widgets",
      "model_module_version": "*",
      "model_name": "LayoutModel",
      "state": {}
     },
     "5330ff386d544d908c35081335bdd786": {
      "model_module": "jupyter-js-widgets",
      "model_module_version": "*",
      "model_name": "ButtonModel",
      "state": {
       "layout": "IPY_MODEL_8f9721f1d4fb43c984eec976fc501a3b"
      }
     },
     "558bd5d305dd4efca537e73a4c8ce23c": {
      "model_module": "jupyter-js-widgets",
      "model_module_version": "*",
      "model_name": "TextModel",
      "state": {
       "layout": "IPY_MODEL_13def7fbd0184cf387b10fd3c81fbcd9"
      }
     },
     "5645494c66b2407799723e2754a71a37": {
      "model_module": "jupyter-js-widgets",
      "model_module_version": "*",
      "model_name": "HBoxModel",
      "state": {
       "children": [
        "IPY_MODEL_36b40565d39b46c2b0fa46dcf0f8c08b",
        "IPY_MODEL_79f2eda50ff2482194619d1d4856a048",
        "IPY_MODEL_9595b7312a504c8a8d670c0f48716513",
        "IPY_MODEL_e39512f17ba047e9a143cfe995d198c2"
       ],
       "layout": "IPY_MODEL_59de813dc8e54bcb98c4897764a7c4d2"
      }
     },
     "56feda37e0ca42f3a2802c847e6c7675": {
      "model_module": "jupyter-js-widgets",
      "model_module_version": "*",
      "model_name": "HBoxModel",
      "state": {
       "children": [
        "IPY_MODEL_019a1bfa805d4f828abb0f925232fd9f",
        "IPY_MODEL_9b59fea42b394a6ab85c55ac6f95eb35"
       ],
       "layout": "IPY_MODEL_c657edca9f3947b39e354a7ddf169f3e"
      }
     },
     "59de813dc8e54bcb98c4897764a7c4d2": {
      "model_module": "jupyter-js-widgets",
      "model_module_version": "*",
      "model_name": "LayoutModel",
      "state": {}
     },
     "5b94e232e12741c8819f47ba230b6f8c": {
      "model_module": "jupyter-js-widgets",
      "model_module_version": "*",
      "model_name": "LayoutModel",
      "state": {}
     },
     "5c2766725fa942778e6811e70774b7e0": {
      "model_module": "jupyter-js-widgets",
      "model_module_version": "*",
      "model_name": "FloatTextModel",
      "state": {
       "layout": "IPY_MODEL_c3246716d4af4056b6d3199b34760ba6"
      }
     },
     "5c8a6444acc942019761a35f99fca6ae": {
      "model_module": "jupyter-js-widgets",
      "model_module_version": "*",
      "model_name": "ButtonModel",
      "state": {
       "layout": "IPY_MODEL_2cf4b271b8814f859d8321dbe05fb2e9"
      }
     },
     "5c951e3054e84845b8cbe88258fdcf54": {
      "model_module": "jupyter-js-widgets",
      "model_module_version": "*",
      "model_name": "LayoutModel",
      "state": {}
     },
     "5e336c44b33b45d687fd22b715fa3fbb": {
      "model_module": "jupyter-js-widgets",
      "model_module_version": "*",
      "model_name": "LayoutModel",
      "state": {}
     },
     "5e5bc4ebc71d42679b4bbe3d7285eaff": {
      "model_module": "jupyter-js-widgets",
      "model_module_version": "*",
      "model_name": "ButtonModel",
      "state": {
       "layout": "IPY_MODEL_873a466b33414acab9c8e791ec856c2f"
      }
     },
     "5eb8744c213a4bf69f5b7c9c7523d6c0": {
      "model_module": "jupyter-js-widgets",
      "model_module_version": "*",
      "model_name": "LayoutModel",
      "state": {}
     },
     "66b9df9db46547339d1544bb9a8750e6": {
      "model_module": "jupyter-js-widgets",
      "model_module_version": "*",
      "model_name": "ButtonModel",
      "state": {
       "description": "Button",
       "layout": "IPY_MODEL_d09f203bb8b4424d8d5aa7d6ce35fe64"
      }
     },
     "67565f80cde54bc09bd294024e9c72b5": {
      "model_module": "jupyter-js-widgets",
      "model_module_version": "*",
      "model_name": "VBoxModel",
      "state": {
       "children": [
        "IPY_MODEL_9d256900cad344998c9a07cccfb07e75",
        "IPY_MODEL_7b12f9a5b75a41cd818d52e192764d47",
        "IPY_MODEL_45e1e13874e4468d96fe97c587513e10"
       ],
       "layout": "IPY_MODEL_513f3bac9c444a6fb73faeb03d9420ee"
      }
     },
     "6a4060ae60eb4e99be34371186d351e1": {
      "model_module": "jupyter-js-widgets",
      "model_module_version": "*",
      "model_name": "LayoutModel",
      "state": {}
     },
     "6b1b0a5bd71f445bafc908160d9bca30": {
      "model_module": "jupyter-js-widgets",
      "model_module_version": "*",
      "model_name": "CheckboxModel",
      "state": {
       "disabled": false,
       "layout": "IPY_MODEL_3d5c7a1634b54cf2bbde3bcc04dda9e6",
       "value": false
      }
     },
     "6c279a2f633c4166b21df9363138711f": {
      "model_module": "jupyter-js-widgets",
      "model_module_version": "*",
      "model_name": "ControllerModel",
      "state": {
       "layout": "IPY_MODEL_ce9ef157bb4646039c0e135d97262382"
      }
     },
     "6e20fec74abf444599ca365b9e07782e": {
      "model_module": "jupyter-js-widgets",
      "model_module_version": "*",
      "model_name": "IntSliderModel",
      "state": {
       "layout": "IPY_MODEL_a5b77a3e530d4e499f19f6a436d5721f"
      }
     },
     "7351dc742172497eac900a738d2090a2": {
      "model_module": "jupyter-js-widgets",
      "model_module_version": "*",
      "model_name": "LayoutModel",
      "state": {}
     },
     "7911ca0a7b2e41f6b8d22b8e2452c6b6": {
      "model_module": "jupyter-js-widgets",
      "model_module_version": "*",
      "model_name": "VBoxModel",
      "state": {
       "children": [
        "IPY_MODEL_9fcc5e8ce536477582929246c87cec61",
        "IPY_MODEL_85e85ac418ef4f81a853f69096d1a238",
        "IPY_MODEL_c29ead97ef6b44ada5ebc83e002a3963"
       ],
       "layout": "IPY_MODEL_5b94e232e12741c8819f47ba230b6f8c"
      }
     },
     "79f2eda50ff2482194619d1d4856a048": {
      "model_module": "jupyter-js-widgets",
      "model_module_version": "*",
      "model_name": "IntSliderModel",
      "state": {
       "description": "Foobar",
       "layout": "IPY_MODEL_8108a293a2794631adbcefb646bb1282"
      }
     },
     "7b12f9a5b75a41cd818d52e192764d47": {
      "model_module": "jupyter-js-widgets",
      "model_module_version": "*",
      "model_name": "ColorPickerModel",
      "state": {
       "description": "foobar",
       "layout": "IPY_MODEL_c6fc161c096f4aadb826367f888601c4"
      }
     },
     "8108a293a2794631adbcefb646bb1282": {
      "model_module": "jupyter-js-widgets",
      "model_module_version": "*",
      "model_name": "LayoutModel",
      "state": {}
     },
     "82ccaa51a7c34c8aac52793597949fbe": {
      "model_module": "jupyter-js-widgets",
      "model_module_version": "*",
      "model_name": "LayoutModel",
      "state": {}
     },
     "839cc81dbce14df9a0050832aff4eafd": {
      "model_module": "jupyter-js-widgets",
      "model_module_version": "*",
      "model_name": "LayoutModel",
      "state": {}
     },
     "855517eb1d844973b79134d33c0bedf0": {
      "model_module": "jupyter-js-widgets",
      "model_module_version": "*",
      "model_name": "LayoutModel",
      "state": {}
     },
     "85e85ac418ef4f81a853f69096d1a238": {
      "model_module": "jupyter-js-widgets",
      "model_module_version": "*",
      "model_name": "IntSliderModel",
      "state": {
       "layout": "IPY_MODEL_38406d8569de4026903220a0c09219c3"
      }
     },
     "873a466b33414acab9c8e791ec856c2f": {
      "model_module": "jupyter-js-widgets",
      "model_module_version": "*",
      "model_name": "LayoutModel",
      "state": {}
     },
     "89ee1fb3eec54e49826af8476e983508": {
      "model_module": "jupyter-js-widgets",
      "model_module_version": "*",
      "model_name": "LayoutModel",
      "state": {}
     },
     "8a34c519356a4ea5955249cd79608d65": {
      "model_module": "jupyter-js-widgets",
      "model_module_version": "*",
      "model_name": "HBoxModel",
      "state": {
       "children": [
        "IPY_MODEL_ba908a434c1041e29209f48890e440b1",
        "IPY_MODEL_e433070edad9441daa77c38971258ebf",
        "IPY_MODEL_558bd5d305dd4efca537e73a4c8ce23c",
        "IPY_MODEL_05aa4ea834484fdb8a44acf06fa5b1d6"
       ],
       "layout": "IPY_MODEL_3af80d33a38a4783b1a4c2645131949b"
      }
     },
     "8a92d6d74d3341f7933ea5f83f8868b1": {
      "model_module": "jupyter-js-widgets",
      "model_module_version": "*",
      "model_name": "ButtonModel",
      "state": {
       "layout": "IPY_MODEL_f8507eae310d4d5da793064ef7fd800e"
      }
     },
     "8c4f8c47f7f742c4a6833dfc76c80146": {
      "model_module": "jupyter-js-widgets",
      "model_module_version": "*",
      "model_name": "ButtonModel",
      "state": {
       "description": "Button",
       "layout": "IPY_MODEL_0a6fb63d2ea14bbd9a7de69781dc4b9a"
      }
     },
     "8c6bf30bb9f548e78de8586c5365443a": {
      "model_module": "jupyter-js-widgets",
      "model_module_version": "*",
      "model_name": "LayoutModel",
      "state": {}
     },
     "8dce1639d2324dcfa816bdfc94005076": {
      "model_module": "jupyter-js-widgets",
      "model_module_version": "*",
      "model_name": "IntSliderModel",
      "state": {
       "description": "Slider",
       "layout": "IPY_MODEL_5c951e3054e84845b8cbe88258fdcf54",
       "orientation": "vertical"
      }
     },
     "8e7cdfd1c68140128a3394f1f396944c": {
      "model_module": "jupyter-js-widgets",
      "model_module_version": "*",
      "model_name": "LayoutModel",
      "state": {}
     },
     "8f9721f1d4fb43c984eec976fc501a3b": {
      "model_module": "jupyter-js-widgets",
      "model_module_version": "*",
      "model_name": "LayoutModel",
      "state": {}
     },
     "91119b34108a4d13993fba59d1c71119": {
      "model_module": "jupyter-js-widgets",
      "model_module_version": "*",
      "model_name": "LayoutModel",
      "state": {}
     },
     "92a6900a6a4a4c3494f07b235287329d": {
      "model_module": "jupyter-js-widgets",
      "model_module_version": "*",
      "model_name": "LayoutModel",
      "state": {}
     },
     "9595b7312a504c8a8d670c0f48716513": {
      "model_module": "jupyter-js-widgets",
      "model_module_version": "*",
      "model_name": "DropdownModel",
      "state": {
       "_options_labels": [
        "foo",
        "bar"
       ],
       "layout": "IPY_MODEL_9ba49f0ee95f47bc894f1842e7693028",
       "value": "foo"
      }
     },
     "95dd59c3a483489aa8da4c09ef5997cc": {
      "model_module": "jupyter-js-widgets",
      "model_module_version": "*",
      "model_name": "VBoxModel",
      "state": {
       "children": [
        "IPY_MODEL_d17e89135b8e44919866c8d5b7c3cb7a",
        "IPY_MODEL_6b1b0a5bd71f445bafc908160d9bca30",
        "IPY_MODEL_e060a9023719456cb1785157bc45f395"
       ],
       "layout": "IPY_MODEL_277dc57805084152bda4343295cc0d1e"
      }
     },
     "97210b7aa2b44da5899cbb11f4778cd8": {
      "model_module": "jupyter-js-widgets",
      "model_module_version": "*",
      "model_name": "ButtonModel",
      "state": {
       "layout": "IPY_MODEL_a4ded742c1c54269b23095b9f9230cc8"
      }
     },
     "99088a93173a4fc3a742cd90d244a6ce": {
      "model_module": "jupyter-js-widgets",
      "model_module_version": "*",
      "model_name": "LayoutModel",
      "state": {}
     },
     "9b59fea42b394a6ab85c55ac6f95eb35": {
      "model_module": "jupyter-js-widgets",
      "model_module_version": "*",
      "model_name": "CheckboxModel",
      "state": {
       "description": "Check box",
       "disabled": false,
       "layout": "IPY_MODEL_deaf6b329ada4fe384a4d7275d75b1d8",
       "value": false
      }
     },
     "9ba49f0ee95f47bc894f1842e7693028": {
      "model_module": "jupyter-js-widgets",
      "model_module_version": "*",
      "model_name": "LayoutModel",
      "state": {}
     },
     "9c417fae6e334318b2cb44f9a473275a": {
      "model_module": "jupyter-js-widgets",
      "model_module_version": "*",
      "model_name": "ButtonModel",
      "state": {
       "description": "Button",
       "layout": "IPY_MODEL_b03907ae2d05434e915287dcddfe619e"
      }
     },
     "9d256900cad344998c9a07cccfb07e75": {
      "model_module": "jupyter-js-widgets",
      "model_module_version": "*",
      "model_name": "HBoxModel",
      "state": {
       "children": [
        "IPY_MODEL_fbd92d2a93a244759238c8ca83143ed5",
        "IPY_MODEL_8c4f8c47f7f742c4a6833dfc76c80146"
       ],
       "layout": "IPY_MODEL_a2f0287cde8247a4b902a2843db5c050"
      }
     },
     "9fcc5e8ce536477582929246c87cec61": {
      "model_module": "jupyter-js-widgets",
      "model_module_version": "*",
      "model_name": "ButtonModel",
      "state": {
       "layout": "IPY_MODEL_82ccaa51a7c34c8aac52793597949fbe"
      }
     },
     "a0bd5c75e6cc45dfae9aec5bd173282a": {
      "model_module": "jupyter-js-widgets",
      "model_module_version": "*",
      "model_name": "LayoutModel",
      "state": {}
     },
     "a2f0287cde8247a4b902a2843db5c050": {
      "model_module": "jupyter-js-widgets",
      "model_module_version": "*",
      "model_name": "LayoutModel",
      "state": {}
     },
     "a4ded742c1c54269b23095b9f9230cc8": {
      "model_module": "jupyter-js-widgets",
      "model_module_version": "*",
      "model_name": "LayoutModel",
      "state": {}
     },
     "a5b77a3e530d4e499f19f6a436d5721f": {
      "model_module": "jupyter-js-widgets",
      "model_module_version": "*",
      "model_name": "LayoutModel",
      "state": {}
     },
     "b03907ae2d05434e915287dcddfe619e": {
      "model_module": "jupyter-js-widgets",
      "model_module_version": "*",
      "model_name": "LayoutModel",
      "state": {}
     },
     "b2ffa1438e264e4192492b77351925fe": {
      "model_module": "jupyter-js-widgets",
      "model_module_version": "*",
      "model_name": "VBoxModel",
      "state": {
       "children": [
        "IPY_MODEL_152582459e094d97b63434c24581ddb5",
        "IPY_MODEL_4e25c85115b54581a7a49ff27257ce90",
        "IPY_MODEL_bfa8e492a7ca4428b21f9955458b938f"
       ],
       "layout": "IPY_MODEL_fa08841a58a941ddacb1ea68a37e6844"
      }
     },
     "b3d830928a3e433491eafdbd78987a7a": {
      "model_module": "jupyter-js-widgets",
      "model_module_version": "*",
      "model_name": "LayoutModel",
      "state": {}
     },
     "b6ebd933e35b4d8bb8b38bdbaab456c8": {
      "model_module": "jupyter-js-widgets",
      "model_module_version": "*",
      "model_name": "LayoutModel",
      "state": {}
     },
     "ba908a434c1041e29209f48890e440b1": {
      "model_module": "jupyter-js-widgets",
      "model_module_version": "*",
      "model_name": "ButtonModel",
      "state": {
       "layout": "IPY_MODEL_f64847f4467b4159a74c281812f1f2d8"
      }
     },
     "bca8d63b7d9d42c3a5f015511ec7658a": {
      "model_module": "jupyter-js-widgets",
      "model_module_version": "*",
      "model_name": "LayoutModel",
      "state": {}
     },
     "be17097f3dcc4850bb17d6259226b8c9": {
      "model_module": "jupyter-js-widgets",
      "model_module_version": "*",
      "model_name": "LayoutModel",
      "state": {}
     },
     "bfa8e492a7ca4428b21f9955458b938f": {
      "model_module": "jupyter-js-widgets",
      "model_module_version": "*",
      "model_name": "HBoxModel",
      "state": {
       "children": [
        "IPY_MODEL_517abde41720431085f35ab650abb7e3",
        "IPY_MODEL_97210b7aa2b44da5899cbb11f4778cd8"
       ],
       "layout": "IPY_MODEL_f1fd8c51893a4fa484798a64e059a389"
      }
     },
     "c29ead97ef6b44ada5ebc83e002a3963": {
      "model_module": "jupyter-js-widgets",
      "model_module_version": "*",
      "model_name": "ButtonModel",
      "state": {
       "layout": "IPY_MODEL_a0bd5c75e6cc45dfae9aec5bd173282a"
      }
     },
     "c3246716d4af4056b6d3199b34760ba6": {
      "model_module": "jupyter-js-widgets",
      "model_module_version": "*",
      "model_name": "LayoutModel",
      "state": {}
     },
     "c4ce88e31ff44782ba1f19c4d87c1b74": {
      "model_module": "jupyter-js-widgets",
      "model_module_version": "*",
      "model_name": "ProgressModel",
      "state": {
       "layout": "IPY_MODEL_d3aa5520722b420e87a6a77c5f94ac91",
       "step": 0.1,
       "value": 40
      }
     },
     "c657edca9f3947b39e354a7ddf169f3e": {
      "model_module": "jupyter-js-widgets",
      "model_module_version": "*",
      "model_name": "LayoutModel",
      "state": {}
     },
     "c6fc161c096f4aadb826367f888601c4": {
      "model_module": "jupyter-js-widgets",
      "model_module_version": "*",
      "model_name": "LayoutModel",
      "state": {}
     },
     "ce9ef157bb4646039c0e135d97262382": {
      "model_module": "jupyter-js-widgets",
      "model_module_version": "*",
      "model_name": "LayoutModel",
      "state": {}
     },
     "ceb374824f4c4d3b8d59b473e31678e3": {
      "model_module": "jupyter-js-widgets",
      "model_module_version": "*",
      "model_name": "LayoutModel",
      "state": {}
     },
     "ced14919b4ef4b32afd4d879706f251b": {
      "model_module": "jupyter-js-widgets",
      "model_module_version": "*",
      "model_name": "LayoutModel",
      "state": {}
     },
     "cfd376cbde2744c4a41e7ff2c8e7083b": {
      "model_module": "jupyter-js-widgets",
      "model_module_version": "*",
      "model_name": "IntSliderModel",
      "state": {
       "description": "Slider",
       "layout": "IPY_MODEL_839cc81dbce14df9a0050832aff4eafd",
       "orientation": "vertical"
      }
     },
     "d09f203bb8b4424d8d5aa7d6ce35fe64": {
      "model_module": "jupyter-js-widgets",
      "model_module_version": "*",
      "model_name": "LayoutModel",
      "state": {}
     },
     "d09feeb2d4854d339edc69a8b459421f": {
      "model_module": "jupyter-js-widgets",
      "model_module_version": "*",
      "model_name": "LayoutModel",
      "state": {}
     },
     "d17e89135b8e44919866c8d5b7c3cb7a": {
      "model_module": "jupyter-js-widgets",
      "model_module_version": "*",
      "model_name": "ButtonModel",
      "state": {
       "layout": "IPY_MODEL_6a4060ae60eb4e99be34371186d351e1"
      }
     },
     "d27398bac91444e58989c400a3dd56e4": {
      "model_module": "jupyter-js-widgets",
      "model_module_version": "*",
      "model_name": "LayoutModel",
      "state": {}
     },
     "d301c59f21944bba8923da0a072b942e": {
      "model_module": "jupyter-js-widgets",
      "model_module_version": "*",
      "model_name": "LayoutModel",
      "state": {}
     },
     "d3aa5520722b420e87a6a77c5f94ac91": {
      "model_module": "jupyter-js-widgets",
      "model_module_version": "*",
      "model_name": "LayoutModel",
      "state": {}
     },
     "d42c5c9e3c6d425599d6984a657d83bb": {
      "model_module": "jupyter-js-widgets",
      "model_module_version": "*",
      "model_name": "TextareaModel",
      "state": {
       "layout": "IPY_MODEL_ced14919b4ef4b32afd4d879706f251b",
       "value": "Lorem ipsum dolor sit amet, consectetur adipiscing elit,sed do eiusmod tempor incididunt ut labore et dolore magna aliqua. Ut enim ad minim veniam, quis nostrud exercitation ullamco laboris nisi ut aliquip ex ea commodo consequat. Duis aute irure dolor in reprehenderit in voluptate velit esse cillum dolore eu fugiat nulla pariatur. Excepteur sint occaecat cupidatat non proident, sunt in culpa qui officia deserunt mollit anim id est laborum."
      }
     },
     "d4825fe3e5ee4642aaf3d006fe7bad75": {
      "model_module": "jupyter-js-widgets",
      "model_module_version": "*",
      "model_name": "ColorPickerModel",
      "state": {
       "layout": "IPY_MODEL_1caa189eea144ee79bf3cf218d2726ae"
      }
     },
     "d6b56dddbd724afc87609a72e1830322": {
      "model_module": "jupyter-js-widgets",
      "model_module_version": "*",
      "model_name": "ButtonModel",
      "state": {
       "layout": "IPY_MODEL_d09feeb2d4854d339edc69a8b459421f"
      }
     },
     "d8dc6e7609784eea9ef9f3d9f685ee55": {
      "model_module": "jupyter-js-widgets",
      "model_module_version": "*",
      "model_name": "LayoutModel",
      "state": {}
     },
     "ddaf24a0626c443782e1d0d7d3b95624": {
      "model_module": "jupyter-js-widgets",
      "model_module_version": "*",
      "model_name": "FloatTextModel",
      "state": {
       "layout": "IPY_MODEL_4c9f55724b2442a79e3a020041caad04"
      }
     },
     "deaf6b329ada4fe384a4d7275d75b1d8": {
      "model_module": "jupyter-js-widgets",
      "model_module_version": "*",
      "model_name": "LayoutModel",
      "state": {}
     },
     "e02b4b8a7e8740bb8f310fd6a815965c": {
      "model_module": "jupyter-js-widgets",
      "model_module_version": "*",
      "model_name": "LayoutModel",
      "state": {}
     },
     "e060a9023719456cb1785157bc45f395": {
      "model_module": "jupyter-js-widgets",
      "model_module_version": "*",
      "model_name": "IntTextModel",
      "state": {
       "layout": "IPY_MODEL_8e7cdfd1c68140128a3394f1f396944c"
      }
     },
     "e1cd92f5dce34ec7968ff243247ee851": {
      "model_module": "jupyter-js-widgets",
      "model_module_version": "*",
      "model_name": "ProgressModel",
      "state": {
       "description": "Progress",
       "layout": "IPY_MODEL_0b2b89292a2945578424324964fc8dce",
       "orientation": "vertical",
       "step": 0.1,
       "value": 50
      }
     },
     "e39512f17ba047e9a143cfe995d198c2": {
      "model_module": "jupyter-js-widgets",
      "model_module_version": "*",
      "model_name": "ValidModel",
      "state": {
       "layout": "IPY_MODEL_d8dc6e7609784eea9ef9f3d9f685ee55"
      }
     },
     "e433070edad9441daa77c38971258ebf": {
      "model_module": "jupyter-js-widgets",
      "model_module_version": "*",
      "model_name": "FloatSliderModel",
      "state": {
       "_range": true,
       "layout": "IPY_MODEL_266e84f98d214c4fbfaf5b337d9cf6bf",
       "value": [
        25,
        75
       ]
      }
     },
     "e5e199263b0c4549923ce1ba07789f7e": {
      "model_module": "jupyter-js-widgets",
      "model_module_version": "*",
      "model_name": "HBoxModel",
      "state": {
       "children": [
        "IPY_MODEL_8dce1639d2324dcfa816bdfc94005076",
        "IPY_MODEL_e1cd92f5dce34ec7968ff243247ee851"
       ],
       "layout": "IPY_MODEL_92a6900a6a4a4c3494f07b235287329d"
      }
     },
     "f08356c143744bea913b8ebd20e27d75": {
      "model_module": "jupyter-js-widgets",
      "model_module_version": "*",
      "model_name": "HBoxModel",
      "state": {
       "children": [
        "IPY_MODEL_10a22d4990a842ae92ab70a0b16c6c95",
        "IPY_MODEL_95dd59c3a483489aa8da4c09ef5997cc",
        "IPY_MODEL_7911ca0a7b2e41f6b8d22b8e2452c6b6"
       ],
       "layout": "IPY_MODEL_d27398bac91444e58989c400a3dd56e4"
      }
     },
     "f1fd8c51893a4fa484798a64e059a389": {
      "model_module": "jupyter-js-widgets",
      "model_module_version": "*",
      "model_name": "LayoutModel",
      "state": {}
     },
     "f64847f4467b4159a74c281812f1f2d8": {
      "model_module": "jupyter-js-widgets",
      "model_module_version": "*",
      "model_name": "LayoutModel",
      "state": {}
     },
     "f8507eae310d4d5da793064ef7fd800e": {
      "model_module": "jupyter-js-widgets",
      "model_module_version": "*",
      "model_name": "LayoutModel",
      "state": {}
     },
     "fa08841a58a941ddacb1ea68a37e6844": {
      "model_module": "jupyter-js-widgets",
      "model_module_version": "*",
      "model_name": "LayoutModel",
      "state": {}
     },
     "fbd92d2a93a244759238c8ca83143ed5": {
      "model_module": "jupyter-js-widgets",
      "model_module_version": "*",
      "model_name": "DropdownModel",
      "state": {
       "_options_labels": [
        "foo",
        "bar"
       ],
       "layout": "IPY_MODEL_bca8d63b7d9d42c3a5f015511ec7658a",
       "value": "foo"
      }
     }
    },
    "version_major": 1,
    "version_minor": 0
   }
  }
 },
 "nbformat": 4,
 "nbformat_minor": 1
}
