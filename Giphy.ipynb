{
 "cells": [
  {
   "cell_type": "code",
   "execution_count": 1,
   "metadata": {
    "collapsed": true
   },
   "outputs": [],
   "source": [
    "import requests\n",
    "\n",
    "query_string = 'cat'\n",
    "giphy_beta_key = \"dc6zaTOxFJmzC\"\n",
    "random_gif = \"http://api.giphy.com/v1/gifs/random?api_key={}&tag={}\".format(\n",
    "    giphy_beta_key,\n",
    "    query_string)\n",
    "resp = requests.get(random_gif)\n"
   ]
  },
  {
   "cell_type": "code",
   "execution_count": 2,
   "metadata": {
    "collapsed": false
   },
   "outputs": [
    {
     "data": {
      "text/plain": [
       "{'data': {'caption': '',\n",
       "  'fixed_height_downsampled_height': '200',\n",
       "  'fixed_height_downsampled_url': 'http://media4.giphy.com/media/3o7TKvargxFJiHyf6M/200_d.gif',\n",
       "  'fixed_height_downsampled_width': '397',\n",
       "  'fixed_height_small_height': '100',\n",
       "  'fixed_height_small_still_url': 'http://media4.giphy.com/media/3o7TKvargxFJiHyf6M/100_s.gif',\n",
       "  'fixed_height_small_url': 'http://media4.giphy.com/media/3o7TKvargxFJiHyf6M/100.gif',\n",
       "  'fixed_height_small_width': '199',\n",
       "  'fixed_width_downsampled_height': '101',\n",
       "  'fixed_width_downsampled_url': 'http://media4.giphy.com/media/3o7TKvargxFJiHyf6M/200w_d.gif',\n",
       "  'fixed_width_downsampled_width': '200',\n",
       "  'fixed_width_small_height': '51',\n",
       "  'fixed_width_small_still_url': 'http://media4.giphy.com/media/3o7TKvargxFJiHyf6M/100w_s.gif',\n",
       "  'fixed_width_small_url': 'http://media4.giphy.com/media/3o7TKvargxFJiHyf6M/100w.gif',\n",
       "  'fixed_width_small_width': '100',\n",
       "  'id': '3o7TKvargxFJiHyf6M',\n",
       "  'image_frames': '53',\n",
       "  'image_height': '242',\n",
       "  'image_mp4_url': 'http://media4.giphy.com/media/3o7TKvargxFJiHyf6M/giphy.mp4',\n",
       "  'image_original_url': 'http://media4.giphy.com/media/3o7TKvargxFJiHyf6M/giphy.gif',\n",
       "  'image_url': 'http://media4.giphy.com/media/3o7TKvargxFJiHyf6M/giphy.gif',\n",
       "  'image_width': '480',\n",
       "  'type': 'gif',\n",
       "  'url': 'http://giphy.com/gifs/abcnetwork-abc-nick-3o7TKvargxFJiHyf6M',\n",
       "  'username': 'abcnetwork'},\n",
       " 'meta': {'msg': 'OK',\n",
       "  'response_id': '58754fce50c32543018e0091',\n",
       "  'status': 200}}"
      ]
     },
     "execution_count": 2,
     "metadata": {},
     "output_type": "execute_result"
    }
   ],
   "source": [
    "import json\n",
    "content = json.loads(resp.content.decode('utf-8'))\n",
    "content"
   ]
  },
  {
   "cell_type": "code",
   "execution_count": null,
   "metadata": {
    "collapsed": true
   },
   "outputs": [],
   "source": []
  }
 ],
 "metadata": {
  "kernelspec": {
   "display_name": "Python 3",
   "language": "python",
   "name": "python3"
  },
  "language_info": {
   "codemirror_mode": {
    "name": "ipython",
    "version": 3
   },
   "file_extension": ".py",
   "mimetype": "text/x-python",
   "name": "python",
   "nbconvert_exporter": "python",
   "pygments_lexer": "ipython3",
   "version": "3.5.2"
  }
 },
 "nbformat": 4,
 "nbformat_minor": 2
}
