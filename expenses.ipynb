{
 "cells": [
  {
   "cell_type": "code",
   "execution_count": 23,
   "metadata": {
    "collapsed": true,
    "slideshow": {
     "slide_type": "slide"
    }
   },
   "outputs": [],
   "source": [
    "%matplotlib inline\n",
    "import pandas as pd\n",
    "import numpy as np\n",
    "import sqlalchemy\n",
    "\n",
    "url = \"https://docs.google.com/spreadsheets/d/1AWW7q63um7WbwgdcyDQs2u9Gpyh72-SCtJ7LJus_FOU/pub?gid=332175203&single=true&output=csv\""
   ]
  },
  {
   "cell_type": "code",
   "execution_count": 24,
   "metadata": {
    "collapsed": false,
    "scrolled": true,
    "slideshow": {
     "slide_type": "slide"
    }
   },
   "outputs": [
    {
     "data": {
      "text/html": [
       "<div>\n",
       "<table border=\"1\" class=\"dataframe\">\n",
       "  <thead>\n",
       "    <tr style=\"text-align: right;\">\n",
       "      <th></th>\n",
       "      <th>Timestamp</th>\n",
       "      <th>date</th>\n",
       "      <th>what</th>\n",
       "      <th>price</th>\n",
       "      <th>category</th>\n",
       "    </tr>\n",
       "  </thead>\n",
       "  <tbody>\n",
       "    <tr>\n",
       "      <th>0</th>\n",
       "      <td>1/11/2017 10:25:19</td>\n",
       "      <td>1/12/2017</td>\n",
       "      <td>food</td>\n",
       "      <td>23.0</td>\n",
       "      <td>food</td>\n",
       "    </tr>\n",
       "    <tr>\n",
       "      <th>1</th>\n",
       "      <td>1/11/2017 10:27:52</td>\n",
       "      <td>1/10/2017</td>\n",
       "      <td>bus</td>\n",
       "      <td>2.0</td>\n",
       "      <td>transport</td>\n",
       "    </tr>\n",
       "    <tr>\n",
       "      <th>2</th>\n",
       "      <td>1/11/2017 10:29:25</td>\n",
       "      <td>1/11/2017</td>\n",
       "      <td>coffee</td>\n",
       "      <td>2.5</td>\n",
       "      <td>food</td>\n",
       "    </tr>\n",
       "    <tr>\n",
       "      <th>3</th>\n",
       "      <td>1/11/2017 10:32:16</td>\n",
       "      <td>1/11/2017</td>\n",
       "      <td>ice cream</td>\n",
       "      <td>3.0</td>\n",
       "      <td>food</td>\n",
       "    </tr>\n",
       "  </tbody>\n",
       "</table>\n",
       "</div>"
      ],
      "text/plain": [
       "            Timestamp       date       what  price   category\n",
       "0  1/11/2017 10:25:19  1/12/2017       food   23.0       food\n",
       "1  1/11/2017 10:27:52  1/10/2017        bus    2.0  transport\n",
       "2  1/11/2017 10:29:25  1/11/2017     coffee    2.5       food\n",
       "3  1/11/2017 10:32:16  1/11/2017  ice cream    3.0       food"
      ]
     },
     "execution_count": 24,
     "metadata": {},
     "output_type": "execute_result"
    }
   ],
   "source": [
    "df = pd.read_csv(url)\n",
    "df"
   ]
  },
  {
   "cell_type": "code",
   "execution_count": 8,
   "metadata": {
    "collapsed": false,
    "slideshow": {
     "slide_type": "slide"
    }
   },
   "outputs": [],
   "source": [
    "!rm -f expenses.db\n",
    "engine = sqlalchemy.create_engine('sqlite:///expenses.db')"
   ]
  },
  {
   "cell_type": "code",
   "execution_count": 9,
   "metadata": {
    "collapsed": false,
    "slideshow": {
     "slide_type": "notes"
    }
   },
   "outputs": [],
   "source": [
    "CREATE_TABLE = \"\"\"\n",
    "CREATE TABLE expenses(\n",
    "    id INT PRIMARY KEY,\n",
    "    date CHAR(20),\n",
    "    what CHAR(20),\n",
    "    price FLOAT,\n",
    "    category CHAR(20)\n",
    ")\n",
    "\"\"\"\n",
    "# engine.execute(CREATE_TABLE)"
   ]
  },
  {
   "cell_type": "code",
   "execution_count": 10,
   "metadata": {
    "collapsed": false,
    "slideshow": {
     "slide_type": "slide"
    }
   },
   "outputs": [],
   "source": [
    "# write the whole dataframe to a new table (that must not already exist)\n",
    "df.to_sql('expenses', engine)"
   ]
  },
  {
   "cell_type": "code",
   "execution_count": 11,
   "metadata": {
    "collapsed": false,
    "slideshow": {
     "slide_type": "slide"
    }
   },
   "outputs": [
    {
     "data": {
      "text/plain": [
       "[(0, '1/11/2017 10:25:19', '1/12/2017', 'food', 23.0, 'food'),\n",
       " (1, '1/11/2017 10:27:52', '1/10/2017', 'bus', 2.0, 'transport'),\n",
       " (2, '1/11/2017 10:29:25', '1/11/2017', 'coffee', 2.5, 'food')]"
      ]
     },
     "execution_count": 11,
     "metadata": {},
     "output_type": "execute_result"
    }
   ],
   "source": [
    "list(engine.execute('SELECT * FROM expenses'))"
   ]
  },
  {
   "cell_type": "code",
   "execution_count": 12,
   "metadata": {
    "collapsed": false,
    "slideshow": {
     "slide_type": "slide"
    }
   },
   "outputs": [
    {
     "data": {
      "text/html": [
       "<div>\n",
       "<table border=\"1\" class=\"dataframe\">\n",
       "  <thead>\n",
       "    <tr style=\"text-align: right;\">\n",
       "      <th></th>\n",
       "      <th>index</th>\n",
       "      <th>Timestamp</th>\n",
       "      <th>date</th>\n",
       "      <th>what</th>\n",
       "      <th>price</th>\n",
       "      <th>category</th>\n",
       "    </tr>\n",
       "  </thead>\n",
       "  <tbody>\n",
       "    <tr>\n",
       "      <th>1</th>\n",
       "      <td>1</td>\n",
       "      <td>1/11/2017 10:27:52</td>\n",
       "      <td>1/10/2017</td>\n",
       "      <td>bus</td>\n",
       "      <td>2.0</td>\n",
       "      <td>transport</td>\n",
       "    </tr>\n",
       "  </tbody>\n",
       "</table>\n",
       "</div>"
      ],
      "text/plain": [
       "   index           Timestamp       date what  price   category\n",
       "1      1  1/11/2017 10:27:52  1/10/2017  bus    2.0  transport"
      ]
     },
     "execution_count": 12,
     "metadata": {},
     "output_type": "execute_result"
    }
   ],
   "source": [
    "pd.read_sql(\"select * from expenses where category = 'transport'\", engine)\n",
    "# equivalent to\n",
    "df = pd.read_sql('select * from expenses', engine)\n",
    "df[df.category == 'transport']"
   ]
  },
  {
   "cell_type": "code",
   "execution_count": null,
   "metadata": {
    "collapsed": true
   },
   "outputs": [],
   "source": []
  }
 ],
 "metadata": {
  "celltoolbar": "Slideshow",
  "kernelspec": {
   "display_name": "Python 3",
   "language": "python",
   "name": "python3"
  },
  "language_info": {
   "codemirror_mode": {
    "name": "ipython",
    "version": 3
   },
   "file_extension": ".py",
   "mimetype": "text/x-python",
   "name": "python",
   "nbconvert_exporter": "python",
   "pygments_lexer": "ipython3",
   "version": "3.5.2"
  }
 },
 "nbformat": 4,
 "nbformat_minor": 2
}
