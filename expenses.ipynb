{
 "cells": [
  {
   "cell_type": "code",
   "execution_count": 3,
   "metadata": {
    "collapsed": true
   },
   "outputs": [],
   "source": [
    "%matplotlib inline\n",
    "import pandas as pd\n",
    "import numpy as np\n",
    "import sqlalchemy\n",
    "\n",
    "url = \"https://docs.google.com/spreadsheets/d/1AWW7q63um7WbwgdcyDQs2u9Gpyh72-SCtJ7LJus_FOU/pub?gid=0&single=true&output=csv\""
   ]
  },
  {
   "cell_type": "code",
   "execution_count": 5,
   "metadata": {
    "collapsed": false
   },
   "outputs": [],
   "source": [
    "df = pd.read_csv(url)\n"
   ]
  },
  {
   "cell_type": "code",
   "execution_count": 7,
   "metadata": {
    "collapsed": false
   },
   "outputs": [],
   "source": [
    "engine = sqlalchemy.create_engine('sqlite:///expenses.db')"
   ]
  },
  {
   "cell_type": "code",
   "execution_count": 15,
   "metadata": {
    "collapsed": false,
    "slideshow": {
     "slide_type": "notes"
    }
   },
   "outputs": [
    {
     "data": {
      "text/plain": [
       "<sqlalchemy.engine.result.ResultProxy at 0x7f1182948860>"
      ]
     },
     "execution_count": 15,
     "metadata": {},
     "output_type": "execute_result"
    }
   ],
   "source": [
    "CREATE_TABLE = \"\"\"\n",
    "CREATE TABLE expenses(\n",
    "    id INT PRIMARY KEY,\n",
    "    date CHAR(20),\n",
    "    what CHAR(20),\n",
    "    price FLOAT,\n",
    "    category CHAR(20)\n",
    ")\n",
    "\"\"\"\n",
    "engine.execute(CREATE_TABLE)"
   ]
  },
  {
   "cell_type": "code",
   "execution_count": 18,
   "metadata": {
    "collapsed": false
   },
   "outputs": [],
   "source": [
    "# write the whole dataframe to a new table (that must not already exist)\n",
    "df.to_sql('expenses', engine)"
   ]
  },
  {
   "cell_type": "code",
   "execution_count": 20,
   "metadata": {
    "collapsed": false
   },
   "outputs": [
    {
     "data": {
      "text/plain": [
       "[(0, '2017/01/01', 'coffee', 2.5, 'food'),\n",
       " (1, '2017/01/02', 'cinema', 12.0, 'entertainment'),\n",
       " (2, '2017/01/02', 'tube', 4.0, 'transport'),\n",
       " (3, '2017/01/02', 'tube', 3.5, 'transport'),\n",
       " (4, '2017/01/04', 'book', 10.0, 'entertainment')]"
      ]
     },
     "execution_count": 20,
     "metadata": {},
     "output_type": "execute_result"
    }
   ],
   "source": [
    "list(engine.execute('SELECT * FROM expenses'))"
   ]
  },
  {
   "cell_type": "code",
   "execution_count": 25,
   "metadata": {
    "collapsed": false
   },
   "outputs": [
    {
     "data": {
      "text/html": [
       "<div>\n",
       "<table border=\"1\" class=\"dataframe\">\n",
       "  <thead>\n",
       "    <tr style=\"text-align: right;\">\n",
       "      <th></th>\n",
       "      <th>index</th>\n",
       "      <th>when</th>\n",
       "      <th>what</th>\n",
       "      <th>price</th>\n",
       "      <th>category</th>\n",
       "    </tr>\n",
       "  </thead>\n",
       "  <tbody>\n",
       "    <tr>\n",
       "      <th>2</th>\n",
       "      <td>2</td>\n",
       "      <td>2017/01/02</td>\n",
       "      <td>tube</td>\n",
       "      <td>4.0</td>\n",
       "      <td>transport</td>\n",
       "    </tr>\n",
       "    <tr>\n",
       "      <th>3</th>\n",
       "      <td>3</td>\n",
       "      <td>2017/01/02</td>\n",
       "      <td>tube</td>\n",
       "      <td>3.5</td>\n",
       "      <td>transport</td>\n",
       "    </tr>\n",
       "  </tbody>\n",
       "</table>\n",
       "</div>"
      ],
      "text/plain": [
       "   index        when  what  price   category\n",
       "2      2  2017/01/02  tube    4.0  transport\n",
       "3      3  2017/01/02  tube    3.5  transport"
      ]
     },
     "execution_count": 25,
     "metadata": {},
     "output_type": "execute_result"
    }
   ],
   "source": [
    "pd.read_sql(\"select * from expenses where category = 'transport'\", engine)\n",
    "# equivalent to\n",
    "df = pd.read_sql('select * from expenses', engine)\n",
    "df[df.category == 'transport']"
   ]
  },
  {
   "cell_type": "code",
   "execution_count": null,
   "metadata": {
    "collapsed": true
   },
   "outputs": [],
   "source": []
  }
 ],
 "metadata": {
  "celltoolbar": "Slideshow",
  "kernelspec": {
   "display_name": "Python 3",
   "language": "python",
   "name": "python3"
  },
  "language_info": {
   "codemirror_mode": {
    "name": "ipython",
    "version": 3
   },
   "file_extension": ".py",
   "mimetype": "text/x-python",
   "name": "python",
   "nbconvert_exporter": "python",
   "pygments_lexer": "ipython3",
   "version": "3.5.2"
  }
 },
 "nbformat": 4,
 "nbformat_minor": 2
}
