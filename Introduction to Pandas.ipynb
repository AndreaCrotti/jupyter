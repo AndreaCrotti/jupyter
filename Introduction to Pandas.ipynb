{
 "cells": [
  {
   "cell_type": "markdown",
   "metadata": {
    "collapsed": false,
    "slideshow": {
     "slide_type": "-"
    }
   },
   "source": [
    "# Pandas\n",
    "Pandas is an open source providing high-performance, easy-to-use\n",
    "data structures and data analysis tools for the Python programming\n",
    "language."
   ]
  },
  {
   "cell_type": "markdown",
   "metadata": {},
   "source": [
    "## Features\n",
    "- concept of DataFrame, which is an in memory object with integrated indexing.\n",
    "- easy ways to import export data from other formats (CSV..)\n",
    "- merging and joining of data sets\n",
    "- fancy slicing, indexing subsetting of data\n",
    "- ways to reshape data"
   ]
  },
  {
   "cell_type": "code",
   "execution_count": 1,
   "metadata": {
    "collapsed": false
   },
   "outputs": [],
   "source": [
    "import pandas as pd"
   ]
  },
  {
   "cell_type": "code",
   "execution_count": null,
   "metadata": {
    "collapsed": false
   },
   "outputs": [],
   "source": [
    "three = [(0, 0, 0), (1, 2, 3), (2, 4, 6)]\n",
    "pd.DataFrame(three)"
   ]
  },
  {
   "cell_type": "code",
   "execution_count": null,
   "metadata": {
    "collapsed": false
   },
   "outputs": [],
   "source": [
    "mult_table = []\n",
    "for i in range(10):\n",
    "    mult_table.append([i * j for j in range(10)])\n",
    "\n",
    "pd.DataFrame(mult_table)"
   ]
  },
  {
   "cell_type": "code",
   "execution_count": null,
   "metadata": {
    "collapsed": false
   },
   "outputs": [],
   "source": [
    "def mult_table(size):\n",
    "    mult_table = []\n",
    "    for i in range(size):\n",
    "        mult_table.append([i * j for j in range(size)])\n",
    "    return pd.DataFrame(mult_table)\n",
    "\n",
    "big_table = mult_table(1000)"
   ]
  },
  {
   "cell_type": "code",
   "execution_count": null,
   "metadata": {
    "collapsed": false
   },
   "outputs": [],
   "source": [
    "big_table.describe()"
   ]
  },
  {
   "cell_type": "code",
   "execution_count": null,
   "metadata": {
    "collapsed": true
   },
   "outputs": [],
   "source": [
    "import sqlite3\n",
    "from os import path, remove\n",
    "DB_NAME = \"stocks.db\"\n",
    "if path.isfile(DB_NAME):\n",
    "    remove(DB_NAME)\n",
    "\n",
    "connection = sqlite3.connect(DB_NAME)"
   ]
  },
  {
   "cell_type": "code",
   "execution_count": null,
   "metadata": {
    "collapsed": true
   },
   "outputs": [],
   "source": [
    "cursor = connection.cursor()"
   ]
  },
  {
   "cell_type": "code",
   "execution_count": null,
   "metadata": {
    "collapsed": false
   },
   "outputs": [],
   "source": [
    "cursor.execute('''CREATE TABLE stocks (date text, trans text, symbol text, qty real, price real)''')"
   ]
  },
  {
   "cell_type": "code",
   "execution_count": null,
   "metadata": {
    "collapsed": false
   },
   "outputs": [],
   "source": [
    "cursor.execute(\"INSERT INTO stocks VALUES ('2006-01-05','BUY','RHAT',100,35.14)\")"
   ]
  },
  {
   "cell_type": "code",
   "execution_count": null,
   "metadata": {
    "collapsed": false
   },
   "outputs": [],
   "source": [
    "stocks = pd.read_sql(\"SELECT * FROM stocks\", connection)\n",
    "stocks"
   ]
  },
  {
   "cell_type": "code",
   "execution_count": null,
   "metadata": {
    "collapsed": false
   },
   "outputs": [],
   "source": [
    "stocks.dtypes"
   ]
  },
  {
   "cell_type": "code",
   "execution_count": null,
   "metadata": {
    "collapsed": false
   },
   "outputs": [],
   "source": [
    "stocks.dtypes"
   ]
  },
  {
   "cell_type": "code",
   "execution_count": null,
   "metadata": {
    "collapsed": false
   },
   "outputs": [],
   "source": [
    "%matplotlib inline"
   ]
  },
  {
   "cell_type": "code",
   "execution_count": null,
   "metadata": {
    "collapsed": false
   },
   "outputs": [],
   "source": [
    "boring_plot = stocks.qty.plot(kind='bar')"
   ]
  },
  {
   "cell_type": "markdown",
   "metadata": {},
   "source": [
    "![more data](https://s-media-cache-ak0.pinimg.com/736x/cf/93/eb/cf93ebaa36952a708f6e1851a8e26e9b.jpg)"
   ]
  },
  {
   "cell_type": "code",
   "execution_count": null,
   "metadata": {
    "collapsed": false
   },
   "outputs": [],
   "source": [
    "stocks.dtypes"
   ]
  },
  {
   "cell_type": "code",
   "execution_count": null,
   "metadata": {
    "collapsed": true
   },
   "outputs": [],
   "source": [
    "import random\n",
    "# clear the table before populating\n",
    "# cursor.execute('DELETE FROM stocks')\n",
    "for n in range(1000):\n",
    "    rand_date = '2015-{}-{}'.format(random.randrange(1, 12), random.randrange(1, 31))\n",
    "    trans = random.choice(['BUY', 'SELL'])\n",
    "    symbol = random.choice(['APL', 'RHAT', 'MSFT'])\n",
    "    qty = random.randrange(1, 1000)\n",
    "    price = random.random() * 100\n",
    "    data = str((rand_date, trans, symbol, qty, price))\n",
    "    cursor.execute('INSERT INTO stocks VALUES %s' % data)"
   ]
  },
  {
   "cell_type": "code",
   "execution_count": null,
   "metadata": {
    "collapsed": false
   },
   "outputs": [],
   "source": [
    "new_stocks = pd.read_sql(\"SELECT * FROM stocks\", connection)\n",
    "new_stocks[:10]"
   ]
  },
  {
   "cell_type": "code",
   "execution_count": null,
   "metadata": {
    "collapsed": false
   },
   "outputs": [],
   "source": [
    "# plot the apple stock options over time\n",
    "apple_stocks = pd.DataFrame(data=new_stocks[new_stocks.symbol == 'APL'],\n",
    "                            columns=['date', 'price'])\n",
    "\n",
    "apple_stocks.sort('date').plot(x='date', y='price')"
   ]
  },
  {
   "cell_type": "markdown",
   "metadata": {},
   "source": [
    "### And finally export to Excel"
   ]
  },
  {
   "cell_type": "code",
   "execution_count": null,
   "metadata": {
    "collapsed": false
   },
   "outputs": [],
   "source": [
    "new_stocks.to_excel('output.xls')"
   ]
  },
  {
   "cell_type": "code",
   "execution_count": null,
   "metadata": {
    "collapsed": true
   },
   "outputs": [],
   "source": [
    "!libreoffice output.xls"
   ]
  }
 ],
 "metadata": {
  "kernelspec": {
   "display_name": "Python 3",
   "language": "python",
   "name": "python3"
  },
  "language_info": {
   "codemirror_mode": {
    "name": "ipython",
    "version": 3
   },
   "file_extension": ".py",
   "mimetype": "text/x-python",
   "name": "python",
   "nbconvert_exporter": "python",
   "pygments_lexer": "ipython3",
   "version": "3.5.2"
  }
 },
 "nbformat": 4,
 "nbformat_minor": 0
}
